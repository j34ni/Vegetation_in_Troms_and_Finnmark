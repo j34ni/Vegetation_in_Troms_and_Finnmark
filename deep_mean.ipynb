{
 "cells": [
  {
   "cell_type": "markdown",
   "id": "ebda7988-9931-4f00-93b4-e3877066f742",
   "metadata": {},
   "source": [
    "# Forecasting moss & lichen fractional cover mean\n",
    "## with a Neural Network using Keras\n",
    "## (Reading input and output files stored locally as .csv)\n",
    "## (Writing X_train, X_test, y_train, y_test locally as .csv too)\n",
    "#\n",
    "# For lichen output only"
   ]
  },
  {
   "cell_type": "code",
   "execution_count": 1,
   "id": "5baa0fb0-0f66-4d52-9a68-c5fe600050b2",
   "metadata": {},
   "outputs": [
    {
     "name": "stdout",
     "output_type": "stream",
     "text": [
      "Starting imports\n",
      "Finished imports\n"
     ]
    }
   ],
   "source": [
    "print('Starting imports')\n",
    "import numpy as np\n",
    "import os\n",
    "import pandas as pd\n",
    "from sklearn.model_selection import train_test_split\n",
    "print('Finished imports')"
   ]
  },
  {
   "cell_type": "code",
   "execution_count": 2,
   "id": "e8a2b848-4334-4efe-af09-31f436ba527e",
   "metadata": {},
   "outputs": [
    {
     "name": "stdout",
     "output_type": "stream",
     "text": [
      "Reading  /home/jovyan/Arctic/Vegetation_in_Troms_and_Finnmark/data/input_mean_tp2.csv\n",
      "Read\n",
      "Input\n",
      "Number of rows: 3,842\n",
      "Number of columns: 8785\n",
      "Reading  /home/jovyan/Arctic/Vegetation_in_Troms_and_Finnmark/data/output_mean_tp2.csv\n",
      "Read\n",
      "Output\n",
      "Number of rows: 3,842\n",
      "Number of columns: 1\n"
     ]
    }
   ],
   "source": [
    "# Reading local .csv files\n",
    "path = '/home/jovyan/Arctic/Vegetation_in_Troms_and_Finnmark/data/'\n",
    "input_file = os.path.join(path, 'input_mean_tp2.csv')\n",
    "print('Reading ', input_file)\n",
    "input = pd.read_csv(input_file)\n",
    "print('Read')\n",
    "\n",
    "print('Input')\n",
    "print(f'Number of rows: {input.shape[0]:,}')\n",
    "print(f'Number of columns: {input.shape[1]}')\n",
    "\n",
    "output_file = os.path.join(path, 'output_mean_tp2.csv')\n",
    "print('Reading ', output_file)\n",
    "output = pd.read_csv(output_file)\n",
    "print('Read')\n",
    "\n",
    "print('Output')\n",
    "print(f'Number of rows: {output.shape[0]:,}')\n",
    "print(f'Number of columns: {output.shape[1]}')"
   ]
  },
  {
   "cell_type": "code",
   "execution_count": 3,
   "id": "27e5a719-f240-47a0-8997-175c8c93dd31",
   "metadata": {},
   "outputs": [],
   "source": [
    "# Split data into training and test sets, \n",
    "X_train, X_test, y_train, y_test = train_test_split(input, output, test_size = 0.2, random_state = 0, shuffle = True)"
   ]
  },
  {
   "cell_type": "code",
   "execution_count": 4,
   "id": "dbbe284b-d573-429f-a35b-2b9af4979bfa",
   "metadata": {},
   "outputs": [
    {
     "name": "stdout",
     "output_type": "stream",
     "text": [
      "X_train\n",
      "X_test\n",
      "y_train\n",
      "y_test\n"
     ]
    }
   ],
   "source": [
    "print('X_train')\n",
    "X_train\n",
    "X_train_file = os.path.join(path, 'X_mean_tp2_train.hdf')\n",
    "X_train.to_hdf(X_train_file, key='df', mode=\"w\", index=False)\n",
    "\n",
    "print('X_test')\n",
    "X_test\n",
    "X_test_file = os.path.join(path, 'X_mean_tp2_test.hdf')\n",
    "X_test.to_hdf(X_test_file, key='df', mode=\"w\",  index=False)\n",
    "\n",
    "print('y_train')\n",
    "y_train\n",
    "y_train_file = os.path.join(path, 'y_mean_tp2_train.hdf')\n",
    "y_train.to_hdf(y_train_file, key='dg', mode=\"w\", index=False)\n",
    "\n",
    "print('y_test')\n",
    "y_test \n",
    "y_test_file = os.path.join(path, 'y_mean_tp2_test.hdf')\n",
    "y_test.to_hdf(y_test_file, key='dg', mode=\"w\", index=False)"
   ]
  },
  {
   "cell_type": "code",
   "execution_count": 5,
   "id": "3dacf4de-859e-4c05-b814-bd05d90901f0",
   "metadata": {},
   "outputs": [
    {
     "name": "stdout",
     "output_type": "stream",
     "text": [
      "Finished!\n"
     ]
    }
   ],
   "source": [
    "print('Finished!')"
   ]
  },
  {
   "cell_type": "code",
   "execution_count": null,
   "id": "b7dbdc6a-1ce1-4fac-ad47-06f95dd3cd4b",
   "metadata": {},
   "outputs": [],
   "source": []
  }
 ],
 "metadata": {
  "kernelspec": {
   "display_name": "Python 3 (ipykernel)",
   "language": "python",
   "name": "python3"
  },
  "language_info": {
   "codemirror_mode": {
    "name": "ipython",
    "version": 3
   },
   "file_extension": ".py",
   "mimetype": "text/x-python",
   "name": "python",
   "nbconvert_exporter": "python",
   "pygments_lexer": "ipython3",
   "version": "3.9.13"
  }
 },
 "nbformat": 4,
 "nbformat_minor": 5
}

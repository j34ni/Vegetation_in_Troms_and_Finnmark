{
 "cells": [
  {
   "cell_type": "markdown",
   "id": "9aa474da-a6c1-4f68-ac58-222f19efdfd7",
   "metadata": {},
   "source": [
    "# Retrieve cds.climate.copernicus.eu/ data with the CDS API\n",
    "# One variable per file, **netCDF-3** format (which is *not recommended*)\n",
    "## ERA5-Land hourly data from 2015-01-01 to 2019-12-31\n",
    "### cds.climate.copernicus.eu/cdsapp#!/dataset/reanalysis-era5-land?tab=form\n",
    "#\n",
    "# Then saves the data in a local netCDF \n",
    "#\n",
    "# Also saves it on EOSC/CESNET (requires credentials not disclosed here)"
   ]
  },
  {
   "cell_type": "markdown",
   "id": "8f9bb673-a798-4f9e-9454-a478cc480204",
   "metadata": {},
   "source": [
    "**ERA5-Land** is a reanalysis dataset providing a consistent view of the evolution of land variables over several decades at an enhanced resolution compared to ERA5. ERA5-Land has been produced by replaying the land component of the ECMWF ERA5 climate reanalysis. Reanalysis combines model data with observations from across the world into a globally complete and consistent dataset using the laws of physics. Reanalysis produces data that goes several decades back in time, providing an accurate description of the climate of the past."
   ]
  },
  {
   "cell_type": "code",
   "execution_count": null,
   "id": "87b52a49-5076-410f-9006-c27d1fa013b2",
   "metadata": {},
   "outputs": [],
   "source": [
    "import pkg_resources\n",
    "if not any(list(map(lambda i: i.key == 'cdsapi', pkg_resources.working_set))):\n",
    "    !pip install cdsapi"
   ]
  },
  {
   "cell_type": "code",
   "execution_count": null,
   "id": "3513f801-5cf8-4687-83c3-38492d11ac78",
   "metadata": {},
   "outputs": [],
   "source": [
    "import cdsapi"
   ]
  },
  {
   "cell_type": "code",
   "execution_count": null,
   "id": "0e51e3ab-3275-482a-829d-afa224ba7a92",
   "metadata": {},
   "outputs": [],
   "source": [
    "c = cdsapi.Client()"
   ]
  },
  {
   "cell_type": "code",
   "execution_count": null,
   "id": "ed4dc0f7-e5e2-4c4f-8de2-dfc5b6fb11c4",
   "metadata": {},
   "outputs": [],
   "source": [
    "def cds_download(path, year, month, variable):\n",
    "    c.retrieve(\n",
    "        'reanalysis-era5-land',\n",
    "        {\n",
    "            'variable': variable,\n",
    "            'year': year,\n",
    "            'month': month,\n",
    "            'day': ['01', '02', '03', '04', '05', '06', '07', '08', '09', '10', '11', '12', '13', '14', '15',\n",
    "                    '16', '17', '18', '19', '20', '21', '22', '23', '24', '25', '26', '27', '28', '29', '30', '31'],\n",
    "            'time': ['00:00', '01:00', '02:00', '03:00', '04:00', '05:00', '06:00', '07:00', '08:00', '09:00', '10:00', '11:00',\n",
    "                     '12:00', '13:00', '14:00', '15:00', '16:00', '17:00', '18:00', '19:00', '20:00', '21:00', '22:00', '23:00'],\n",
    "            'area': [71.18, 15.59, 68.35, 31.06],\n",
    "            'format': 'netcdf'\n",
    "        },\n",
    "        path + variable + '_' + year + '_' + month + '.nc')\n",
    "    return"
   ]
  },
  {
   "cell_type": "code",
   "execution_count": null,
   "id": "1fd30bf8-9f24-4b48-b74d-4e7bb07d59ca",
   "metadata": {},
   "outputs": [],
   "source": [
    "path = '/home/jovyan/data/nc/'"
   ]
  },
  {
   "cell_type": "code",
   "execution_count": null,
   "id": "4d6b91d9-5a59-47c1-a9ca-38e03dbbe473",
   "metadata": {},
   "outputs": [],
   "source": [
    "variables =  ['2m_temperature', 'total_precipitation']\n",
    "for year in range(2019, 2015 - 1, -1):\n",
    "    for month in ['01', '02', '03', '04', '05', '06', '07', '08', '09', '10', '11', '12']:\n",
    "        for variable in variables:\n",
    "            print('cds_download (\"' + path + 'reanalysis-era5-land_' + str(year) + '_' + month + '.nc\", [\"' + variable + '\"])')\n",
    "            #cds_download (path + 'reanalysis-era5-land_', str(year), month, variable)"
   ]
  },
  {
   "cell_type": "markdown",
   "id": "b23e8b24-acc0-48a4-9c17-8848f3aed1c7",
   "metadata": {},
   "source": [
    "# Combine individual files into a single file and save it to local disk"
   ]
  },
  {
   "cell_type": "code",
   "execution_count": null,
   "id": "e93a5cef-ab3f-4639-a15d-801dc33003c4",
   "metadata": {},
   "outputs": [],
   "source": [
    "import os\n",
    "import glob\n",
    "import xarray as xr"
   ]
  },
  {
   "cell_type": "code",
   "execution_count": null,
   "id": "0eea4bae-b32c-44b5-8704-1e7e9e5001df",
   "metadata": {},
   "outputs": [],
   "source": [
    "path = '/home/jovyan/data/netCDF/'\n",
    "filename = 'reanalysis-era5-land_*.nc'\n",
    "files =  glob.glob(os.path.join(path, filename))\n",
    "files.sort()\n",
    "files"
   ]
  },
  {
   "cell_type": "code",
   "execution_count": null,
   "id": "3f1de296-2949-4655-8808-a984a537a7e6",
   "metadata": {},
   "outputs": [],
   "source": [
    "ERA5land = xr.open_mfdataset(files)"
   ]
  },
  {
   "cell_type": "code",
   "execution_count": null,
   "id": "23e8db40-5006-45bd-a07d-438835ddc8c7",
   "metadata": {},
   "outputs": [],
   "source": [
    "ERA5land"
   ]
  },
  {
   "cell_type": "markdown",
   "id": "4a55e1be-c469-4486-a91e-5377a38b2e43",
   "metadata": {},
   "source": [
    "### Save ERA5-land data locally as a single netCDF file"
   ]
  },
  {
   "cell_type": "code",
   "execution_count": null,
   "id": "132623aa-faeb-4a01-b1a5-0064da7f61b4",
   "metadata": {},
   "outputs": [],
   "source": [
    "netCDF_name = 'reanalysis-era5-land_hourly_2015-01-01_2019-12-31_Troms-Finnmark_T2m-SD-TP.nc'\n",
    "path = '/home/jovyan/data/'\n",
    "ERA5land.to_netcdf(path + netCDF_name, engine='netcdf4')"
   ]
  },
  {
   "cell_type": "markdown",
   "id": "19f61df1-5529-476f-bfe1-cac1b29c5d7a",
   "metadata": {},
   "source": [
    "# Define s3 storage parameters"
   ]
  },
  {
   "cell_type": "code",
   "execution_count": null,
   "id": "1befbd0f-f6ae-49fc-8c28-46eb5de10d4f",
   "metadata": {},
   "outputs": [],
   "source": [
    "import s3fs\n",
    "s3_path = 'Data'\n",
    "s3_prefix =  \"s3://\" + s3_path\n",
    "print(s3_prefix)\n",
    "access_key = !aws configure get aws_access_key_id\n",
    "access_key = access_key[0]\n",
    "secret_key = !aws configure get aws_secret_access_key\n",
    "secret_key = secret_key[0]\n",
    "client_kwargs={'endpoint_url': 'https://object-store.cloud.muni.cz'}"
   ]
  },
  {
   "cell_type": "markdown",
   "id": "1fb0572e-d6ff-4e68-9565-b63307c95067",
   "metadata": {},
   "source": [
    "### Define s3 store for the **netCDF file**"
   ]
  },
  {
   "cell_type": "code",
   "execution_count": null,
   "id": "fcf7a6da-c2ac-43a8-a351-89e21338a308",
   "metadata": {},
   "outputs": [],
   "source": [
    "url_netCDF = os.path.join(s3_prefix, os.path.basename(netCDF_name))\n",
    "print(url_netCDF)"
   ]
  },
  {
   "cell_type": "markdown",
   "id": "ae3d8876-116c-4593-8b26-e074e86c99ed",
   "metadata": {},
   "source": [
    "### Write in remote S3 storage at https://object.store.cloud.muni.cz **as netCDF**"
   ]
  },
  {
   "cell_type": "code",
   "execution_count": null,
   "id": "f1228468-1834-4d3d-bab5-137cca449b2b",
   "metadata": {},
   "outputs": [],
   "source": [
    "store_netCDF = s3fs.S3FileSystem(client_kwargs=client_kwargs, key=access_key, secret=secret_key)\n",
    "print(path + netCDF_name, url_netCDF)\n",
    "store_netCDF.put(path + netCDF_name, url_netCDF)"
   ]
  },
  {
   "cell_type": "markdown",
   "id": "b12dc636-40fd-44a5-b567-cf88cb4c66ec",
   "metadata": {},
   "source": [
    "## Check that the data was effectively stored at https://object-store.cloud.muni.cz and can be read by anyone (anonymously)"
   ]
  },
  {
   "cell_type": "code",
   "execution_count": null,
   "id": "8ed964e4-04e3-46e1-8d2b-414c4f503157",
   "metadata": {},
   "outputs": [],
   "source": [
    "store = s3fs.S3FileSystem(anon=False, client_kwargs=client_kwargs)\n",
    "store.ls('Data', detail=True, refresh=True)"
   ]
  },
  {
   "cell_type": "code",
   "execution_count": null,
   "id": "ea585e07-94ce-443d-a28f-be8baccd47a7",
   "metadata": {},
   "outputs": [],
   "source": [
    "s3path = 'Data/reanalysis-era5-land_hourly_2015-01-01_2022-12-31_Troms-Finnmark_T2m-SD-TP.nc'"
   ]
  },
  {
   "cell_type": "code",
   "execution_count": null,
   "id": "1a8286b1-13d1-4221-9414-21da50e1240b",
   "metadata": {},
   "outputs": [],
   "source": [
    "ERA5land = xr.open_dataset(store.open(s3path))\n",
    "ERA5land"
   ]
  }
 ],
 "metadata": {
  "kernelspec": {
   "display_name": "Python 3 (ipykernel)",
   "language": "python",
   "name": "python3"
  },
  "language_info": {
   "codemirror_mode": {
    "name": "ipython",
    "version": 3
   },
   "file_extension": ".py",
   "mimetype": "text/x-python",
   "name": "python",
   "nbconvert_exporter": "python",
   "pygments_lexer": "ipython3",
   "version": "3.9.13"
  }
 },
 "nbformat": 4,
 "nbformat_minor": 5
}

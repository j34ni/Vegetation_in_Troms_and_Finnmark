{
 "cells": [
  {
   "cell_type": "markdown",
   "id": "f4bc2fe6-4b57-40ea-b3db-3dfaff8137d7",
   "metadata": {},
   "source": [
    "# Prepare labelled input for the Machine Learning algorithm\n",
    "# (i.e. locations where moss&lichen fractional cover changes can be related to meteorological parameters from ERA5-Land)"
   ]
  },
  {
   "cell_type": "markdown",
   "id": "71ae09bf-d2b3-4288-b2bf-bece71e6034d",
   "metadata": {},
   "source": [
    "# Copernicus Global Land Cover\n",
    "## Percentage of 100m pixel that is covered by a specific class of land cover\n",
    "## Valid values 0\t100, 200 = masked sea, 255 = missing"
   ]
  },
  {
   "cell_type": "code",
   "execution_count": 1,
   "id": "3e2ce510-3a0b-414f-bc25-49de0e83169c",
   "metadata": {},
   "outputs": [
    {
     "name": "stdout",
     "output_type": "stream",
     "text": [
      "Sun Mar 12 16:10:07 UTC 2023\n"
     ]
    }
   ],
   "source": [
    "!date"
   ]
  },
  {
   "cell_type": "code",
   "execution_count": 2,
   "id": "b3819559-6ae6-4426-9161-1365a7afb449",
   "metadata": {
    "tags": []
   },
   "outputs": [
    {
     "name": "stdout",
     "output_type": "stream",
     "text": [
      "Requirement already satisfied: vaex in /srv/conda/envs/notebook/lib/python3.9/site-packages (4.16.0)\n",
      "Requirement already satisfied: vaex-jupyter<0.9,>=0.8.1 in /srv/conda/envs/notebook/lib/python3.9/site-packages (from vaex) (0.8.1)\n",
      "Requirement already satisfied: vaex-core<4.17,>=4.16.0 in /srv/conda/envs/notebook/lib/python3.9/site-packages (from vaex) (4.16.1)\n",
      "Requirement already satisfied: vaex-ml<0.19,>=0.18.1 in /srv/conda/envs/notebook/lib/python3.9/site-packages (from vaex) (0.18.1)\n",
      "Requirement already satisfied: vaex-viz<0.6,>=0.5.4 in /srv/conda/envs/notebook/lib/python3.9/site-packages (from vaex) (0.5.4)\n",
      "Requirement already satisfied: vaex-astro<0.10,>=0.9.3 in /srv/conda/envs/notebook/lib/python3.9/site-packages (from vaex) (0.9.3)\n",
      "Requirement already satisfied: vaex-server<0.9,>=0.8.1 in /srv/conda/envs/notebook/lib/python3.9/site-packages (from vaex) (0.8.1)\n",
      "Requirement already satisfied: vaex-hdf5<0.15,>=0.13.0 in /srv/conda/envs/notebook/lib/python3.9/site-packages (from vaex) (0.14.1)\n",
      "Requirement already satisfied: astropy in /srv/conda/envs/notebook/lib/python3.9/site-packages (from vaex-astro<0.10,>=0.9.3->vaex) (5.1)\n",
      "Requirement already satisfied: dask!=2022.4.0 in /srv/conda/envs/notebook/lib/python3.9/site-packages (from vaex-core<4.17,>=4.16.0->vaex) (2022.8.0)\n",
      "Requirement already satisfied: rich in /srv/conda/envs/notebook/lib/python3.9/site-packages (from vaex-core<4.17,>=4.16.0->vaex) (13.3.2)\n",
      "Requirement already satisfied: pydantic>=1.8.0 in /srv/conda/envs/notebook/lib/python3.9/site-packages (from vaex-core<4.17,>=4.16.0->vaex) (1.9.2)\n",
      "Requirement already satisfied: filelock in /srv/conda/envs/notebook/lib/python3.9/site-packages (from vaex-core<4.17,>=4.16.0->vaex) (3.9.0)\n",
      "Requirement already satisfied: blake3 in /srv/conda/envs/notebook/lib/python3.9/site-packages (from vaex-core<4.17,>=4.16.0->vaex) (0.3.3)\n",
      "Requirement already satisfied: numpy>=1.16 in /srv/conda/envs/notebook/lib/python3.9/site-packages (from vaex-core<4.17,>=4.16.0->vaex) (1.23.2)\n",
      "Requirement already satisfied: pyarrow>=5.0.0 in /srv/conda/envs/notebook/lib/python3.9/site-packages (from vaex-core<4.17,>=4.16.0->vaex) (9.0.0)\n",
      "Requirement already satisfied: requests in /srv/conda/envs/notebook/lib/python3.9/site-packages (from vaex-core<4.17,>=4.16.0->vaex) (2.28.1)\n",
      "Requirement already satisfied: future>=0.15.2 in /srv/conda/envs/notebook/lib/python3.9/site-packages (from vaex-core<4.17,>=4.16.0->vaex) (0.18.2)\n",
      "Requirement already satisfied: cloudpickle in /srv/conda/envs/notebook/lib/python3.9/site-packages (from vaex-core<4.17,>=4.16.0->vaex) (2.1.0)\n",
      "Requirement already satisfied: nest-asyncio>=1.3.3 in /srv/conda/envs/notebook/lib/python3.9/site-packages (from vaex-core<4.17,>=4.16.0->vaex) (1.5.5)\n",
      "Requirement already satisfied: progressbar2 in /srv/conda/envs/notebook/lib/python3.9/site-packages (from vaex-core<4.17,>=4.16.0->vaex) (4.2.0)\n",
      "Requirement already satisfied: frozendict!=2.2.0 in /srv/conda/envs/notebook/lib/python3.9/site-packages (from vaex-core<4.17,>=4.16.0->vaex) (2.3.5)\n",
      "Requirement already satisfied: pandas in /srv/conda/envs/notebook/lib/python3.9/site-packages (from vaex-core<4.17,>=4.16.0->vaex) (1.4.3)\n",
      "Requirement already satisfied: aplus in /srv/conda/envs/notebook/lib/python3.9/site-packages (from vaex-core<4.17,>=4.16.0->vaex) (0.11.0)\n",
      "Requirement already satisfied: six in /srv/conda/envs/notebook/lib/python3.9/site-packages (from vaex-core<4.17,>=4.16.0->vaex) (1.16.0)\n",
      "Requirement already satisfied: tabulate>=0.8.3 in /srv/conda/envs/notebook/lib/python3.9/site-packages (from vaex-core<4.17,>=4.16.0->vaex) (0.8.10)\n",
      "Requirement already satisfied: pyyaml in /srv/conda/envs/notebook/lib/python3.9/site-packages (from vaex-core<4.17,>=4.16.0->vaex) (5.4.1)\n",
      "Requirement already satisfied: h5py>=2.9 in /srv/conda/envs/notebook/lib/python3.9/site-packages (from vaex-hdf5<0.15,>=0.13.0->vaex) (3.7.0)\n",
      "Requirement already satisfied: ipyvuetify<2,>=1.2.2 in /srv/conda/envs/notebook/lib/python3.9/site-packages (from vaex-jupyter<0.9,>=0.8.1->vaex) (1.8.4)\n",
      "Requirement already satisfied: bqplot>=0.10.1 in /srv/conda/envs/notebook/lib/python3.9/site-packages (from vaex-jupyter<0.9,>=0.8.1->vaex) (0.12.36)\n",
      "Requirement already satisfied: ipympl in /srv/conda/envs/notebook/lib/python3.9/site-packages (from vaex-jupyter<0.9,>=0.8.1->vaex) (0.9.3)\n",
      "Requirement already satisfied: xarray in /srv/conda/envs/notebook/lib/python3.9/site-packages (from vaex-jupyter<0.9,>=0.8.1->vaex) (2022.6.0)\n",
      "Requirement already satisfied: ipyleaflet in /srv/conda/envs/notebook/lib/python3.9/site-packages (from vaex-jupyter<0.9,>=0.8.1->vaex) (0.17.0)\n",
      "Requirement already satisfied: ipyvolume>=0.4 in /srv/conda/envs/notebook/lib/python3.9/site-packages (from vaex-jupyter<0.9,>=0.8.1->vaex) (0.6.1)\n",
      "Requirement already satisfied: numba in /srv/conda/envs/notebook/lib/python3.9/site-packages (from vaex-ml<0.19,>=0.18.1->vaex) (0.53.1)\n",
      "Requirement already satisfied: jinja2 in /srv/conda/envs/notebook/lib/python3.9/site-packages (from vaex-ml<0.19,>=0.18.1->vaex) (3.1.2)\n",
      "Requirement already satisfied: traitlets in /srv/conda/envs/notebook/lib/python3.9/site-packages (from vaex-ml<0.19,>=0.18.1->vaex) (5.3.0)\n",
      "Requirement already satisfied: tornado>4.1 in /srv/conda/envs/notebook/lib/python3.9/site-packages (from vaex-server<0.9,>=0.8.1->vaex) (6.1)\n",
      "Requirement already satisfied: fastapi in /srv/conda/envs/notebook/lib/python3.9/site-packages (from vaex-server<0.9,>=0.8.1->vaex) (0.79.1)\n",
      "Requirement already satisfied: uvicorn[standard] in /srv/conda/envs/notebook/lib/python3.9/site-packages (from vaex-server<0.9,>=0.8.1->vaex) (0.18.2)\n",
      "Requirement already satisfied: cachetools in /srv/conda/envs/notebook/lib/python3.9/site-packages (from vaex-server<0.9,>=0.8.1->vaex) (5.2.0)\n",
      "Requirement already satisfied: pillow in /srv/conda/envs/notebook/lib/python3.9/site-packages (from vaex-viz<0.6,>=0.5.4->vaex) (9.2.0)\n",
      "Requirement already satisfied: matplotlib>=1.3.1 in /srv/conda/envs/notebook/lib/python3.9/site-packages (from vaex-viz<0.6,>=0.5.4->vaex) (3.5.3)\n",
      "Requirement already satisfied: traittypes>=0.0.6 in /srv/conda/envs/notebook/lib/python3.9/site-packages (from bqplot>=0.10.1->vaex-jupyter<0.9,>=0.8.1->vaex) (0.2.1)\n",
      "Requirement already satisfied: ipywidgets<9,>=7.5.0 in /srv/conda/envs/notebook/lib/python3.9/site-packages (from bqplot>=0.10.1->vaex-jupyter<0.9,>=0.8.1->vaex) (7.7.1)\n",
      "Requirement already satisfied: partd>=0.3.10 in /srv/conda/envs/notebook/lib/python3.9/site-packages (from dask!=2022.4.0->vaex-core<4.17,>=4.16.0->vaex) (1.3.0)\n",
      "Requirement already satisfied: packaging>=20.0 in /srv/conda/envs/notebook/lib/python3.9/site-packages (from dask!=2022.4.0->vaex-core<4.17,>=4.16.0->vaex) (21.3)\n",
      "Requirement already satisfied: fsspec>=0.6.0 in /srv/conda/envs/notebook/lib/python3.9/site-packages (from dask!=2022.4.0->vaex-core<4.17,>=4.16.0->vaex) (2022.7.1)\n",
      "Requirement already satisfied: toolz>=0.8.2 in /srv/conda/envs/notebook/lib/python3.9/site-packages (from dask!=2022.4.0->vaex-core<4.17,>=4.16.0->vaex) (0.12.0)\n",
      "Requirement already satisfied: ipyvue>=1.7.0 in /srv/conda/envs/notebook/lib/python3.9/site-packages (from ipyvolume>=0.4->vaex-jupyter<0.9,>=0.8.1->vaex) (1.9.0)\n",
      "Requirement already satisfied: ipywebrtc in /srv/conda/envs/notebook/lib/python3.9/site-packages (from ipyvolume>=0.4->vaex-jupyter<0.9,>=0.8.1->vaex) (0.6.0)\n",
      "Requirement already satisfied: pythreejs>=2.4.0 in /srv/conda/envs/notebook/lib/python3.9/site-packages (from ipyvolume>=0.4->vaex-jupyter<0.9,>=0.8.1->vaex) (2.4.2)\n",
      "Requirement already satisfied: fonttools>=4.22.0 in /srv/conda/envs/notebook/lib/python3.9/site-packages (from matplotlib>=1.3.1->vaex-viz<0.6,>=0.5.4->vaex) (4.36.0)\n",
      "Requirement already satisfied: python-dateutil>=2.7 in /srv/conda/envs/notebook/lib/python3.9/site-packages (from matplotlib>=1.3.1->vaex-viz<0.6,>=0.5.4->vaex) (2.8.2)\n",
      "Requirement already satisfied: pyparsing>=2.2.1 in /srv/conda/envs/notebook/lib/python3.9/site-packages (from matplotlib>=1.3.1->vaex-viz<0.6,>=0.5.4->vaex) (3.0.9)\n",
      "Requirement already satisfied: kiwisolver>=1.0.1 in /srv/conda/envs/notebook/lib/python3.9/site-packages (from matplotlib>=1.3.1->vaex-viz<0.6,>=0.5.4->vaex) (1.4.4)\n",
      "Requirement already satisfied: cycler>=0.10 in /srv/conda/envs/notebook/lib/python3.9/site-packages (from matplotlib>=1.3.1->vaex-viz<0.6,>=0.5.4->vaex) (0.11.0)\n",
      "Requirement already satisfied: pytz>=2020.1 in /srv/conda/envs/notebook/lib/python3.9/site-packages (from pandas->vaex-core<4.17,>=4.16.0->vaex) (2022.2.1)\n",
      "Requirement already satisfied: typing-extensions>=3.7.4.3 in /srv/conda/envs/notebook/lib/python3.9/site-packages (from pydantic>=1.8.0->vaex-core<4.17,>=4.16.0->vaex) (4.3.0)\n",
      "Requirement already satisfied: pyerfa>=2.0 in /srv/conda/envs/notebook/lib/python3.9/site-packages (from astropy->vaex-astro<0.10,>=0.9.3->vaex) (2.0.0.1)\n",
      "Requirement already satisfied: starlette==0.19.1 in /srv/conda/envs/notebook/lib/python3.9/site-packages (from fastapi->vaex-server<0.9,>=0.8.1->vaex) (0.19.1)\n",
      "Requirement already satisfied: anyio<5,>=3.4.0 in /srv/conda/envs/notebook/lib/python3.9/site-packages (from starlette==0.19.1->fastapi->vaex-server<0.9,>=0.8.1->vaex) (3.6.1)\n",
      "Requirement already satisfied: xyzservices>=2021.8.1 in /srv/conda/envs/notebook/lib/python3.9/site-packages (from ipyleaflet->vaex-jupyter<0.9,>=0.8.1->vaex) (2022.6.0)\n",
      "Requirement already satisfied: ipython<9 in /srv/conda/envs/notebook/lib/python3.9/site-packages (from ipympl->vaex-jupyter<0.9,>=0.8.1->vaex) (8.4.0)\n",
      "Requirement already satisfied: ipython-genutils in /srv/conda/envs/notebook/lib/python3.9/site-packages (from ipympl->vaex-jupyter<0.9,>=0.8.1->vaex) (0.2.0)\n",
      "Requirement already satisfied: MarkupSafe>=2.0 in /srv/conda/envs/notebook/lib/python3.9/site-packages (from jinja2->vaex-ml<0.19,>=0.18.1->vaex) (2.1.1)\n",
      "Requirement already satisfied: setuptools in /srv/conda/envs/notebook/lib/python3.9/site-packages (from numba->vaex-ml<0.19,>=0.18.1->vaex) (65.0.2)\n",
      "Requirement already satisfied: llvmlite<0.37,>=0.36.0rc1 in /srv/conda/envs/notebook/lib/python3.9/site-packages (from numba->vaex-ml<0.19,>=0.18.1->vaex) (0.36.0)\n",
      "Requirement already satisfied: python-utils>=3.0.0 in /srv/conda/envs/notebook/lib/python3.9/site-packages (from progressbar2->vaex-core<4.17,>=4.16.0->vaex) (3.5.2)\n",
      "Requirement already satisfied: charset-normalizer<3,>=2 in /srv/conda/envs/notebook/lib/python3.9/site-packages (from requests->vaex-core<4.17,>=4.16.0->vaex) (2.1.0)\n",
      "Requirement already satisfied: idna<4,>=2.5 in /srv/conda/envs/notebook/lib/python3.9/site-packages (from requests->vaex-core<4.17,>=4.16.0->vaex) (3.3)\n",
      "Requirement already satisfied: certifi>=2017.4.17 in /srv/conda/envs/notebook/lib/python3.9/site-packages (from requests->vaex-core<4.17,>=4.16.0->vaex) (2022.6.15)\n",
      "Requirement already satisfied: urllib3<1.27,>=1.21.1 in /srv/conda/envs/notebook/lib/python3.9/site-packages (from requests->vaex-core<4.17,>=4.16.0->vaex) (1.26.11)\n",
      "Requirement already satisfied: markdown-it-py<3.0.0,>=2.2.0 in /srv/conda/envs/notebook/lib/python3.9/site-packages (from rich->vaex-core<4.17,>=4.16.0->vaex) (2.2.0)\n",
      "Requirement already satisfied: pygments<3.0.0,>=2.13.0 in /srv/conda/envs/notebook/lib/python3.9/site-packages (from rich->vaex-core<4.17,>=4.16.0->vaex) (2.13.0)\n",
      "Requirement already satisfied: h11>=0.8 in /srv/conda/envs/notebook/lib/python3.9/site-packages (from uvicorn[standard]->vaex-server<0.9,>=0.8.1->vaex) (0.13.0)\n",
      "Requirement already satisfied: click>=7.0 in /srv/conda/envs/notebook/lib/python3.9/site-packages (from uvicorn[standard]->vaex-server<0.9,>=0.8.1->vaex) (8.1.3)\n",
      "Requirement already satisfied: python-dotenv>=0.13 in /srv/conda/envs/notebook/lib/python3.9/site-packages (from uvicorn[standard]->vaex-server<0.9,>=0.8.1->vaex) (1.0.0)\n",
      "Requirement already satisfied: httptools>=0.4.0 in /srv/conda/envs/notebook/lib/python3.9/site-packages (from uvicorn[standard]->vaex-server<0.9,>=0.8.1->vaex) (0.5.0)\n",
      "Requirement already satisfied: websockets>=10.0 in /srv/conda/envs/notebook/lib/python3.9/site-packages (from uvicorn[standard]->vaex-server<0.9,>=0.8.1->vaex) (10.4)\n",
      "Requirement already satisfied: watchfiles>=0.13 in /srv/conda/envs/notebook/lib/python3.9/site-packages (from uvicorn[standard]->vaex-server<0.9,>=0.8.1->vaex) (0.18.1)\n",
      "Requirement already satisfied: uvloop!=0.15.0,!=0.15.1,>=0.14.0 in /srv/conda/envs/notebook/lib/python3.9/site-packages (from uvicorn[standard]->vaex-server<0.9,>=0.8.1->vaex) (0.17.0)\n",
      "Requirement already satisfied: prompt-toolkit!=3.0.0,!=3.0.1,<3.1.0,>=2.0.0 in /srv/conda/envs/notebook/lib/python3.9/site-packages (from ipython<9->ipympl->vaex-jupyter<0.9,>=0.8.1->vaex) (3.0.30)\n",
      "Requirement already satisfied: stack-data in /srv/conda/envs/notebook/lib/python3.9/site-packages (from ipython<9->ipympl->vaex-jupyter<0.9,>=0.8.1->vaex) (0.4.0)\n",
      "Requirement already satisfied: decorator in /srv/conda/envs/notebook/lib/python3.9/site-packages (from ipython<9->ipympl->vaex-jupyter<0.9,>=0.8.1->vaex) (5.1.1)\n",
      "Requirement already satisfied: pexpect>4.3 in /srv/conda/envs/notebook/lib/python3.9/site-packages (from ipython<9->ipympl->vaex-jupyter<0.9,>=0.8.1->vaex) (4.8.0)\n",
      "Requirement already satisfied: pickleshare in /srv/conda/envs/notebook/lib/python3.9/site-packages (from ipython<9->ipympl->vaex-jupyter<0.9,>=0.8.1->vaex) (0.7.5)\n",
      "Requirement already satisfied: backcall in /srv/conda/envs/notebook/lib/python3.9/site-packages (from ipython<9->ipympl->vaex-jupyter<0.9,>=0.8.1->vaex) (0.2.0)\n",
      "Requirement already satisfied: jedi>=0.16 in /srv/conda/envs/notebook/lib/python3.9/site-packages (from ipython<9->ipympl->vaex-jupyter<0.9,>=0.8.1->vaex) (0.18.1)\n",
      "Requirement already satisfied: matplotlib-inline in /srv/conda/envs/notebook/lib/python3.9/site-packages (from ipython<9->ipympl->vaex-jupyter<0.9,>=0.8.1->vaex) (0.1.6)\n",
      "Requirement already satisfied: jupyterlab-widgets>=1.0.0 in /srv/conda/envs/notebook/lib/python3.9/site-packages (from ipywidgets<9,>=7.5.0->bqplot>=0.10.1->vaex-jupyter<0.9,>=0.8.1->vaex) (1.1.1)\n",
      "Requirement already satisfied: ipykernel>=4.5.1 in /srv/conda/envs/notebook/lib/python3.9/site-packages (from ipywidgets<9,>=7.5.0->bqplot>=0.10.1->vaex-jupyter<0.9,>=0.8.1->vaex) (6.15.1)\n",
      "Requirement already satisfied: widgetsnbextension~=3.6.0 in /srv/conda/envs/notebook/lib/python3.9/site-packages (from ipywidgets<9,>=7.5.0->bqplot>=0.10.1->vaex-jupyter<0.9,>=0.8.1->vaex) (3.6.1)\n",
      "Requirement already satisfied: mdurl~=0.1 in /srv/conda/envs/notebook/lib/python3.9/site-packages (from markdown-it-py<3.0.0,>=2.2.0->rich->vaex-core<4.17,>=4.16.0->vaex) (0.1.2)\n",
      "Requirement already satisfied: locket in /srv/conda/envs/notebook/lib/python3.9/site-packages (from partd>=0.3.10->dask!=2022.4.0->vaex-core<4.17,>=4.16.0->vaex) (1.0.0)\n",
      "Requirement already satisfied: ipydatawidgets>=1.1.1 in /srv/conda/envs/notebook/lib/python3.9/site-packages (from pythreejs>=2.4.0->ipyvolume>=0.4->vaex-jupyter<0.9,>=0.8.1->vaex) (4.3.3)\n",
      "Requirement already satisfied: sniffio>=1.1 in /srv/conda/envs/notebook/lib/python3.9/site-packages (from anyio<5,>=3.4.0->starlette==0.19.1->fastapi->vaex-server<0.9,>=0.8.1->vaex) (1.2.0)\n",
      "Requirement already satisfied: psutil in /srv/conda/envs/notebook/lib/python3.9/site-packages (from ipykernel>=4.5.1->ipywidgets<9,>=7.5.0->bqplot>=0.10.1->vaex-jupyter<0.9,>=0.8.1->vaex) (5.9.1)\n",
      "Requirement already satisfied: debugpy>=1.0 in /srv/conda/envs/notebook/lib/python3.9/site-packages (from ipykernel>=4.5.1->ipywidgets<9,>=7.5.0->bqplot>=0.10.1->vaex-jupyter<0.9,>=0.8.1->vaex) (1.6.3)\n",
      "Requirement already satisfied: pyzmq>=17 in /srv/conda/envs/notebook/lib/python3.9/site-packages (from ipykernel>=4.5.1->ipywidgets<9,>=7.5.0->bqplot>=0.10.1->vaex-jupyter<0.9,>=0.8.1->vaex) (23.2.1)\n",
      "Requirement already satisfied: jupyter-client>=6.1.12 in /srv/conda/envs/notebook/lib/python3.9/site-packages (from ipykernel>=4.5.1->ipywidgets<9,>=7.5.0->bqplot>=0.10.1->vaex-jupyter<0.9,>=0.8.1->vaex) (7.3.4)\n",
      "Requirement already satisfied: parso<0.9.0,>=0.8.0 in /srv/conda/envs/notebook/lib/python3.9/site-packages (from jedi>=0.16->ipython<9->ipympl->vaex-jupyter<0.9,>=0.8.1->vaex) (0.8.3)\n",
      "Requirement already satisfied: ptyprocess>=0.5 in /srv/conda/envs/notebook/lib/python3.9/site-packages (from pexpect>4.3->ipython<9->ipympl->vaex-jupyter<0.9,>=0.8.1->vaex) (0.7.0)\n",
      "Requirement already satisfied: wcwidth in /srv/conda/envs/notebook/lib/python3.9/site-packages (from prompt-toolkit!=3.0.0,!=3.0.1,<3.1.0,>=2.0.0->ipython<9->ipympl->vaex-jupyter<0.9,>=0.8.1->vaex) (0.2.5)\n",
      "Requirement already satisfied: notebook>=4.4.1 in /srv/conda/envs/notebook/lib/python3.9/site-packages (from widgetsnbextension~=3.6.0->ipywidgets<9,>=7.5.0->bqplot>=0.10.1->vaex-jupyter<0.9,>=0.8.1->vaex) (6.4.12)\n",
      "Requirement already satisfied: asttokens in /srv/conda/envs/notebook/lib/python3.9/site-packages (from stack-data->ipython<9->ipympl->vaex-jupyter<0.9,>=0.8.1->vaex) (2.0.8)\n",
      "Requirement already satisfied: pure-eval in /srv/conda/envs/notebook/lib/python3.9/site-packages (from stack-data->ipython<9->ipympl->vaex-jupyter<0.9,>=0.8.1->vaex) (0.2.2)\n",
      "Requirement already satisfied: executing in /srv/conda/envs/notebook/lib/python3.9/site-packages (from stack-data->ipython<9->ipympl->vaex-jupyter<0.9,>=0.8.1->vaex) (0.10.0)\n",
      "Requirement already satisfied: jupyter-core>=4.9.2 in /srv/conda/envs/notebook/lib/python3.9/site-packages (from jupyter-client>=6.1.12->ipykernel>=4.5.1->ipywidgets<9,>=7.5.0->bqplot>=0.10.1->vaex-jupyter<0.9,>=0.8.1->vaex) (4.11.1)\n",
      "Requirement already satisfied: entrypoints in /srv/conda/envs/notebook/lib/python3.9/site-packages (from jupyter-client>=6.1.12->ipykernel>=4.5.1->ipywidgets<9,>=7.5.0->bqplot>=0.10.1->vaex-jupyter<0.9,>=0.8.1->vaex) (0.4)\n",
      "Requirement already satisfied: argon2-cffi in /srv/conda/envs/notebook/lib/python3.9/site-packages (from notebook>=4.4.1->widgetsnbextension~=3.6.0->ipywidgets<9,>=7.5.0->bqplot>=0.10.1->vaex-jupyter<0.9,>=0.8.1->vaex) (21.3.0)\n",
      "Requirement already satisfied: nbformat in /srv/conda/envs/notebook/lib/python3.9/site-packages (from notebook>=4.4.1->widgetsnbextension~=3.6.0->ipywidgets<9,>=7.5.0->bqplot>=0.10.1->vaex-jupyter<0.9,>=0.8.1->vaex) (5.4.0)\n",
      "Requirement already satisfied: prometheus-client in /srv/conda/envs/notebook/lib/python3.9/site-packages (from notebook>=4.4.1->widgetsnbextension~=3.6.0->ipywidgets<9,>=7.5.0->bqplot>=0.10.1->vaex-jupyter<0.9,>=0.8.1->vaex) (0.14.1)\n",
      "Requirement already satisfied: terminado>=0.8.3 in /srv/conda/envs/notebook/lib/python3.9/site-packages (from notebook>=4.4.1->widgetsnbextension~=3.6.0->ipywidgets<9,>=7.5.0->bqplot>=0.10.1->vaex-jupyter<0.9,>=0.8.1->vaex) (0.15.0)\n",
      "Requirement already satisfied: nbconvert>=5 in /srv/conda/envs/notebook/lib/python3.9/site-packages (from notebook>=4.4.1->widgetsnbextension~=3.6.0->ipywidgets<9,>=7.5.0->bqplot>=0.10.1->vaex-jupyter<0.9,>=0.8.1->vaex) (6.5.3)\n",
      "Requirement already satisfied: Send2Trash>=1.8.0 in /srv/conda/envs/notebook/lib/python3.9/site-packages (from notebook>=4.4.1->widgetsnbextension~=3.6.0->ipywidgets<9,>=7.5.0->bqplot>=0.10.1->vaex-jupyter<0.9,>=0.8.1->vaex) (1.8.0)\n",
      "Requirement already satisfied: tinycss2 in /srv/conda/envs/notebook/lib/python3.9/site-packages (from nbconvert>=5->notebook>=4.4.1->widgetsnbextension~=3.6.0->ipywidgets<9,>=7.5.0->bqplot>=0.10.1->vaex-jupyter<0.9,>=0.8.1->vaex) (1.1.1)\n",
      "Requirement already satisfied: mistune<2,>=0.8.1 in /srv/conda/envs/notebook/lib/python3.9/site-packages (from nbconvert>=5->notebook>=4.4.1->widgetsnbextension~=3.6.0->ipywidgets<9,>=7.5.0->bqplot>=0.10.1->vaex-jupyter<0.9,>=0.8.1->vaex) (0.8.4)\n",
      "Requirement already satisfied: jupyterlab-pygments in /srv/conda/envs/notebook/lib/python3.9/site-packages (from nbconvert>=5->notebook>=4.4.1->widgetsnbextension~=3.6.0->ipywidgets<9,>=7.5.0->bqplot>=0.10.1->vaex-jupyter<0.9,>=0.8.1->vaex) (0.2.2)\n",
      "Requirement already satisfied: bleach in /srv/conda/envs/notebook/lib/python3.9/site-packages (from nbconvert>=5->notebook>=4.4.1->widgetsnbextension~=3.6.0->ipywidgets<9,>=7.5.0->bqplot>=0.10.1->vaex-jupyter<0.9,>=0.8.1->vaex) (5.0.1)\n",
      "Requirement already satisfied: defusedxml in /srv/conda/envs/notebook/lib/python3.9/site-packages (from nbconvert>=5->notebook>=4.4.1->widgetsnbextension~=3.6.0->ipywidgets<9,>=7.5.0->bqplot>=0.10.1->vaex-jupyter<0.9,>=0.8.1->vaex) (0.7.1)\n",
      "Requirement already satisfied: nbclient>=0.5.0 in /srv/conda/envs/notebook/lib/python3.9/site-packages (from nbconvert>=5->notebook>=4.4.1->widgetsnbextension~=3.6.0->ipywidgets<9,>=7.5.0->bqplot>=0.10.1->vaex-jupyter<0.9,>=0.8.1->vaex) (0.6.6)\n",
      "Requirement already satisfied: pandocfilters>=1.4.1 in /srv/conda/envs/notebook/lib/python3.9/site-packages (from nbconvert>=5->notebook>=4.4.1->widgetsnbextension~=3.6.0->ipywidgets<9,>=7.5.0->bqplot>=0.10.1->vaex-jupyter<0.9,>=0.8.1->vaex) (1.5.0)\n",
      "Requirement already satisfied: beautifulsoup4 in /srv/conda/envs/notebook/lib/python3.9/site-packages (from nbconvert>=5->notebook>=4.4.1->widgetsnbextension~=3.6.0->ipywidgets<9,>=7.5.0->bqplot>=0.10.1->vaex-jupyter<0.9,>=0.8.1->vaex) (4.11.1)\n",
      "Requirement already satisfied: lxml in /srv/conda/envs/notebook/lib/python3.9/site-packages (from nbconvert>=5->notebook>=4.4.1->widgetsnbextension~=3.6.0->ipywidgets<9,>=7.5.0->bqplot>=0.10.1->vaex-jupyter<0.9,>=0.8.1->vaex) (4.9.1)\n",
      "Requirement already satisfied: jsonschema>=2.6 in /srv/conda/envs/notebook/lib/python3.9/site-packages (from nbformat->notebook>=4.4.1->widgetsnbextension~=3.6.0->ipywidgets<9,>=7.5.0->bqplot>=0.10.1->vaex-jupyter<0.9,>=0.8.1->vaex) (4.9.1)\n",
      "Requirement already satisfied: fastjsonschema in /srv/conda/envs/notebook/lib/python3.9/site-packages (from nbformat->notebook>=4.4.1->widgetsnbextension~=3.6.0->ipywidgets<9,>=7.5.0->bqplot>=0.10.1->vaex-jupyter<0.9,>=0.8.1->vaex) (2.16.1)\n",
      "Requirement already satisfied: argon2-cffi-bindings in /srv/conda/envs/notebook/lib/python3.9/site-packages (from argon2-cffi->notebook>=4.4.1->widgetsnbextension~=3.6.0->ipywidgets<9,>=7.5.0->bqplot>=0.10.1->vaex-jupyter<0.9,>=0.8.1->vaex) (21.2.0)\n",
      "Requirement already satisfied: pyrsistent!=0.17.0,!=0.17.1,!=0.17.2,>=0.14.0 in /srv/conda/envs/notebook/lib/python3.9/site-packages (from jsonschema>=2.6->nbformat->notebook>=4.4.1->widgetsnbextension~=3.6.0->ipywidgets<9,>=7.5.0->bqplot>=0.10.1->vaex-jupyter<0.9,>=0.8.1->vaex) (0.18.1)\n",
      "Requirement already satisfied: attrs>=17.4.0 in /srv/conda/envs/notebook/lib/python3.9/site-packages (from jsonschema>=2.6->nbformat->notebook>=4.4.1->widgetsnbextension~=3.6.0->ipywidgets<9,>=7.5.0->bqplot>=0.10.1->vaex-jupyter<0.9,>=0.8.1->vaex) (22.1.0)\n",
      "Requirement already satisfied: cffi>=1.0.1 in /srv/conda/envs/notebook/lib/python3.9/site-packages (from argon2-cffi-bindings->argon2-cffi->notebook>=4.4.1->widgetsnbextension~=3.6.0->ipywidgets<9,>=7.5.0->bqplot>=0.10.1->vaex-jupyter<0.9,>=0.8.1->vaex) (1.15.1)\n",
      "Requirement already satisfied: soupsieve>1.2 in /srv/conda/envs/notebook/lib/python3.9/site-packages (from beautifulsoup4->nbconvert>=5->notebook>=4.4.1->widgetsnbextension~=3.6.0->ipywidgets<9,>=7.5.0->bqplot>=0.10.1->vaex-jupyter<0.9,>=0.8.1->vaex) (2.3.2.post1)\n",
      "Requirement already satisfied: webencodings in /srv/conda/envs/notebook/lib/python3.9/site-packages (from bleach->nbconvert>=5->notebook>=4.4.1->widgetsnbextension~=3.6.0->ipywidgets<9,>=7.5.0->bqplot>=0.10.1->vaex-jupyter<0.9,>=0.8.1->vaex) (0.5.1)\n",
      "Requirement already satisfied: pycparser in /srv/conda/envs/notebook/lib/python3.9/site-packages (from cffi>=1.0.1->argon2-cffi-bindings->argon2-cffi->notebook>=4.4.1->widgetsnbextension~=3.6.0->ipywidgets<9,>=7.5.0->bqplot>=0.10.1->vaex-jupyter<0.9,>=0.8.1->vaex) (2.21)\n",
      "Note: you may need to restart the kernel to use updated packages.\n"
     ]
    }
   ],
   "source": [
    "pip install vaex"
   ]
  },
  {
   "cell_type": "code",
   "execution_count": 3,
   "id": "6096bf7b-1678-451b-87fe-3d7de6fc176f",
   "metadata": {},
   "outputs": [],
   "source": [
    "import numpy as np\n",
    "import os\n",
    "import pandas as pd\n",
    "import s3fs\n",
    "import xarray as xr\n",
    "import vaex"
   ]
  },
  {
   "cell_type": "markdown",
   "id": "4b70d289-c32c-4d51-8f41-de137347ce5b",
   "metadata": {},
   "source": [
    "# Input datasets, either from s3 storage or local files"
   ]
  },
  {
   "cell_type": "markdown",
   "id": "68e71155-f875-4711-a6db-dceaabf87206",
   "metadata": {},
   "source": [
    "# If data is available locally then jump the following cells"
   ]
  },
  {
   "cell_type": "markdown",
   "id": "a33eb8f7-74c0-4d77-abb3-71ff162df229",
   "metadata": {},
   "source": [
    "### Define s3 storage parameters"
   ]
  },
  {
   "cell_type": "code",
   "execution_count": null,
   "id": "5eebb97a-3319-453c-bb84-c038b45238cd",
   "metadata": {
    "tags": []
   },
   "outputs": [],
   "source": [
    "client_kwargs={'endpoint_url': 'https://object-store.cloud.muni.cz'}\n",
    "store = s3fs.S3FileSystem(anon=False, client_kwargs=client_kwargs)\n",
    "store.ls('Data', detail=True, refresh=True)"
   ]
  },
  {
   "cell_type": "markdown",
   "id": "9c105dc5-6644-4703-bbc7-b29273f27d54",
   "metadata": {},
   "source": [
    "## Copernicus Global Land Cover data  from 2015-01-01 to 2019-12-31 already available as a netCDF file stored on EOSC (CESNET)\n",
    "## Troms og Finnmark\n",
    "### Mosses and lichens, bare, grass, shrubs and trees"
   ]
  },
  {
   "cell_type": "code",
   "execution_count": null,
   "id": "a93f46f8-bd33-4d69-9922-72dc91d98452",
   "metadata": {},
   "outputs": [],
   "source": [
    "s3path = 'Data/C_GlobalLandCover_20150101_20190101_Troms-Finnmark.nc'"
   ]
  },
  {
   "cell_type": "code",
   "execution_count": null,
   "id": "41a69878-3518-4b2c-bd35-1371e165f3e0",
   "metadata": {},
   "outputs": [],
   "source": [
    "GLC_AOI = xr.open_dataset(store.open(s3path))"
   ]
  },
  {
   "cell_type": "code",
   "execution_count": null,
   "id": "45f00fd6-4cd9-4207-9c1b-c731b274b0a7",
   "metadata": {},
   "outputs": [],
   "source": [
    "GLC_AOI"
   ]
  },
  {
   "cell_type": "markdown",
   "id": "e15f080c-5cf9-485f-9c93-625cb82cb9cf",
   "metadata": {},
   "source": [
    "## ERA5-land data from 2015-01-01 to 2019-12-31 - already available as a netCDF file stored on EOSC (CESNET)\n",
    "## 2m Temperature, Snow depth, Total precipitation"
   ]
  },
  {
   "cell_type": "code",
   "execution_count": null,
   "id": "8be31dfc-6042-407c-9ae5-cb3ddaaa58e6",
   "metadata": {},
   "outputs": [],
   "source": [
    "s3path = 'Data/reanalysis-era5-land_hourly_2015-01-01_2022-12-31_Troms-Finnmark_T2m-SD-TP.nc'"
   ]
  },
  {
   "cell_type": "code",
   "execution_count": null,
   "id": "9d8761c1-1751-4344-b3b0-1b34da11fd3a",
   "metadata": {},
   "outputs": [],
   "source": [
    "ERA5land = xr.open_dataset(store.open(s3path))"
   ]
  },
  {
   "cell_type": "code",
   "execution_count": null,
   "id": "f149e604-76bb-486f-9ea1-eacebf46441a",
   "metadata": {},
   "outputs": [],
   "source": [
    "ERA5land"
   ]
  },
  {
   "cell_type": "markdown",
   "id": "9de887a1-8fc6-42ee-b8ee-3e70466a941b",
   "metadata": {},
   "source": [
    "# Datasets from **local** files"
   ]
  },
  {
   "cell_type": "code",
   "execution_count": 4,
   "id": "e530df1d-1777-4879-928e-1fa58f46e167",
   "metadata": {},
   "outputs": [],
   "source": [
    "path = '/home/jovyan/Arctic/Vegetation_in_Troms_and_Finnmark/data/'"
   ]
  },
  {
   "cell_type": "code",
   "execution_count": 40,
   "id": "75e55194-54b2-4645-a63d-9facad93d0b2",
   "metadata": {},
   "outputs": [],
   "source": [
    "# World Land cover data from 2015-01-01 to 2019-12-31- already available as a netCDF file stored locally\n",
    "GLC_filename = os.path.join(path, 'C_GlobalLandCover_20150101_20190101_Troms-Finnmark.nc')\n",
    "GLC_AOI = xr.open_dataset(GLC_filename, engine = 'netcdf4')"
   ]
  },
  {
   "cell_type": "code",
   "execution_count": 6,
   "id": "851776e4-8869-4204-8f75-75d96057f300",
   "metadata": {},
   "outputs": [],
   "source": [
    "# ERA5-land data already available as a netCDF file stored locally\n",
    "ERA5_filename = os.path.join(path, 'reanalysis-era5-land_hourly_2015-01-01_2022-12-31_Troms-Finnmark_T2m-SD-TP.nc')\n",
    "ERA5land = xr.open_dataset(ERA5_filename, engine = 'netcdf4')"
   ]
  },
  {
   "cell_type": "code",
   "execution_count": 41,
   "id": "0f715fd7-f800-4e12-84d1-41ce7bdec579",
   "metadata": {},
   "outputs": [],
   "source": [
    "GLC_AOI = GLC_AOI.rename(x='lon', y='lat', t='time')"
   ]
  },
  {
   "cell_type": "code",
   "execution_count": 42,
   "id": "d4660f76-1b3e-42cc-a6bb-1e9192db0eed",
   "metadata": {},
   "outputs": [],
   "source": [
    "# Drop variables not directly of interest here\n",
    "GLC_AOI = GLC_AOI.drop_vars(['crs',\n",
    "                             'Crops_CoverFraction_layer',\n",
    "                             'Discrete_Classification_map', \n",
    "                             'Discrete_Classification_proba',\n",
    "                             'Forest_Type_layer',\n",
    "                             'Snow_CoverFraction_layer',\n",
    "                             'BuiltUp_CoverFraction_layer',\n",
    "                             'PermanentWater_CoverFraction_layer',\n",
    "                             'SeasonalWater_CoverFraction_layer',\n",
    "                             'DataDensityIndicator',\n",
    "                             'Change_Confidence_layer',\n",
    "                             'dataMask'])"
   ]
  },
  {
   "cell_type": "code",
   "execution_count": 43,
   "id": "4c5c34e6-3b1b-4afc-abf0-83aae56a6b9a",
   "metadata": {},
   "outputs": [],
   "source": [
    "GLC_AOI = GLC_AOI.rename(Bare_CoverFraction_layer = 'Bare',\n",
    "                         Grass_CoverFraction_layer = 'Grass',\n",
    "                         MossLichen_CoverFraction_layer = 'Lichen',\n",
    "                         Shrub_CoverFraction_layer = 'Shrub',\n",
    "                         Tree_CoverFraction_layer = 'Tree')"
   ]
  },
  {
   "cell_type": "code",
   "execution_count": 44,
   "id": "ed083377-639d-4cbf-8408-913874f58ee6",
   "metadata": {},
   "outputs": [
    {
     "data": {
      "text/html": [
       "<div><svg style=\"position: absolute; width: 0; height: 0; overflow: hidden\">\n",
       "<defs>\n",
       "<symbol id=\"icon-database\" viewBox=\"0 0 32 32\">\n",
       "<path d=\"M16 0c-8.837 0-16 2.239-16 5v4c0 2.761 7.163 5 16 5s16-2.239 16-5v-4c0-2.761-7.163-5-16-5z\"></path>\n",
       "<path d=\"M16 17c-8.837 0-16-2.239-16-5v6c0 2.761 7.163 5 16 5s16-2.239 16-5v-6c0 2.761-7.163 5-16 5z\"></path>\n",
       "<path d=\"M16 26c-8.837 0-16-2.239-16-5v6c0 2.761 7.163 5 16 5s16-2.239 16-5v-6c0 2.761-7.163 5-16 5z\"></path>\n",
       "</symbol>\n",
       "<symbol id=\"icon-file-text2\" viewBox=\"0 0 32 32\">\n",
       "<path d=\"M28.681 7.159c-0.694-0.947-1.662-2.053-2.724-3.116s-2.169-2.030-3.116-2.724c-1.612-1.182-2.393-1.319-2.841-1.319h-15.5c-1.378 0-2.5 1.121-2.5 2.5v27c0 1.378 1.122 2.5 2.5 2.5h23c1.378 0 2.5-1.122 2.5-2.5v-19.5c0-0.448-0.137-1.23-1.319-2.841zM24.543 5.457c0.959 0.959 1.712 1.825 2.268 2.543h-4.811v-4.811c0.718 0.556 1.584 1.309 2.543 2.268zM28 29.5c0 0.271-0.229 0.5-0.5 0.5h-23c-0.271 0-0.5-0.229-0.5-0.5v-27c0-0.271 0.229-0.5 0.5-0.5 0 0 15.499-0 15.5 0v7c0 0.552 0.448 1 1 1h7v19.5z\"></path>\n",
       "<path d=\"M23 26h-14c-0.552 0-1-0.448-1-1s0.448-1 1-1h14c0.552 0 1 0.448 1 1s-0.448 1-1 1z\"></path>\n",
       "<path d=\"M23 22h-14c-0.552 0-1-0.448-1-1s0.448-1 1-1h14c0.552 0 1 0.448 1 1s-0.448 1-1 1z\"></path>\n",
       "<path d=\"M23 18h-14c-0.552 0-1-0.448-1-1s0.448-1 1-1h14c0.552 0 1 0.448 1 1s-0.448 1-1 1z\"></path>\n",
       "</symbol>\n",
       "</defs>\n",
       "</svg>\n",
       "<style>/* CSS stylesheet for displaying xarray objects in jupyterlab.\n",
       " *\n",
       " */\n",
       "\n",
       ":root {\n",
       "  --xr-font-color0: var(--jp-content-font-color0, rgba(0, 0, 0, 1));\n",
       "  --xr-font-color2: var(--jp-content-font-color2, rgba(0, 0, 0, 0.54));\n",
       "  --xr-font-color3: var(--jp-content-font-color3, rgba(0, 0, 0, 0.38));\n",
       "  --xr-border-color: var(--jp-border-color2, #e0e0e0);\n",
       "  --xr-disabled-color: var(--jp-layout-color3, #bdbdbd);\n",
       "  --xr-background-color: var(--jp-layout-color0, white);\n",
       "  --xr-background-color-row-even: var(--jp-layout-color1, white);\n",
       "  --xr-background-color-row-odd: var(--jp-layout-color2, #eeeeee);\n",
       "}\n",
       "\n",
       "html[theme=dark],\n",
       "body[data-theme=dark],\n",
       "body.vscode-dark {\n",
       "  --xr-font-color0: rgba(255, 255, 255, 1);\n",
       "  --xr-font-color2: rgba(255, 255, 255, 0.54);\n",
       "  --xr-font-color3: rgba(255, 255, 255, 0.38);\n",
       "  --xr-border-color: #1F1F1F;\n",
       "  --xr-disabled-color: #515151;\n",
       "  --xr-background-color: #111111;\n",
       "  --xr-background-color-row-even: #111111;\n",
       "  --xr-background-color-row-odd: #313131;\n",
       "}\n",
       "\n",
       ".xr-wrap {\n",
       "  display: block !important;\n",
       "  min-width: 300px;\n",
       "  max-width: 700px;\n",
       "}\n",
       "\n",
       ".xr-text-repr-fallback {\n",
       "  /* fallback to plain text repr when CSS is not injected (untrusted notebook) */\n",
       "  display: none;\n",
       "}\n",
       "\n",
       ".xr-header {\n",
       "  padding-top: 6px;\n",
       "  padding-bottom: 6px;\n",
       "  margin-bottom: 4px;\n",
       "  border-bottom: solid 1px var(--xr-border-color);\n",
       "}\n",
       "\n",
       ".xr-header > div,\n",
       ".xr-header > ul {\n",
       "  display: inline;\n",
       "  margin-top: 0;\n",
       "  margin-bottom: 0;\n",
       "}\n",
       "\n",
       ".xr-obj-type,\n",
       ".xr-array-name {\n",
       "  margin-left: 2px;\n",
       "  margin-right: 10px;\n",
       "}\n",
       "\n",
       ".xr-obj-type {\n",
       "  color: var(--xr-font-color2);\n",
       "}\n",
       "\n",
       ".xr-sections {\n",
       "  padding-left: 0 !important;\n",
       "  display: grid;\n",
       "  grid-template-columns: 150px auto auto 1fr 20px 20px;\n",
       "}\n",
       "\n",
       ".xr-section-item {\n",
       "  display: contents;\n",
       "}\n",
       "\n",
       ".xr-section-item input {\n",
       "  display: none;\n",
       "}\n",
       "\n",
       ".xr-section-item input + label {\n",
       "  color: var(--xr-disabled-color);\n",
       "}\n",
       "\n",
       ".xr-section-item input:enabled + label {\n",
       "  cursor: pointer;\n",
       "  color: var(--xr-font-color2);\n",
       "}\n",
       "\n",
       ".xr-section-item input:enabled + label:hover {\n",
       "  color: var(--xr-font-color0);\n",
       "}\n",
       "\n",
       ".xr-section-summary {\n",
       "  grid-column: 1;\n",
       "  color: var(--xr-font-color2);\n",
       "  font-weight: 500;\n",
       "}\n",
       "\n",
       ".xr-section-summary > span {\n",
       "  display: inline-block;\n",
       "  padding-left: 0.5em;\n",
       "}\n",
       "\n",
       ".xr-section-summary-in:disabled + label {\n",
       "  color: var(--xr-font-color2);\n",
       "}\n",
       "\n",
       ".xr-section-summary-in + label:before {\n",
       "  display: inline-block;\n",
       "  content: '►';\n",
       "  font-size: 11px;\n",
       "  width: 15px;\n",
       "  text-align: center;\n",
       "}\n",
       "\n",
       ".xr-section-summary-in:disabled + label:before {\n",
       "  color: var(--xr-disabled-color);\n",
       "}\n",
       "\n",
       ".xr-section-summary-in:checked + label:before {\n",
       "  content: '▼';\n",
       "}\n",
       "\n",
       ".xr-section-summary-in:checked + label > span {\n",
       "  display: none;\n",
       "}\n",
       "\n",
       ".xr-section-summary,\n",
       ".xr-section-inline-details {\n",
       "  padding-top: 4px;\n",
       "  padding-bottom: 4px;\n",
       "}\n",
       "\n",
       ".xr-section-inline-details {\n",
       "  grid-column: 2 / -1;\n",
       "}\n",
       "\n",
       ".xr-section-details {\n",
       "  display: none;\n",
       "  grid-column: 1 / -1;\n",
       "  margin-bottom: 5px;\n",
       "}\n",
       "\n",
       ".xr-section-summary-in:checked ~ .xr-section-details {\n",
       "  display: contents;\n",
       "}\n",
       "\n",
       ".xr-array-wrap {\n",
       "  grid-column: 1 / -1;\n",
       "  display: grid;\n",
       "  grid-template-columns: 20px auto;\n",
       "}\n",
       "\n",
       ".xr-array-wrap > label {\n",
       "  grid-column: 1;\n",
       "  vertical-align: top;\n",
       "}\n",
       "\n",
       ".xr-preview {\n",
       "  color: var(--xr-font-color3);\n",
       "}\n",
       "\n",
       ".xr-array-preview,\n",
       ".xr-array-data {\n",
       "  padding: 0 5px !important;\n",
       "  grid-column: 2;\n",
       "}\n",
       "\n",
       ".xr-array-data,\n",
       ".xr-array-in:checked ~ .xr-array-preview {\n",
       "  display: none;\n",
       "}\n",
       "\n",
       ".xr-array-in:checked ~ .xr-array-data,\n",
       ".xr-array-preview {\n",
       "  display: inline-block;\n",
       "}\n",
       "\n",
       ".xr-dim-list {\n",
       "  display: inline-block !important;\n",
       "  list-style: none;\n",
       "  padding: 0 !important;\n",
       "  margin: 0;\n",
       "}\n",
       "\n",
       ".xr-dim-list li {\n",
       "  display: inline-block;\n",
       "  padding: 0;\n",
       "  margin: 0;\n",
       "}\n",
       "\n",
       ".xr-dim-list:before {\n",
       "  content: '(';\n",
       "}\n",
       "\n",
       ".xr-dim-list:after {\n",
       "  content: ')';\n",
       "}\n",
       "\n",
       ".xr-dim-list li:not(:last-child):after {\n",
       "  content: ',';\n",
       "  padding-right: 5px;\n",
       "}\n",
       "\n",
       ".xr-has-index {\n",
       "  font-weight: bold;\n",
       "}\n",
       "\n",
       ".xr-var-list,\n",
       ".xr-var-item {\n",
       "  display: contents;\n",
       "}\n",
       "\n",
       ".xr-var-item > div,\n",
       ".xr-var-item label,\n",
       ".xr-var-item > .xr-var-name span {\n",
       "  background-color: var(--xr-background-color-row-even);\n",
       "  margin-bottom: 0;\n",
       "}\n",
       "\n",
       ".xr-var-item > .xr-var-name:hover span {\n",
       "  padding-right: 5px;\n",
       "}\n",
       "\n",
       ".xr-var-list > li:nth-child(odd) > div,\n",
       ".xr-var-list > li:nth-child(odd) > label,\n",
       ".xr-var-list > li:nth-child(odd) > .xr-var-name span {\n",
       "  background-color: var(--xr-background-color-row-odd);\n",
       "}\n",
       "\n",
       ".xr-var-name {\n",
       "  grid-column: 1;\n",
       "}\n",
       "\n",
       ".xr-var-dims {\n",
       "  grid-column: 2;\n",
       "}\n",
       "\n",
       ".xr-var-dtype {\n",
       "  grid-column: 3;\n",
       "  text-align: right;\n",
       "  color: var(--xr-font-color2);\n",
       "}\n",
       "\n",
       ".xr-var-preview {\n",
       "  grid-column: 4;\n",
       "}\n",
       "\n",
       ".xr-var-name,\n",
       ".xr-var-dims,\n",
       ".xr-var-dtype,\n",
       ".xr-preview,\n",
       ".xr-attrs dt {\n",
       "  white-space: nowrap;\n",
       "  overflow: hidden;\n",
       "  text-overflow: ellipsis;\n",
       "  padding-right: 10px;\n",
       "}\n",
       "\n",
       ".xr-var-name:hover,\n",
       ".xr-var-dims:hover,\n",
       ".xr-var-dtype:hover,\n",
       ".xr-attrs dt:hover {\n",
       "  overflow: visible;\n",
       "  width: auto;\n",
       "  z-index: 1;\n",
       "}\n",
       "\n",
       ".xr-var-attrs,\n",
       ".xr-var-data {\n",
       "  display: none;\n",
       "  background-color: var(--xr-background-color) !important;\n",
       "  padding-bottom: 5px !important;\n",
       "}\n",
       "\n",
       ".xr-var-attrs-in:checked ~ .xr-var-attrs,\n",
       ".xr-var-data-in:checked ~ .xr-var-data {\n",
       "  display: block;\n",
       "}\n",
       "\n",
       ".xr-var-data > table {\n",
       "  float: right;\n",
       "}\n",
       "\n",
       ".xr-var-name span,\n",
       ".xr-var-data,\n",
       ".xr-attrs {\n",
       "  padding-left: 25px !important;\n",
       "}\n",
       "\n",
       ".xr-attrs,\n",
       ".xr-var-attrs,\n",
       ".xr-var-data {\n",
       "  grid-column: 1 / -1;\n",
       "}\n",
       "\n",
       "dl.xr-attrs {\n",
       "  padding: 0;\n",
       "  margin: 0;\n",
       "  display: grid;\n",
       "  grid-template-columns: 125px auto;\n",
       "}\n",
       "\n",
       ".xr-attrs dt,\n",
       ".xr-attrs dd {\n",
       "  padding: 0;\n",
       "  margin: 0;\n",
       "  float: left;\n",
       "  padding-right: 10px;\n",
       "  width: auto;\n",
       "}\n",
       "\n",
       ".xr-attrs dt {\n",
       "  font-weight: normal;\n",
       "  grid-column: 1;\n",
       "}\n",
       "\n",
       ".xr-attrs dt:hover span {\n",
       "  display: inline-block;\n",
       "  background: var(--xr-background-color);\n",
       "  padding-right: 10px;\n",
       "}\n",
       "\n",
       ".xr-attrs dd {\n",
       "  grid-column: 2;\n",
       "  white-space: pre-wrap;\n",
       "  word-break: break-all;\n",
       "}\n",
       "\n",
       ".xr-icon-database,\n",
       ".xr-icon-file-text2 {\n",
       "  display: inline-block;\n",
       "  vertical-align: middle;\n",
       "  width: 1em;\n",
       "  height: 1.5em !important;\n",
       "  stroke-width: 0;\n",
       "  stroke: currentColor;\n",
       "  fill: currentColor;\n",
       "}\n",
       "</style><pre class='xr-text-repr-fallback'>&lt;xarray.Dataset&gt;\n",
       "Dimensions:  (time: 5, lon: 16709, lat: 3064)\n",
       "Coordinates:\n",
       "  * time     (time) datetime64[ns] 2015-01-01 2016-01-01 ... 2019-01-01\n",
       "  * lon      (lon) float64 15.6 15.6 15.6 15.6 15.6 ... 31.06 31.06 31.06 31.07\n",
       "  * lat      (lat) float64 71.19 71.19 71.19 71.18 ... 68.35 68.35 68.35 68.35\n",
       "Data variables:\n",
       "    Bare     (time, lat, lon) float32 ...\n",
       "    Grass    (time, lat, lon) float32 ...\n",
       "    Lichen   (time, lat, lon) float32 ...\n",
       "    Shrub    (time, lat, lon) float32 ...\n",
       "    Tree     (time, lat, lon) float32 ...\n",
       "Attributes:\n",
       "    Conventions:  CF-1.9\n",
       "    institution:  openEO platform</pre><div class='xr-wrap' style='display:none'><div class='xr-header'><div class='xr-obj-type'>xarray.Dataset</div></div><ul class='xr-sections'><li class='xr-section-item'><input id='section-a9a02ec7-d8b2-4be6-a5ff-48863b3246a6' class='xr-section-summary-in' type='checkbox' disabled ><label for='section-a9a02ec7-d8b2-4be6-a5ff-48863b3246a6' class='xr-section-summary'  title='Expand/collapse section'>Dimensions:</label><div class='xr-section-inline-details'><ul class='xr-dim-list'><li><span class='xr-has-index'>time</span>: 5</li><li><span class='xr-has-index'>lon</span>: 16709</li><li><span class='xr-has-index'>lat</span>: 3064</li></ul></div><div class='xr-section-details'></div></li><li class='xr-section-item'><input id='section-a689b90a-19af-4180-bc89-fa74ff839dcd' class='xr-section-summary-in' type='checkbox'  checked><label for='section-a689b90a-19af-4180-bc89-fa74ff839dcd' class='xr-section-summary' >Coordinates: <span>(3)</span></label><div class='xr-section-inline-details'></div><div class='xr-section-details'><ul class='xr-var-list'><li class='xr-var-item'><div class='xr-var-name'><span class='xr-has-index'>time</span></div><div class='xr-var-dims'>(time)</div><div class='xr-var-dtype'>datetime64[ns]</div><div class='xr-var-preview xr-preview'>2015-01-01 ... 2019-01-01</div><input id='attrs-ffbf768b-7ba1-4808-a0d2-8f4504cf56c5' class='xr-var-attrs-in' type='checkbox' ><label for='attrs-ffbf768b-7ba1-4808-a0d2-8f4504cf56c5' title='Show/Hide attributes'><svg class='icon xr-icon-file-text2'><use xlink:href='#icon-file-text2'></use></svg></label><input id='data-acf421f1-6a50-4e4c-ae49-010118ea93c4' class='xr-var-data-in' type='checkbox'><label for='data-acf421f1-6a50-4e4c-ae49-010118ea93c4' title='Show/Hide data repr'><svg class='icon xr-icon-database'><use xlink:href='#icon-database'></use></svg></label><div class='xr-var-attrs'><dl class='xr-attrs'><dt><span>standard_name :</span></dt><dd>t</dd><dt><span>long_name :</span></dt><dd>t</dd><dt><span>axis :</span></dt><dd>T</dd></dl></div><div class='xr-var-data'><pre>array([&#x27;2015-01-01T00:00:00.000000000&#x27;, &#x27;2016-01-01T00:00:00.000000000&#x27;,\n",
       "       &#x27;2017-01-01T00:00:00.000000000&#x27;, &#x27;2018-01-01T00:00:00.000000000&#x27;,\n",
       "       &#x27;2019-01-01T00:00:00.000000000&#x27;], dtype=&#x27;datetime64[ns]&#x27;)</pre></div></li><li class='xr-var-item'><div class='xr-var-name'><span class='xr-has-index'>lon</span></div><div class='xr-var-dims'>(lon)</div><div class='xr-var-dtype'>float64</div><div class='xr-var-preview xr-preview'>15.6 15.6 15.6 ... 31.06 31.07</div><input id='attrs-d50cef0d-e00b-4118-b6eb-ad54e4bed63c' class='xr-var-attrs-in' type='checkbox' ><label for='attrs-d50cef0d-e00b-4118-b6eb-ad54e4bed63c' title='Show/Hide attributes'><svg class='icon xr-icon-file-text2'><use xlink:href='#icon-file-text2'></use></svg></label><input id='data-af977908-1d18-4f20-8ad6-3bb74d3cc4e7' class='xr-var-data-in' type='checkbox'><label for='data-af977908-1d18-4f20-8ad6-3bb74d3cc4e7' title='Show/Hide data repr'><svg class='icon xr-icon-database'><use xlink:href='#icon-database'></use></svg></label><div class='xr-var-attrs'><dl class='xr-attrs'><dt><span>standard_name :</span></dt><dd>longitude</dd><dt><span>long_name :</span></dt><dd>longitude</dd><dt><span>units :</span></dt><dd>degrees_east</dd></dl></div><div class='xr-var-data'><pre>array([15.595314, 15.596239, 15.597165, ..., 31.063832, 31.064758, 31.065684])</pre></div></li><li class='xr-var-item'><div class='xr-var-name'><span class='xr-has-index'>lat</span></div><div class='xr-var-dims'>(lat)</div><div class='xr-var-dtype'>float64</div><div class='xr-var-preview xr-preview'>71.19 71.19 71.19 ... 68.35 68.35</div><input id='attrs-293608ab-f5c6-4c86-a249-b2fcaf95a3a5' class='xr-var-attrs-in' type='checkbox' ><label for='attrs-293608ab-f5c6-4c86-a249-b2fcaf95a3a5' title='Show/Hide attributes'><svg class='icon xr-icon-file-text2'><use xlink:href='#icon-file-text2'></use></svg></label><input id='data-31452f84-19b5-4c25-9392-76d3b2b82798' class='xr-var-data-in' type='checkbox'><label for='data-31452f84-19b5-4c25-9392-76d3b2b82798' title='Show/Hide data repr'><svg class='icon xr-icon-database'><use xlink:href='#icon-database'></use></svg></label><div class='xr-var-attrs'><dl class='xr-attrs'><dt><span>standard_name :</span></dt><dd>latitude</dd><dt><span>long_name :</span></dt><dd>latitude</dd><dt><span>units :</span></dt><dd>degrees_north</dd></dl></div><div class='xr-var-data'><pre>array([71.187647, 71.186721, 71.185796, ..., 68.353388, 68.352462, 68.351536])</pre></div></li></ul></div></li><li class='xr-section-item'><input id='section-6d178c12-a8e4-4dee-9269-431aef9ae9ae' class='xr-section-summary-in' type='checkbox'  checked><label for='section-6d178c12-a8e4-4dee-9269-431aef9ae9ae' class='xr-section-summary' >Data variables: <span>(5)</span></label><div class='xr-section-inline-details'></div><div class='xr-section-details'><ul class='xr-var-list'><li class='xr-var-item'><div class='xr-var-name'><span>Bare</span></div><div class='xr-var-dims'>(time, lat, lon)</div><div class='xr-var-dtype'>float32</div><div class='xr-var-preview xr-preview'>...</div><input id='attrs-75e12c44-84c5-4b01-9876-e8a3781c7b4d' class='xr-var-attrs-in' type='checkbox' ><label for='attrs-75e12c44-84c5-4b01-9876-e8a3781c7b4d' title='Show/Hide attributes'><svg class='icon xr-icon-file-text2'><use xlink:href='#icon-file-text2'></use></svg></label><input id='data-72cdbb4e-ad09-44c1-afdc-4377e496212b' class='xr-var-data-in' type='checkbox'><label for='data-72cdbb4e-ad09-44c1-afdc-4377e496212b' title='Show/Hide data repr'><svg class='icon xr-icon-database'><use xlink:href='#icon-database'></use></svg></label><div class='xr-var-attrs'><dl class='xr-attrs'><dt><span>long_name :</span></dt><dd>Bare_CoverFraction_layer</dd><dt><span>units :</span></dt><dd></dd><dt><span>grid_mapping :</span></dt><dd>crs</dd></dl></div><div class='xr-var-data'><pre>[255981880 values with dtype=float32]</pre></div></li><li class='xr-var-item'><div class='xr-var-name'><span>Grass</span></div><div class='xr-var-dims'>(time, lat, lon)</div><div class='xr-var-dtype'>float32</div><div class='xr-var-preview xr-preview'>...</div><input id='attrs-20c6dece-40cd-433e-9121-e28f247a1dd7' class='xr-var-attrs-in' type='checkbox' ><label for='attrs-20c6dece-40cd-433e-9121-e28f247a1dd7' title='Show/Hide attributes'><svg class='icon xr-icon-file-text2'><use xlink:href='#icon-file-text2'></use></svg></label><input id='data-96343719-65ca-489e-a1e3-5af15e38ccb0' class='xr-var-data-in' type='checkbox'><label for='data-96343719-65ca-489e-a1e3-5af15e38ccb0' title='Show/Hide data repr'><svg class='icon xr-icon-database'><use xlink:href='#icon-database'></use></svg></label><div class='xr-var-attrs'><dl class='xr-attrs'><dt><span>long_name :</span></dt><dd>Grass_CoverFraction_layer</dd><dt><span>units :</span></dt><dd></dd><dt><span>grid_mapping :</span></dt><dd>crs</dd></dl></div><div class='xr-var-data'><pre>[255981880 values with dtype=float32]</pre></div></li><li class='xr-var-item'><div class='xr-var-name'><span>Lichen</span></div><div class='xr-var-dims'>(time, lat, lon)</div><div class='xr-var-dtype'>float32</div><div class='xr-var-preview xr-preview'>...</div><input id='attrs-da1e5ec4-24b2-4bbd-8e72-fe0a435ba05a' class='xr-var-attrs-in' type='checkbox' ><label for='attrs-da1e5ec4-24b2-4bbd-8e72-fe0a435ba05a' title='Show/Hide attributes'><svg class='icon xr-icon-file-text2'><use xlink:href='#icon-file-text2'></use></svg></label><input id='data-11a4e64d-1ce9-45b5-b3d5-6d9ac2227d7b' class='xr-var-data-in' type='checkbox'><label for='data-11a4e64d-1ce9-45b5-b3d5-6d9ac2227d7b' title='Show/Hide data repr'><svg class='icon xr-icon-database'><use xlink:href='#icon-database'></use></svg></label><div class='xr-var-attrs'><dl class='xr-attrs'><dt><span>long_name :</span></dt><dd>MossLichen_CoverFraction_layer</dd><dt><span>units :</span></dt><dd></dd><dt><span>grid_mapping :</span></dt><dd>crs</dd></dl></div><div class='xr-var-data'><pre>[255981880 values with dtype=float32]</pre></div></li><li class='xr-var-item'><div class='xr-var-name'><span>Shrub</span></div><div class='xr-var-dims'>(time, lat, lon)</div><div class='xr-var-dtype'>float32</div><div class='xr-var-preview xr-preview'>...</div><input id='attrs-fbd4d99f-ea8c-4764-afb9-b0907bc58c23' class='xr-var-attrs-in' type='checkbox' ><label for='attrs-fbd4d99f-ea8c-4764-afb9-b0907bc58c23' title='Show/Hide attributes'><svg class='icon xr-icon-file-text2'><use xlink:href='#icon-file-text2'></use></svg></label><input id='data-2b7e034c-eb3c-4505-a612-2472306653df' class='xr-var-data-in' type='checkbox'><label for='data-2b7e034c-eb3c-4505-a612-2472306653df' title='Show/Hide data repr'><svg class='icon xr-icon-database'><use xlink:href='#icon-database'></use></svg></label><div class='xr-var-attrs'><dl class='xr-attrs'><dt><span>long_name :</span></dt><dd>Shrub_CoverFraction_layer</dd><dt><span>units :</span></dt><dd></dd><dt><span>grid_mapping :</span></dt><dd>crs</dd></dl></div><div class='xr-var-data'><pre>[255981880 values with dtype=float32]</pre></div></li><li class='xr-var-item'><div class='xr-var-name'><span>Tree</span></div><div class='xr-var-dims'>(time, lat, lon)</div><div class='xr-var-dtype'>float32</div><div class='xr-var-preview xr-preview'>...</div><input id='attrs-5fc24a5b-adc5-4b72-8936-0052718d63e3' class='xr-var-attrs-in' type='checkbox' ><label for='attrs-5fc24a5b-adc5-4b72-8936-0052718d63e3' title='Show/Hide attributes'><svg class='icon xr-icon-file-text2'><use xlink:href='#icon-file-text2'></use></svg></label><input id='data-68aef096-97a0-428c-9fea-ba578af9ee5d' class='xr-var-data-in' type='checkbox'><label for='data-68aef096-97a0-428c-9fea-ba578af9ee5d' title='Show/Hide data repr'><svg class='icon xr-icon-database'><use xlink:href='#icon-database'></use></svg></label><div class='xr-var-attrs'><dl class='xr-attrs'><dt><span>long_name :</span></dt><dd>Tree_CoverFraction_layer</dd><dt><span>units :</span></dt><dd></dd><dt><span>grid_mapping :</span></dt><dd>crs</dd></dl></div><div class='xr-var-data'><pre>[255981880 values with dtype=float32]</pre></div></li></ul></div></li><li class='xr-section-item'><input id='section-26ad065f-4639-4ecd-9851-9b6bb55b6266' class='xr-section-summary-in' type='checkbox'  checked><label for='section-26ad065f-4639-4ecd-9851-9b6bb55b6266' class='xr-section-summary' >Attributes: <span>(2)</span></label><div class='xr-section-inline-details'></div><div class='xr-section-details'><dl class='xr-attrs'><dt><span>Conventions :</span></dt><dd>CF-1.9</dd><dt><span>institution :</span></dt><dd>openEO platform</dd></dl></div></li></ul></div></div>"
      ],
      "text/plain": [
       "<xarray.Dataset>\n",
       "Dimensions:  (time: 5, lon: 16709, lat: 3064)\n",
       "Coordinates:\n",
       "  * time     (time) datetime64[ns] 2015-01-01 2016-01-01 ... 2019-01-01\n",
       "  * lon      (lon) float64 15.6 15.6 15.6 15.6 15.6 ... 31.06 31.06 31.06 31.07\n",
       "  * lat      (lat) float64 71.19 71.19 71.19 71.18 ... 68.35 68.35 68.35 68.35\n",
       "Data variables:\n",
       "    Bare     (time, lat, lon) float32 ...\n",
       "    Grass    (time, lat, lon) float32 ...\n",
       "    Lichen   (time, lat, lon) float32 ...\n",
       "    Shrub    (time, lat, lon) float32 ...\n",
       "    Tree     (time, lat, lon) float32 ...\n",
       "Attributes:\n",
       "    Conventions:  CF-1.9\n",
       "    institution:  openEO platform"
      ]
     },
     "execution_count": 44,
     "metadata": {},
     "output_type": "execute_result"
    }
   ],
   "source": [
    "GLC_AOI"
   ]
  },
  {
   "cell_type": "code",
   "execution_count": 45,
   "id": "005f2811-3e64-472b-80f4-3a77ba9cba9b",
   "metadata": {},
   "outputs": [
    {
     "name": "stdout",
     "output_type": "stream",
     "text": [
      "15.595313502963002 31.06568387333461 68.35153627792579 71.18764738903712\n"
     ]
    }
   ],
   "source": [
    "# Troms & Finnmark Global Land Cover area\n",
    "GLC_AOI_min_lon = GLC_AOI.lon.min()\n",
    "GLC_AOI_max_lon = GLC_AOI.lon.max()\n",
    "GLC_AOI_min_lat = GLC_AOI.lat.min()\n",
    "GLC_AOI_max_lat = GLC_AOI.lat.max()\n",
    "print(GLC_AOI_min_lon.values, GLC_AOI_max_lon.values, GLC_AOI_min_lat.values, GLC_AOI_max_lat.values)"
   ]
  },
  {
   "cell_type": "code",
   "execution_count": 46,
   "id": "4a575ba6-381f-473f-bac9-ac59133b1331",
   "metadata": {},
   "outputs": [
    {
     "name": "stdout",
     "output_type": "stream",
     "text": [
      "<xarray.DataArray 'Lichen' ()>\n",
      "array(1.) <xarray.DataArray 'Lichen' ()>\n",
      "array(255.)\n"
     ]
    }
   ],
   "source": [
    "print(GLC_AOI['Lichen'].min(), GLC_AOI['Lichen'].max())"
   ]
  },
  {
   "cell_type": "code",
   "execution_count": 47,
   "id": "97f2d52d-3648-44ee-85de-232f4acb3286",
   "metadata": {},
   "outputs": [],
   "source": [
    "GLC_AOI['Lichen'] = GLC_AOI['Lichen'].where(GLC_AOI['Lichen'] <= 100)"
   ]
  },
  {
   "cell_type": "code",
   "execution_count": 48,
   "id": "c269ded6-b2ff-437e-8672-b6c972dcee9a",
   "metadata": {},
   "outputs": [
    {
     "name": "stdout",
     "output_type": "stream",
     "text": [
      "<xarray.DataArray 'Lichen' ()>\n",
      "array(1.) <xarray.DataArray 'Lichen' ()>\n",
      "array(100.)\n"
     ]
    }
   ],
   "source": [
    "print(GLC_AOI['Lichen'].min(), GLC_AOI['Lichen'].max())"
   ]
  },
  {
   "cell_type": "code",
   "execution_count": 51,
   "id": "3d8337c6-1135-4a5c-9ea8-2061c8575b4f",
   "metadata": {},
   "outputs": [],
   "source": [
    "mask = GLC_AOI['Lichen'].prod(dim = 'time', min_count = 5, skipna=True)"
   ]
  },
  {
   "cell_type": "code",
   "execution_count": 52,
   "id": "2c4c1722-ab9b-4ead-8714-53c53bde6262",
   "metadata": {},
   "outputs": [],
   "source": [
    "mask = xr.where(mask > 0, 1, 0)"
   ]
  },
  {
   "cell_type": "code",
   "execution_count": 53,
   "id": "469aef48-1826-4b3c-b215-77382c392147",
   "metadata": {},
   "outputs": [
    {
     "data": {
      "text/plain": [
       "<matplotlib.collections.QuadMesh at 0x7f481688c970>"
      ]
     },
     "execution_count": 53,
     "metadata": {},
     "output_type": "execute_result"
    },
    {
     "data": {
      "image/png": "[encoded data removed]",
      "text/plain": [
       "<Figure size 800x600 with 2 Axes>"
      ]
     },
     "metadata": {},
     "output_type": "display_data"
    }
   ],
   "source": [
    "mask.plot(size=6)"
   ]
  },
  {
   "cell_type": "code",
   "execution_count": 60,
   "id": "17955437-3dfa-4901-a203-5ffc08c90237",
   "metadata": {},
   "outputs": [
    {
     "data": {
      "text/html": [
       "<div><svg style=\"position: absolute; width: 0; height: 0; overflow: hidden\">\n",
       "<defs>\n",
       "<symbol id=\"icon-database\" viewBox=\"0 0 32 32\">\n",
       "<path d=\"M16 0c-8.837 0-16 2.239-16 5v4c0 2.761 7.163 5 16 5s16-2.239 16-5v-4c0-2.761-7.163-5-16-5z\"></path>\n",
       "<path d=\"M16 17c-8.837 0-16-2.239-16-5v6c0 2.761 7.163 5 16 5s16-2.239 16-5v-6c0 2.761-7.163 5-16 5z\"></path>\n",
       "<path d=\"M16 26c-8.837 0-16-2.239-16-5v6c0 2.761 7.163 5 16 5s16-2.239 16-5v-6c0 2.761-7.163 5-16 5z\"></path>\n",
       "</symbol>\n",
       "<symbol id=\"icon-file-text2\" viewBox=\"0 0 32 32\">\n",
       "<path d=\"M28.681 7.159c-0.694-0.947-1.662-2.053-2.724-3.116s-2.169-2.030-3.116-2.724c-1.612-1.182-2.393-1.319-2.841-1.319h-15.5c-1.378 0-2.5 1.121-2.5 2.5v27c0 1.378 1.122 2.5 2.5 2.5h23c1.378 0 2.5-1.122 2.5-2.5v-19.5c0-0.448-0.137-1.23-1.319-2.841zM24.543 5.457c0.959 0.959 1.712 1.825 2.268 2.543h-4.811v-4.811c0.718 0.556 1.584 1.309 2.543 2.268zM28 29.5c0 0.271-0.229 0.5-0.5 0.5h-23c-0.271 0-0.5-0.229-0.5-0.5v-27c0-0.271 0.229-0.5 0.5-0.5 0 0 15.499-0 15.5 0v7c0 0.552 0.448 1 1 1h7v19.5z\"></path>\n",
       "<path d=\"M23 26h-14c-0.552 0-1-0.448-1-1s0.448-1 1-1h14c0.552 0 1 0.448 1 1s-0.448 1-1 1z\"></path>\n",
       "<path d=\"M23 22h-14c-0.552 0-1-0.448-1-1s0.448-1 1-1h14c0.552 0 1 0.448 1 1s-0.448 1-1 1z\"></path>\n",
       "<path d=\"M23 18h-14c-0.552 0-1-0.448-1-1s0.448-1 1-1h14c0.552 0 1 0.448 1 1s-0.448 1-1 1z\"></path>\n",
       "</symbol>\n",
       "</defs>\n",
       "</svg>\n",
       "<style>/* CSS stylesheet for displaying xarray objects in jupyterlab.\n",
       " *\n",
       " */\n",
       "\n",
       ":root {\n",
       "  --xr-font-color0: var(--jp-content-font-color0, rgba(0, 0, 0, 1));\n",
       "  --xr-font-color2: var(--jp-content-font-color2, rgba(0, 0, 0, 0.54));\n",
       "  --xr-font-color3: var(--jp-content-font-color3, rgba(0, 0, 0, 0.38));\n",
       "  --xr-border-color: var(--jp-border-color2, #e0e0e0);\n",
       "  --xr-disabled-color: var(--jp-layout-color3, #bdbdbd);\n",
       "  --xr-background-color: var(--jp-layout-color0, white);\n",
       "  --xr-background-color-row-even: var(--jp-layout-color1, white);\n",
       "  --xr-background-color-row-odd: var(--jp-layout-color2, #eeeeee);\n",
       "}\n",
       "\n",
       "html[theme=dark],\n",
       "body[data-theme=dark],\n",
       "body.vscode-dark {\n",
       "  --xr-font-color0: rgba(255, 255, 255, 1);\n",
       "  --xr-font-color2: rgba(255, 255, 255, 0.54);\n",
       "  --xr-font-color3: rgba(255, 255, 255, 0.38);\n",
       "  --xr-border-color: #1F1F1F;\n",
       "  --xr-disabled-color: #515151;\n",
       "  --xr-background-color: #111111;\n",
       "  --xr-background-color-row-even: #111111;\n",
       "  --xr-background-color-row-odd: #313131;\n",
       "}\n",
       "\n",
       ".xr-wrap {\n",
       "  display: block !important;\n",
       "  min-width: 300px;\n",
       "  max-width: 700px;\n",
       "}\n",
       "\n",
       ".xr-text-repr-fallback {\n",
       "  /* fallback to plain text repr when CSS is not injected (untrusted notebook) */\n",
       "  display: none;\n",
       "}\n",
       "\n",
       ".xr-header {\n",
       "  padding-top: 6px;\n",
       "  padding-bottom: 6px;\n",
       "  margin-bottom: 4px;\n",
       "  border-bottom: solid 1px var(--xr-border-color);\n",
       "}\n",
       "\n",
       ".xr-header > div,\n",
       ".xr-header > ul {\n",
       "  display: inline;\n",
       "  margin-top: 0;\n",
       "  margin-bottom: 0;\n",
       "}\n",
       "\n",
       ".xr-obj-type,\n",
       ".xr-array-name {\n",
       "  margin-left: 2px;\n",
       "  margin-right: 10px;\n",
       "}\n",
       "\n",
       ".xr-obj-type {\n",
       "  color: var(--xr-font-color2);\n",
       "}\n",
       "\n",
       ".xr-sections {\n",
       "  padding-left: 0 !important;\n",
       "  display: grid;\n",
       "  grid-template-columns: 150px auto auto 1fr 20px 20px;\n",
       "}\n",
       "\n",
       ".xr-section-item {\n",
       "  display: contents;\n",
       "}\n",
       "\n",
       ".xr-section-item input {\n",
       "  display: none;\n",
       "}\n",
       "\n",
       ".xr-section-item input + label {\n",
       "  color: var(--xr-disabled-color);\n",
       "}\n",
       "\n",
       ".xr-section-item input:enabled + label {\n",
       "  cursor: pointer;\n",
       "  color: var(--xr-font-color2);\n",
       "}\n",
       "\n",
       ".xr-section-item input:enabled + label:hover {\n",
       "  color: var(--xr-font-color0);\n",
       "}\n",
       "\n",
       ".xr-section-summary {\n",
       "  grid-column: 1;\n",
       "  color: var(--xr-font-color2);\n",
       "  font-weight: 500;\n",
       "}\n",
       "\n",
       ".xr-section-summary > span {\n",
       "  display: inline-block;\n",
       "  padding-left: 0.5em;\n",
       "}\n",
       "\n",
       ".xr-section-summary-in:disabled + label {\n",
       "  color: var(--xr-font-color2);\n",
       "}\n",
       "\n",
       ".xr-section-summary-in + label:before {\n",
       "  display: inline-block;\n",
       "  content: '►';\n",
       "  font-size: 11px;\n",
       "  width: 15px;\n",
       "  text-align: center;\n",
       "}\n",
       "\n",
       ".xr-section-summary-in:disabled + label:before {\n",
       "  color: var(--xr-disabled-color);\n",
       "}\n",
       "\n",
       ".xr-section-summary-in:checked + label:before {\n",
       "  content: '▼';\n",
       "}\n",
       "\n",
       ".xr-section-summary-in:checked + label > span {\n",
       "  display: none;\n",
       "}\n",
       "\n",
       ".xr-section-summary,\n",
       ".xr-section-inline-details {\n",
       "  padding-top: 4px;\n",
       "  padding-bottom: 4px;\n",
       "}\n",
       "\n",
       ".xr-section-inline-details {\n",
       "  grid-column: 2 / -1;\n",
       "}\n",
       "\n",
       ".xr-section-details {\n",
       "  display: none;\n",
       "  grid-column: 1 / -1;\n",
       "  margin-bottom: 5px;\n",
       "}\n",
       "\n",
       ".xr-section-summary-in:checked ~ .xr-section-details {\n",
       "  display: contents;\n",
       "}\n",
       "\n",
       ".xr-array-wrap {\n",
       "  grid-column: 1 / -1;\n",
       "  display: grid;\n",
       "  grid-template-columns: 20px auto;\n",
       "}\n",
       "\n",
       ".xr-array-wrap > label {\n",
       "  grid-column: 1;\n",
       "  vertical-align: top;\n",
       "}\n",
       "\n",
       ".xr-preview {\n",
       "  color: var(--xr-font-color3);\n",
       "}\n",
       "\n",
       ".xr-array-preview,\n",
       ".xr-array-data {\n",
       "  padding: 0 5px !important;\n",
       "  grid-column: 2;\n",
       "}\n",
       "\n",
       ".xr-array-data,\n",
       ".xr-array-in:checked ~ .xr-array-preview {\n",
       "  display: none;\n",
       "}\n",
       "\n",
       ".xr-array-in:checked ~ .xr-array-data,\n",
       ".xr-array-preview {\n",
       "  display: inline-block;\n",
       "}\n",
       "\n",
       ".xr-dim-list {\n",
       "  display: inline-block !important;\n",
       "  list-style: none;\n",
       "  padding: 0 !important;\n",
       "  margin: 0;\n",
       "}\n",
       "\n",
       ".xr-dim-list li {\n",
       "  display: inline-block;\n",
       "  padding: 0;\n",
       "  margin: 0;\n",
       "}\n",
       "\n",
       ".xr-dim-list:before {\n",
       "  content: '(';\n",
       "}\n",
       "\n",
       ".xr-dim-list:after {\n",
       "  content: ')';\n",
       "}\n",
       "\n",
       ".xr-dim-list li:not(:last-child):after {\n",
       "  content: ',';\n",
       "  padding-right: 5px;\n",
       "}\n",
       "\n",
       ".xr-has-index {\n",
       "  font-weight: bold;\n",
       "}\n",
       "\n",
       ".xr-var-list,\n",
       ".xr-var-item {\n",
       "  display: contents;\n",
       "}\n",
       "\n",
       ".xr-var-item > div,\n",
       ".xr-var-item label,\n",
       ".xr-var-item > .xr-var-name span {\n",
       "  background-color: var(--xr-background-color-row-even);\n",
       "  margin-bottom: 0;\n",
       "}\n",
       "\n",
       ".xr-var-item > .xr-var-name:hover span {\n",
       "  padding-right: 5px;\n",
       "}\n",
       "\n",
       ".xr-var-list > li:nth-child(odd) > div,\n",
       ".xr-var-list > li:nth-child(odd) > label,\n",
       ".xr-var-list > li:nth-child(odd) > .xr-var-name span {\n",
       "  background-color: var(--xr-background-color-row-odd);\n",
       "}\n",
       "\n",
       ".xr-var-name {\n",
       "  grid-column: 1;\n",
       "}\n",
       "\n",
       ".xr-var-dims {\n",
       "  grid-column: 2;\n",
       "}\n",
       "\n",
       ".xr-var-dtype {\n",
       "  grid-column: 3;\n",
       "  text-align: right;\n",
       "  color: var(--xr-font-color2);\n",
       "}\n",
       "\n",
       ".xr-var-preview {\n",
       "  grid-column: 4;\n",
       "}\n",
       "\n",
       ".xr-var-name,\n",
       ".xr-var-dims,\n",
       ".xr-var-dtype,\n",
       ".xr-preview,\n",
       ".xr-attrs dt {\n",
       "  white-space: nowrap;\n",
       "  overflow: hidden;\n",
       "  text-overflow: ellipsis;\n",
       "  padding-right: 10px;\n",
       "}\n",
       "\n",
       ".xr-var-name:hover,\n",
       ".xr-var-dims:hover,\n",
       ".xr-var-dtype:hover,\n",
       ".xr-attrs dt:hover {\n",
       "  overflow: visible;\n",
       "  width: auto;\n",
       "  z-index: 1;\n",
       "}\n",
       "\n",
       ".xr-var-attrs,\n",
       ".xr-var-data {\n",
       "  display: none;\n",
       "  background-color: var(--xr-background-color) !important;\n",
       "  padding-bottom: 5px !important;\n",
       "}\n",
       "\n",
       ".xr-var-attrs-in:checked ~ .xr-var-attrs,\n",
       ".xr-var-data-in:checked ~ .xr-var-data {\n",
       "  display: block;\n",
       "}\n",
       "\n",
       ".xr-var-data > table {\n",
       "  float: right;\n",
       "}\n",
       "\n",
       ".xr-var-name span,\n",
       ".xr-var-data,\n",
       ".xr-attrs {\n",
       "  padding-left: 25px !important;\n",
       "}\n",
       "\n",
       ".xr-attrs,\n",
       ".xr-var-attrs,\n",
       ".xr-var-data {\n",
       "  grid-column: 1 / -1;\n",
       "}\n",
       "\n",
       "dl.xr-attrs {\n",
       "  padding: 0;\n",
       "  margin: 0;\n",
       "  display: grid;\n",
       "  grid-template-columns: 125px auto;\n",
       "}\n",
       "\n",
       ".xr-attrs dt,\n",
       ".xr-attrs dd {\n",
       "  padding: 0;\n",
       "  margin: 0;\n",
       "  float: left;\n",
       "  padding-right: 10px;\n",
       "  width: auto;\n",
       "}\n",
       "\n",
       ".xr-attrs dt {\n",
       "  font-weight: normal;\n",
       "  grid-column: 1;\n",
       "}\n",
       "\n",
       ".xr-attrs dt:hover span {\n",
       "  display: inline-block;\n",
       "  background: var(--xr-background-color);\n",
       "  padding-right: 10px;\n",
       "}\n",
       "\n",
       ".xr-attrs dd {\n",
       "  grid-column: 2;\n",
       "  white-space: pre-wrap;\n",
       "  word-break: break-all;\n",
       "}\n",
       "\n",
       ".xr-icon-database,\n",
       ".xr-icon-file-text2 {\n",
       "  display: inline-block;\n",
       "  vertical-align: middle;\n",
       "  width: 1em;\n",
       "  height: 1.5em !important;\n",
       "  stroke-width: 0;\n",
       "  stroke: currentColor;\n",
       "  fill: currentColor;\n",
       "}\n",
       "</style><pre class='xr-text-repr-fallback'>&lt;xarray.DataArray &#x27;Lichen&#x27; ()&gt;\n",
       "array(95934)</pre><div class='xr-wrap' style='display:none'><div class='xr-header'><div class='xr-obj-type'>xarray.DataArray</div><div class='xr-array-name'>'Lichen'</div></div><ul class='xr-sections'><li class='xr-section-item'><div class='xr-array-wrap'><input id='section-1268aa70-1c6c-446c-ae94-25c4013876ba' class='xr-array-in' type='checkbox' checked><label for='section-1268aa70-1c6c-446c-ae94-25c4013876ba' title='Show/hide data repr'><svg class='icon xr-icon-database'><use xlink:href='#icon-database'></use></svg></label><div class='xr-array-preview xr-preview'><span>95934</span></div><div class='xr-array-data'><pre>array(95934)</pre></div></div></li><li class='xr-section-item'><input id='section-2a16763e-c3e8-4c8b-99fc-900ed0dba39e' class='xr-section-summary-in' type='checkbox' disabled ><label for='section-2a16763e-c3e8-4c8b-99fc-900ed0dba39e' class='xr-section-summary'  title='Expand/collapse section'>Coordinates: <span>(0)</span></label><div class='xr-section-inline-details'></div><div class='xr-section-details'><ul class='xr-var-list'></ul></div></li><li class='xr-section-item'><input id='section-e2342ec8-77b1-4b85-be46-0976c6ecd624' class='xr-section-summary-in' type='checkbox' disabled ><label for='section-e2342ec8-77b1-4b85-be46-0976c6ecd624' class='xr-section-summary'  title='Expand/collapse section'>Attributes: <span>(0)</span></label><div class='xr-section-inline-details'></div><div class='xr-section-details'><dl class='xr-attrs'></dl></div></li></ul></div></div>"
      ],
      "text/plain": [
       "<xarray.DataArray 'Lichen' ()>\n",
       "array(95934)"
      ]
     },
     "execution_count": 60,
     "metadata": {},
     "output_type": "execute_result"
    }
   ],
   "source": [
    "mask.sum()"
   ]
  },
  {
   "cell_type": "markdown",
   "id": "7b2684a4-a511-404e-a6a2-602349743a4c",
   "metadata": {},
   "source": [
    "## Mask not used, yet "
   ]
  },
  {
   "cell_type": "code",
   "execution_count": 57,
   "id": "e64708f6-c8c5-43b8-a984-c435a2d5d7be",
   "metadata": {},
   "outputs": [],
   "source": [
    "de = GLC_AOI.where(mask == 1).to_dataframe()"
   ]
  },
  {
   "cell_type": "code",
   "execution_count": 58,
   "id": "8cdbb4b8-438b-41ae-81c7-0f3cb1df45d5",
   "metadata": {},
   "outputs": [],
   "source": [
    "de = de.reset_index()"
   ]
  },
  {
   "cell_type": "code",
   "execution_count": 59,
   "id": "0a357568-d738-4158-86da-e43f512eda90",
   "metadata": {},
   "outputs": [
    {
     "data": {
      "text/html": [
       "<div>\n",
       "<style scoped>\n",
       "    .dataframe tbody tr th:only-of-type {\n",
       "        vertical-align: middle;\n",
       "    }\n",
       "\n",
       "    .dataframe tbody tr th {\n",
       "        vertical-align: top;\n",
       "    }\n",
       "\n",
       "    .dataframe thead th {\n",
       "        text-align: right;\n",
       "    }\n",
       "</style>\n",
       "<table border=\"1\" class=\"dataframe\">\n",
       "  <thead>\n",
       "    <tr style=\"text-align: right;\">\n",
       "      <th></th>\n",
       "      <th>time</th>\n",
       "      <th>lat</th>\n",
       "      <th>lon</th>\n",
       "      <th>Bare</th>\n",
       "      <th>Grass</th>\n",
       "      <th>Lichen</th>\n",
       "      <th>Shrub</th>\n",
       "      <th>Tree</th>\n",
       "    </tr>\n",
       "  </thead>\n",
       "  <tbody>\n",
       "    <tr>\n",
       "      <th>0</th>\n",
       "      <td>2015-01-01</td>\n",
       "      <td>71.187647</td>\n",
       "      <td>15.595314</td>\n",
       "      <td>NaN</td>\n",
       "      <td>NaN</td>\n",
       "      <td>NaN</td>\n",
       "      <td>NaN</td>\n",
       "      <td>NaN</td>\n",
       "    </tr>\n",
       "    <tr>\n",
       "      <th>1</th>\n",
       "      <td>2015-01-01</td>\n",
       "      <td>71.187647</td>\n",
       "      <td>15.596239</td>\n",
       "      <td>NaN</td>\n",
       "      <td>NaN</td>\n",
       "      <td>NaN</td>\n",
       "      <td>NaN</td>\n",
       "      <td>NaN</td>\n",
       "    </tr>\n",
       "    <tr>\n",
       "      <th>2</th>\n",
       "      <td>2015-01-01</td>\n",
       "      <td>71.187647</td>\n",
       "      <td>15.597165</td>\n",
       "      <td>NaN</td>\n",
       "      <td>NaN</td>\n",
       "      <td>NaN</td>\n",
       "      <td>NaN</td>\n",
       "      <td>NaN</td>\n",
       "    </tr>\n",
       "    <tr>\n",
       "      <th>3</th>\n",
       "      <td>2015-01-01</td>\n",
       "      <td>71.187647</td>\n",
       "      <td>15.598091</td>\n",
       "      <td>NaN</td>\n",
       "      <td>NaN</td>\n",
       "      <td>NaN</td>\n",
       "      <td>NaN</td>\n",
       "      <td>NaN</td>\n",
       "    </tr>\n",
       "    <tr>\n",
       "      <th>4</th>\n",
       "      <td>2015-01-01</td>\n",
       "      <td>71.187647</td>\n",
       "      <td>15.599017</td>\n",
       "      <td>NaN</td>\n",
       "      <td>NaN</td>\n",
       "      <td>NaN</td>\n",
       "      <td>NaN</td>\n",
       "      <td>NaN</td>\n",
       "    </tr>\n",
       "    <tr>\n",
       "      <th>...</th>\n",
       "      <td>...</td>\n",
       "      <td>...</td>\n",
       "      <td>...</td>\n",
       "      <td>...</td>\n",
       "      <td>...</td>\n",
       "      <td>...</td>\n",
       "      <td>...</td>\n",
       "      <td>...</td>\n",
       "    </tr>\n",
       "    <tr>\n",
       "      <th>255981875</th>\n",
       "      <td>2019-01-01</td>\n",
       "      <td>68.351536</td>\n",
       "      <td>31.061980</td>\n",
       "      <td>NaN</td>\n",
       "      <td>NaN</td>\n",
       "      <td>NaN</td>\n",
       "      <td>NaN</td>\n",
       "      <td>NaN</td>\n",
       "    </tr>\n",
       "    <tr>\n",
       "      <th>255981876</th>\n",
       "      <td>2019-01-01</td>\n",
       "      <td>68.351536</td>\n",
       "      <td>31.062906</td>\n",
       "      <td>NaN</td>\n",
       "      <td>NaN</td>\n",
       "      <td>NaN</td>\n",
       "      <td>NaN</td>\n",
       "      <td>NaN</td>\n",
       "    </tr>\n",
       "    <tr>\n",
       "      <th>255981877</th>\n",
       "      <td>2019-01-01</td>\n",
       "      <td>68.351536</td>\n",
       "      <td>31.063832</td>\n",
       "      <td>NaN</td>\n",
       "      <td>NaN</td>\n",
       "      <td>NaN</td>\n",
       "      <td>NaN</td>\n",
       "      <td>NaN</td>\n",
       "    </tr>\n",
       "    <tr>\n",
       "      <th>255981878</th>\n",
       "      <td>2019-01-01</td>\n",
       "      <td>68.351536</td>\n",
       "      <td>31.064758</td>\n",
       "      <td>NaN</td>\n",
       "      <td>NaN</td>\n",
       "      <td>NaN</td>\n",
       "      <td>NaN</td>\n",
       "      <td>NaN</td>\n",
       "    </tr>\n",
       "    <tr>\n",
       "      <th>255981879</th>\n",
       "      <td>2019-01-01</td>\n",
       "      <td>68.351536</td>\n",
       "      <td>31.065684</td>\n",
       "      <td>NaN</td>\n",
       "      <td>NaN</td>\n",
       "      <td>NaN</td>\n",
       "      <td>NaN</td>\n",
       "      <td>NaN</td>\n",
       "    </tr>\n",
       "  </tbody>\n",
       "</table>\n",
       "<p>255981880 rows × 8 columns</p>\n",
       "</div>"
      ],
      "text/plain": [
       "                time        lat        lon  Bare  Grass  Lichen  Shrub  Tree\n",
       "0         2015-01-01  71.187647  15.595314   NaN    NaN     NaN    NaN   NaN\n",
       "1         2015-01-01  71.187647  15.596239   NaN    NaN     NaN    NaN   NaN\n",
       "2         2015-01-01  71.187647  15.597165   NaN    NaN     NaN    NaN   NaN\n",
       "3         2015-01-01  71.187647  15.598091   NaN    NaN     NaN    NaN   NaN\n",
       "4         2015-01-01  71.187647  15.599017   NaN    NaN     NaN    NaN   NaN\n",
       "...              ...        ...        ...   ...    ...     ...    ...   ...\n",
       "255981875 2019-01-01  68.351536  31.061980   NaN    NaN     NaN    NaN   NaN\n",
       "255981876 2019-01-01  68.351536  31.062906   NaN    NaN     NaN    NaN   NaN\n",
       "255981877 2019-01-01  68.351536  31.063832   NaN    NaN     NaN    NaN   NaN\n",
       "255981878 2019-01-01  68.351536  31.064758   NaN    NaN     NaN    NaN   NaN\n",
       "255981879 2019-01-01  68.351536  31.065684   NaN    NaN     NaN    NaN   NaN\n",
       "\n",
       "[255981880 rows x 8 columns]"
      ]
     },
     "execution_count": 59,
     "metadata": {},
     "output_type": "execute_result"
    }
   ],
   "source": [
    "de"
   ]
  },
  {
   "cell_type": "code",
   "execution_count": null,
   "id": "7b07631c-06b8-4337-b4e6-c12a364ebd91",
   "metadata": {},
   "outputs": [],
   "source": [
    "# Only keep the locations where there is lichen\n",
    "dd = de[(de['Lichen'] > 0) & (de['Lichen'] <= 100)]"
   ]
  },
  {
   "cell_type": "code",
   "execution_count": null,
   "id": "79975bcc-21d4-4b9b-a4cc-21ccff7fba94",
   "metadata": {},
   "outputs": [],
   "source": [
    "dd"
   ]
  },
  {
   "cell_type": "markdown",
   "id": "3ecf43ae-f6f9-469c-b99c-63333452dd21",
   "metadata": {
    "tags": []
   },
   "source": [
    "## Each year in a separate dataset and keep only the first 183 days"
   ]
  },
  {
   "cell_type": "code",
   "execution_count": null,
   "id": "3045f368-e918-4120-acb5-72212700bd3c",
   "metadata": {},
   "outputs": [],
   "source": [
    "Year = 2015\n",
    "Number_of_days = 183\n",
    "print('x = WLC(' + str(Year)+ ') joined with ERA5land(' + str(Year + 1) + ')')\n",
    "print('y = WLC(' + str(Year + 1) + ')')"
   ]
  },
  {
   "cell_type": "code",
   "execution_count": null,
   "id": "53d06e80-ab56-4d87-b3b3-254cd043238c",
   "metadata": {},
   "outputs": [],
   "source": [
    "# Only keep locations with lichen for the current year\n",
    "df = dd.loc[dd['time'] == str(Year) + '-01-01']\n",
    "dg = de.loc[de['time'] == str(Year + 1) + '-01-01']"
   ]
  },
  {
   "cell_type": "code",
   "execution_count": null,
   "id": "77691234-58ec-400f-a17e-f59ccae9b8bc",
   "metadata": {},
   "outputs": [],
   "source": [
    "df"
   ]
  },
  {
   "cell_type": "code",
   "execution_count": null,
   "id": "d1495f68-a4f4-4d50-8afb-112db4eb9c10",
   "metadata": {},
   "outputs": [],
   "source": [
    "# Replace NaNs by 0\n",
    "for col in ['Bare', 'Grass', 'Lichen', 'Shrub', 'Tree']:\n",
    "    print(col)\n",
    "    df[col] = df[col].fillna(0)\n",
    "    dg[col] = dg[col].fillna(0)"
   ]
  },
  {
   "cell_type": "code",
   "execution_count": null,
   "id": "240924bf-293d-4ffa-b2ac-cfc812894a06",
   "metadata": {},
   "outputs": [],
   "source": [
    "# Calculate total fractional coverage of bare, grass, lichen, shrub and tree (should be 100)\n",
    "df['Total']  = (df['Bare'] + df['Grass'] + df['Lichen'] + df['Shrub'] + df['Tree'])\n",
    "dg['Total']  = (dg['Bare'] + dg['Grass'] + dg['Lichen'] + dg['Shrub'] + dg['Tree'])"
   ]
  },
  {
   "cell_type": "code",
   "execution_count": null,
   "id": "560e75ff-c5a6-40bb-9f44-291dd60cc77d",
   "metadata": {},
   "outputs": [],
   "source": [
    "df"
   ]
  },
  {
   "cell_type": "code",
   "execution_count": null,
   "id": "0ec1fc33-1aee-4182-82ea-501ebfdd266d",
   "metadata": {},
   "outputs": [],
   "source": [
    "# Normalize the fractional cover\n",
    "for col in ['Bare', 'Grass', 'Lichen', 'Shrub', 'Tree']:\n",
    "    print(col)\n",
    "    df[col] = df[col] / df['Total']\n",
    "    dg[col] = dg[col] / dg['Total']"
   ]
  },
  {
   "cell_type": "code",
   "execution_count": null,
   "id": "c388376d-8d4c-4c57-9ee5-645b9e2f0053",
   "metadata": {},
   "outputs": [],
   "source": [
    "# Drop the *Total* column\n",
    "df = df.drop(['Total'], axis=1)\n",
    "dg = dg.drop(['Total'], axis=1)"
   ]
  },
  {
   "cell_type": "code",
   "execution_count": null,
   "id": "21a25972-361a-4ae9-952a-5ea586f420d9",
   "metadata": {},
   "outputs": [],
   "source": [
    "df"
   ]
  },
  {
   "cell_type": "code",
   "execution_count": null,
   "id": "e159912a-9207-47e6-a22d-64fb5aa3e375",
   "metadata": {},
   "outputs": [],
   "source": [
    "dg"
   ]
  },
  {
   "cell_type": "code",
   "execution_count": null,
   "id": "610a5133-c7c5-4cf1-9aae-d7840fb9b551",
   "metadata": {},
   "outputs": [],
   "source": [
    "# Convert to VAEX\n",
    "dvx = vaex.from_pandas(df)\n",
    "dvy = vaex.from_pandas(dg)"
   ]
  },
  {
   "cell_type": "code",
   "execution_count": null,
   "id": "4d29c526-a72a-48ea-8236-581daf29bb7d",
   "metadata": {},
   "outputs": [],
   "source": [
    "dvx"
   ]
  },
  {
   "cell_type": "code",
   "execution_count": null,
   "id": "41dedf34-a67a-4a53-b93b-9a40b3cb5485",
   "metadata": {},
   "outputs": [],
   "source": [
    "dvy"
   ]
  },
  {
   "cell_type": "code",
   "execution_count": null,
   "id": "a5a16aab-03ef-4926-837e-f4d4a47fa7b0",
   "metadata": {},
   "outputs": [],
   "source": [
    "# Find the correspondind ERA5-land lat-lon\n",
    "# Careful with the latitude, in reverse order\n",
    "dvx['ERA5_lon_index'] = ((dvx.lon - 15.59) / 0.1).astype('int').values\n",
    "dvx['ERA5_lat_index'] = 28 - ((dvx.lat - 68.35) / 0.1).astype('int').values\n",
    "dvy['ERA5_lon_index'] = ((dvy.lon - 15.59) / 0.1).astype('int').values\n",
    "dvy['ERA5_lat_index'] = 28 - ((dvy.lat - 68.35) / 0.1).astype('int').values"
   ]
  },
  {
   "cell_type": "code",
   "execution_count": null,
   "id": "5463849e-45a8-4bc9-85af-53aa68f32892",
   "metadata": {},
   "outputs": [],
   "source": [
    "dvx"
   ]
  },
  {
   "cell_type": "markdown",
   "id": "1f64038a-aa03-48c0-8bf0-3855b233df1e",
   "metadata": {},
   "source": [
    "# Adding columns with the ERA5-land longitude and latitude to dv"
   ]
  },
  {
   "cell_type": "code",
   "execution_count": null,
   "id": "40178080-7c9d-40fb-92f3-f36cf67555d3",
   "metadata": {},
   "outputs": [],
   "source": [
    "dvx['ERA5_lon'] = ERA5land.sel(time=\"2015-01-01\").longitude[dvx['ERA5_lon_index'].values].values\n",
    "dvx['ERA5_lat'] = ERA5land.sel(time=\"2015-01-01\").latitude[dvx['ERA5_lat_index'].values].values\n",
    "dvy['ERA5_lon'] = ERA5land.sel(time=\"2015-01-01\").longitude[dvy['ERA5_lon_index'].values].values\n",
    "dvy['ERA5_lat'] = ERA5land.sel(time=\"2015-01-01\").latitude[dvy['ERA5_lat_index'].values].values"
   ]
  },
  {
   "cell_type": "code",
   "execution_count": null,
   "id": "241e9ea8-a1d0-44fb-b71a-a7da73047e33",
   "metadata": {
    "tags": []
   },
   "outputs": [],
   "source": [
    "dvx"
   ]
  },
  {
   "cell_type": "markdown",
   "id": "2fc733d2-bcb6-42ee-b03a-654484084b48",
   "metadata": {},
   "source": [
    "## Extract ERA5 data for  the selected period of the year (when RoS events mostly occur)"
   ]
  },
  {
   "cell_type": "code",
   "execution_count": null,
   "id": "6c8f4a7a-4e10-4a6c-a510-dd7147f1fe5b",
   "metadata": {},
   "outputs": [],
   "source": [
    "ERA5 = ERA5land.sel(time=slice(str(Year + 1) + '-01-01', str(Year + 1)  + '-12-31'))"
   ]
  },
  {
   "cell_type": "code",
   "execution_count": null,
   "id": "47487e13-f1d4-4817-8626-380115db5d80",
   "metadata": {},
   "outputs": [],
   "source": [
    "ERA5 = ERA5.isel(time=range(Number_of_days * 24))"
   ]
  },
  {
   "cell_type": "code",
   "execution_count": null,
   "id": "0445ee7a-78df-4bd2-9cf1-12f945d249e6",
   "metadata": {},
   "outputs": [],
   "source": [
    "ERA5 = ERA5.isel(expver = 0)"
   ]
  },
  {
   "cell_type": "code",
   "execution_count": null,
   "id": "f39d9d28-e7d4-48ff-975e-d1ad03474acc",
   "metadata": {},
   "outputs": [],
   "source": [
    "ERA5"
   ]
  },
  {
   "cell_type": "code",
   "execution_count": null,
   "id": "e5169c2c-9959-4f03-a4c1-4fd4ed78b51f",
   "metadata": {},
   "outputs": [],
   "source": [
    "# Extract ERA5 t2m, tp and sd fields \n",
    "ERA5_t2m = ERA5.where(ERA5['latitude'].isin(dvx['ERA5_lat'].values) & ERA5['longitude'].isin(dvx['ERA5_lon'].values))['t2m']\n",
    "ERA5_tp = ERA5.where(ERA5['latitude'].isin(dvx['ERA5_lat'].values) & ERA5['longitude'].isin(dvx['ERA5_lon'].values))['tp']\n",
    "ERA5_sd = ERA5.where(ERA5['latitude'].isin(dvx['ERA5_lat'].values) & ERA5['longitude'].isin(dvx['ERA5_lon'].values))['sd']"
   ]
  },
  {
   "cell_type": "markdown",
   "id": "37845636-c0f4-43c3-a0c6-eda839fe413a",
   "metadata": {},
   "source": [
    "## Rain on Snow criteria (according to https://www.hydrol-earth-syst-sci.net/23/2983/2019/hess-23-2983-2019.pdf)\n",
    " * total rainfall volume of at least 20 mm within 12 h\n",
    "### or \n",
    " * air temperatures above 0C (273.15K)\n",
    " * and initial snowpack depth of at least 10 cm"
   ]
  },
  {
   "cell_type": "code",
   "execution_count": null,
   "id": "66d4908a-2d8f-4792-bac3-9bdf0370e61c",
   "metadata": {},
   "outputs": [],
   "source": [
    "# Normalizing temperature, total precipitation and snow depth values accordidng to these criteria\n",
    "ERA5_t2m = ERA5_t2m / 273.15\n",
    "ERA5_tp = ERA5_tp / 0.02 * 12.\n",
    "ERA5_sd = ERA5_sd / 0.1"
   ]
  },
  {
   "cell_type": "code",
   "execution_count": null,
   "id": "9fe418ca-c2d9-4f66-bc6f-c59ca6a514ef",
   "metadata": {},
   "outputs": [],
   "source": [
    "df_t2m = ERA5_t2m.stack(z=['latitude', 'longitude']).to_pandas().transpose().reset_index()\n",
    "df_tp = ERA5_tp.stack(z=['latitude', 'longitude']).to_pandas().transpose().reset_index()\n",
    "df_sd = ERA5_sd.stack(z=['latitude', 'longitude']).to_pandas().transpose().reset_index()"
   ]
  },
  {
   "cell_type": "code",
   "execution_count": null,
   "id": "649011e2-87e3-4eb5-af67-913cc5f01358",
   "metadata": {},
   "outputs": [],
   "source": [
    "df_tp = df_tp.drop(columns=['latitude', 'longitude'])\n",
    "df_sd = df_sd.drop(columns=['latitude', 'longitude'])"
   ]
  },
  {
   "cell_type": "code",
   "execution_count": null,
   "id": "01d756d0-8853-485a-a46a-d28fb86eb36a",
   "metadata": {},
   "outputs": [],
   "source": [
    "# Create labels for ERA5-land variables to replace the dates\n",
    "label_t2m = ['latitude', 'longitude']\n",
    "label_tp = list()\n",
    "label_sd = list()\n",
    "for i in range(Number_of_days * 24):\n",
    "    label_t2m.append('t2m_'+ str(i))\n",
    "    label_tp.append('tp_'+ str(i))\n",
    "    label_sd.append('sd_'+ str(i))"
   ]
  },
  {
   "cell_type": "code",
   "execution_count": null,
   "id": "aeec38bc-095a-44d3-99bd-4d3f9003d4b9",
   "metadata": {},
   "outputs": [],
   "source": [
    "df_t2m.set_axis(label_t2m, axis=\"columns\", inplace=True)\n",
    "df_tp.set_axis(label_tp, axis=\"columns\", inplace=True)\n",
    "df_sd.set_axis(label_sd, axis=\"columns\", inplace=True)"
   ]
  },
  {
   "cell_type": "code",
   "execution_count": null,
   "id": "436afe75-5ccd-420a-9b46-c5df77c19464",
   "metadata": {},
   "outputs": [],
   "source": [
    "##  Glue together df_t2m, df_tp and df_sd\n",
    "df = pd.concat([df_t2m, df_tp, df_sd], axis = 1)"
   ]
  },
  {
   "cell_type": "code",
   "execution_count": null,
   "id": "e73f003c-e237-4bfa-8281-2126a9c7b170",
   "metadata": {},
   "outputs": [],
   "source": [
    "df"
   ]
  },
  {
   "cell_type": "code",
   "execution_count": null,
   "id": "66753591-e153-498b-9692-5124e1d3730e",
   "metadata": {},
   "outputs": [],
   "source": [
    "# Add combined lon_lat column to df\n",
    "df['lon_lat'] = (df['longitude'] * 100).astype('int') + (df['latitude'] * 100).astype('int') / 100000"
   ]
  },
  {
   "cell_type": "code",
   "execution_count": null,
   "id": "6ab2c630-e7e0-40e1-b393-21b45f5c5bcd",
   "metadata": {},
   "outputs": [],
   "source": [
    "# Drop latitude and longitude columns which are not used anymore in df\n",
    "df = df.drop(columns=['latitude', 'longitude'])"
   ]
  },
  {
   "cell_type": "code",
   "execution_count": null,
   "id": "f5e15c21-2a18-4985-ba3c-ed3681e7c4ee",
   "metadata": {},
   "outputs": [],
   "source": [
    "df"
   ]
  },
  {
   "cell_type": "code",
   "execution_count": null,
   "id": "fecc78fe-69b9-403f-9ef2-cf6d50dcb2f8",
   "metadata": {},
   "outputs": [],
   "source": [
    "# Add combined lon_lat column to dv x & y\n",
    "dvx['lon_lat'] = (dvx['ERA5_lon'] * 100).astype('int') + (dvx['ERA5_lat'] * 100).astype('int') / 100000"
   ]
  },
  {
   "cell_type": "code",
   "execution_count": null,
   "id": "42d2dbe5-3287-4e97-9015-2361d4ffc7da",
   "metadata": {
    "tags": []
   },
   "outputs": [],
   "source": [
    "dvx"
   ]
  },
  {
   "cell_type": "code",
   "execution_count": null,
   "id": "5c6c05db-161e-421d-8a4f-6c782145ec14",
   "metadata": {},
   "outputs": [],
   "source": [
    "# Drop unused columns in dv x & y\n",
    "dwx = dvx.drop(columns=['time', 'ERA5_lon_index', 'ERA5_lat_index', 'ERA5_lon', 'ERA5_lat'])\n",
    "dwy = dvy.drop(columns=['time', 'ERA5_lon_index', 'ERA5_lat_index', 'ERA5_lon', 'ERA5_lat'])"
   ]
  },
  {
   "cell_type": "code",
   "execution_count": null,
   "id": "66037d06-7d33-4fb3-87a3-fcdbd67f348c",
   "metadata": {},
   "outputs": [],
   "source": [
    "dwx"
   ]
  },
  {
   "cell_type": "code",
   "execution_count": null,
   "id": "deb9645c-0cf5-4f9e-9ba8-89021e0c3d41",
   "metadata": {},
   "outputs": [],
   "source": [
    "dwy"
   ]
  },
  {
   "cell_type": "code",
   "execution_count": null,
   "id": "bbb58d81-2990-4119-9370-58212a6e4659",
   "metadata": {},
   "outputs": [],
   "source": [
    "# Convert to panda dw x & y\n",
    "dwx_pandas = dwx.to_pandas_df()\n",
    "dwy_pandas = dwy.to_pandas_df()"
   ]
  },
  {
   "cell_type": "markdown",
   "id": "fb9a4973-c034-4ec8-9308-9d00b159cd5d",
   "metadata": {},
   "source": [
    "## Join dwx (WLC) with df (ERA5 t2m-tp-sd)"
   ]
  },
  {
   "cell_type": "code",
   "execution_count": null,
   "id": "011111a0-614d-424e-8933-e08fa861f461",
   "metadata": {},
   "outputs": [],
   "source": [
    "dwx_pandas"
   ]
  },
  {
   "cell_type": "code",
   "execution_count": null,
   "id": "8726c370-d8ed-4cb6-a256-8b885b7cbee1",
   "metadata": {},
   "outputs": [],
   "source": [
    "# Join dwx (WLC) with df (ERA5 t2m-tp-sd)\n",
    "dx = dwx_pandas.set_index('lon_lat').join(df.set_index('lon_lat'), on='lon_lat')"
   ]
  },
  {
   "cell_type": "code",
   "execution_count": null,
   "id": "8a06f17f-fb14-4699-a02c-542b7a5a8978",
   "metadata": {},
   "outputs": [],
   "source": [
    "dx"
   ]
  },
  {
   "cell_type": "code",
   "execution_count": null,
   "id": "d02a8b98-fefa-43b3-9ce4-535072c7b307",
   "metadata": {},
   "outputs": [],
   "source": [
    "# Drop the Rows with NaN Values\n",
    "dx = dx.dropna()"
   ]
  },
  {
   "cell_type": "code",
   "execution_count": null,
   "id": "b0386450-1d92-4b7e-a7a8-7ebeca532d6b",
   "metadata": {},
   "outputs": [],
   "source": [
    "dx = dx.reset_index()"
   ]
  },
  {
   "cell_type": "code",
   "execution_count": null,
   "id": "858a8682-b70e-4692-b58d-9c0b567c8699",
   "metadata": {},
   "outputs": [],
   "source": [
    "dx = dx.drop(columns=['lon_lat'])"
   ]
  },
  {
   "cell_type": "code",
   "execution_count": null,
   "id": "730e8f6d-1876-4091-8646-dedcc6c5e164",
   "metadata": {},
   "outputs": [],
   "source": [
    "dx"
   ]
  },
  {
   "cell_type": "code",
   "execution_count": null,
   "id": "4d9cd018-7da5-4f64-8bdc-971fdca24a25",
   "metadata": {},
   "outputs": [],
   "source": [
    "## Save into **local** HDF5 file without index\n",
    "x_filename = os.path.join(path, 'x_tps_' + str(Year) + '.hdf')\n",
    "print(x_filename)\n",
    "dx.to_hdf(x_filename, key='df', mode=\"w\", index=False)"
   ]
  },
  {
   "cell_type": "markdown",
   "id": "b8cecdb7-bec2-4d65-98ca-fd1a669be485",
   "metadata": {},
   "source": [
    "## Find locations with lichen in the following year corresponding to those in current year"
   ]
  },
  {
   "cell_type": "code",
   "execution_count": null,
   "id": "eb1ddc2f-9d80-4285-b7a6-64c33bb59c77",
   "metadata": {},
   "outputs": [],
   "source": [
    "dwx_pandas = dx[['lon', 'lat']]"
   ]
  },
  {
   "cell_type": "code",
   "execution_count": null,
   "id": "775f1ebc-3d2c-4a42-9f47-9eba9fbbd604",
   "metadata": {},
   "outputs": [],
   "source": [
    "dwx_pandas"
   ]
  },
  {
   "cell_type": "code",
   "execution_count": null,
   "id": "8749953f-d7a0-423d-993a-9353ded9ee26",
   "metadata": {},
   "outputs": [],
   "source": [
    "dwy_pandas"
   ]
  },
  {
   "cell_type": "code",
   "execution_count": null,
   "id": "7df99e2c-082a-446c-b8e9-677a7a9f377f",
   "metadata": {},
   "outputs": [],
   "source": [
    "# Add combined lat-lon column to dv x & y\n",
    "dwx_pandas['lon_lat'] = (dwx_pandas['lon'] * 100000).astype('int') + (dwx_pandas['lat'] * 100000).astype('int') / 10000000\n",
    "dwy_pandas['lon_lat'] = (dwy_pandas['lon'] * 100000).astype('int') + (dwy_pandas['lat'] * 100000).astype('int') / 10000000"
   ]
  },
  {
   "cell_type": "code",
   "execution_count": null,
   "id": "89b5de46-e41e-4cb3-b658-ed1b239d417d",
   "metadata": {},
   "outputs": [],
   "source": [
    "dwx_pandas = dwx_pandas.drop(columns=['lon', 'lat'])\n",
    "dwy_pandas = dwy_pandas.drop(columns=['lon', 'lat'])"
   ]
  },
  {
   "cell_type": "code",
   "execution_count": null,
   "id": "bb55193c-846c-405b-a774-2e5cb65967c2",
   "metadata": {},
   "outputs": [],
   "source": [
    "dwx_pandas"
   ]
  },
  {
   "cell_type": "code",
   "execution_count": null,
   "id": "d0e66d8d-37d1-4d92-93d1-67cfcc1fa8a7",
   "metadata": {},
   "outputs": [],
   "source": [
    "dwy_pandas"
   ]
  },
  {
   "cell_type": "code",
   "execution_count": null,
   "id": "3d5bdf52-22a1-415d-ade9-983fe9c9ad50",
   "metadata": {},
   "outputs": [],
   "source": [
    "## Join dwx with dwy\n",
    "dy = dwx_pandas.set_index('lon_lat').join(dwy_pandas.set_index('lon_lat'), on='lon_lat')"
   ]
  },
  {
   "cell_type": "code",
   "execution_count": null,
   "id": "bd37a472-1485-4eac-9b1d-d9e85611991d",
   "metadata": {},
   "outputs": [],
   "source": [
    "dy"
   ]
  },
  {
   "cell_type": "code",
   "execution_count": null,
   "id": "8bce712a-532c-4019-af69-5b6256ba40f9",
   "metadata": {},
   "outputs": [],
   "source": [
    "# Replace NaNs by 0\n",
    "for col in ['Bare', 'Grass', 'Lichen', 'Shrub', 'Tree']:\n",
    "    print(col)\n",
    "    dy[col] = dy[col].fillna(0)"
   ]
  },
  {
   "cell_type": "code",
   "execution_count": null,
   "id": "d37de31a-7e6c-478c-abaf-644f5adc178c",
   "metadata": {},
   "outputs": [],
   "source": [
    "dy = dy.reset_index().drop(columns=['lon_lat'])"
   ]
  },
  {
   "cell_type": "code",
   "execution_count": null,
   "id": "253f4e70-b391-4280-9f1c-af095fb3fcd3",
   "metadata": {},
   "outputs": [],
   "source": [
    "dy"
   ]
  },
  {
   "cell_type": "code",
   "execution_count": null,
   "id": "5b2be0d7-ff6b-405d-a4bf-404e8e4ff9b5",
   "metadata": {},
   "outputs": [],
   "source": [
    "## Save into **local** HDF5 file without index\n",
    "y_filename = os.path.join(path, 'y_' + str(Year) + '.hdf')\n",
    "print(y_filename)\n",
    "dy.to_hdf(y_filename, key='dg', mode=\"w\", index=False)"
   ]
  },
  {
   "cell_type": "code",
   "execution_count": null,
   "id": "3b44e995-2cff-4a1b-b985-00c9b626dc9d",
   "metadata": {},
   "outputs": [],
   "source": [
    "print('Finished!')"
   ]
  },
  {
   "cell_type": "code",
   "execution_count": null,
   "id": "4eb927e2-2c27-44d0-ada6-7c0385ae7702",
   "metadata": {},
   "outputs": [],
   "source": []
  }
 ],
 "metadata": {
  "kernelspec": {
   "display_name": "Python 3 (ipykernel)",
   "language": "python",
   "name": "python3"
  },
  "language_info": {
   "codemirror_mode": {
    "name": "ipython",
    "version": 3
   },
   "file_extension": ".py",
   "mimetype": "text/x-python",
   "name": "python",
   "nbconvert_exporter": "python",
   "pygments_lexer": "ipython3",
   "version": "3.9.13"
  }
 },
 "nbformat": 4,
 "nbformat_minor": 5
}

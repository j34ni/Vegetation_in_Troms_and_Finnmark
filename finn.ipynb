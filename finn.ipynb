{
 "cells": [
  {
   "cell_type": "markdown",
   "id": "f4bc2fe6-4b57-40ea-b3db-3dfaff8137d7",
   "metadata": {},
   "source": [
    "# Prepare labelled input for the NN\n",
    "# (i.e. locations where moss&lichen fractional cover changed and related meteorological parameters from ERA5-Land)"
   ]
  },
  {
   "cell_type": "markdown",
   "id": "9c105dc5-6644-4703-bbc7-b29273f27d54",
   "metadata": {},
   "source": [
    "# Copernicus Global Land Cover data  from 2015-01-01 to 2019-12-31 already available as a netCDF file stored on EOSC (CESNET)\n",
    "## Troms og Finnmark\n",
    "### Mosses and lichens, bare, grass, shrubs and trees"
   ]
  },
  {
   "cell_type": "code",
   "execution_count": null,
   "id": "3e2ce510-3a0b-414f-bc25-49de0e83169c",
   "metadata": {},
   "outputs": [],
   "source": [
    "!date"
   ]
  },
  {
   "cell_type": "markdown",
   "id": "4b70d289-c32c-4d51-8f41-de137347ce5b",
   "metadata": {},
   "source": [
    "### Define s3 storage parameters"
   ]
  },
  {
   "cell_type": "code",
   "execution_count": null,
   "id": "6096bf7b-1678-451b-87fe-3d7de6fc176f",
   "metadata": {},
   "outputs": [],
   "source": [
    "import s3fs\n",
    "import xarray as xr\n",
    "import h3\n",
    "import vaex"
   ]
  },
  {
   "cell_type": "code",
   "execution_count": null,
   "id": "5eebb97a-3319-453c-bb84-c038b45238cd",
   "metadata": {
    "tags": []
   },
   "outputs": [],
   "source": [
    "client_kwargs={'endpoint_url': 'https://object-store.cloud.muni.cz'}\n",
    "store = s3fs.S3FileSystem(anon=False, client_kwargs=client_kwargs)\n",
    "store.ls('Data', detail=True, refresh=True)"
   ]
  },
  {
   "cell_type": "markdown",
   "id": "ae2958a0-ead0-4f7d-9508-1225c5159c0b",
   "metadata": {},
   "source": [
    "### Define s3 store for the **netCDF file**"
   ]
  },
  {
   "cell_type": "code",
   "execution_count": null,
   "id": "a93f46f8-bd33-4d69-9922-72dc91d98452",
   "metadata": {},
   "outputs": [],
   "source": [
    "s3path = 'Data/C_GlobalLandCover_20150101_20190101_Troms-Finnmark.nc'"
   ]
  },
  {
   "cell_type": "code",
   "execution_count": null,
   "id": "41a69878-3518-4b2c-bd35-1371e165f3e0",
   "metadata": {},
   "outputs": [],
   "source": [
    "GLC_AOI = xr.open_dataset(store.open(s3path))"
   ]
  },
  {
   "cell_type": "code",
   "execution_count": null,
   "id": "45f00fd6-4cd9-4207-9c1b-c731b274b0a7",
   "metadata": {},
   "outputs": [],
   "source": [
    "GLC_AOI"
   ]
  },
  {
   "cell_type": "code",
   "execution_count": null,
   "id": "0f715fd7-f800-4e12-84d1-41ce7bdec579",
   "metadata": {},
   "outputs": [],
   "source": [
    "GLC_AOI = GLC_AOI.rename(x='lon', y='lat', t='time')"
   ]
  },
  {
   "cell_type": "code",
   "execution_count": null,
   "id": "d4660f76-1b3e-42cc-a6bb-1e9192db0eed",
   "metadata": {},
   "outputs": [],
   "source": [
    "# Drop variables not directly of interest here\n",
    "GLC_AOI = GLC_AOI.drop_vars(['crs',\n",
    "                             'Crops_CoverFraction_layer',\n",
    "                             'Discrete_Classification_map', \n",
    "                             'Discrete_Classification_proba',\n",
    "                             'Forest_Type_layer',\n",
    "                             'Snow_CoverFraction_layer',\n",
    "                             'BuiltUp_CoverFraction_layer',\n",
    "                             'PermanentWater_CoverFraction_layer',\n",
    "                             'SeasonalWater_CoverFraction_layer',\n",
    "                             'DataDensityIndicator',\n",
    "                             'Change_Confidence_layer',\n",
    "                             'dataMask'])"
   ]
  },
  {
   "cell_type": "code",
   "execution_count": null,
   "id": "4c5c34e6-3b1b-4afc-abf0-83aae56a6b9a",
   "metadata": {},
   "outputs": [],
   "source": [
    "GLC_AOI = GLC_AOI.rename(Bare_CoverFraction_layer = 'Bare',\n",
    "                         Grass_CoverFraction_layer = 'Grass',\n",
    "                         MossLichen_CoverFraction_layer = 'Lichen',\n",
    "                         Shrub_CoverFraction_layer = 'Shrub',\n",
    "                         Tree_CoverFraction_layer = 'Tree')"
   ]
  },
  {
   "cell_type": "code",
   "execution_count": null,
   "id": "ed083377-639d-4cbf-8408-913874f58ee6",
   "metadata": {},
   "outputs": [],
   "source": [
    "GLC_AOI"
   ]
  },
  {
   "cell_type": "code",
   "execution_count": null,
   "id": "005f2811-3e64-472b-80f4-3a77ba9cba9b",
   "metadata": {},
   "outputs": [],
   "source": [
    "# Troms & Finnmark Global Land Cover area\n",
    "GLC_AOI_min_lon = GLC_AOI.lon.min()\n",
    "GLC_AOI_max_lon = GLC_AOI.lon.max()\n",
    "GLC_AOI_min_lat = GLC_AOI.lat.min()\n",
    "GLC_AOI_max_lat = GLC_AOI.lat.max()\n",
    "print(GLC_AOI_min_lon, GLC_AOI_max_lon, GLC_AOI_min_lat, GLC_AOI_max_lat)"
   ]
  },
  {
   "cell_type": "markdown",
   "id": "916ebb4c-4f1b-460e-8b9e-163c51c0c4d1",
   "metadata": {},
   "source": [
    "### The cell below redefine a very small region for testing purposes only - skip them to keep the whole Troms-finnmark area"
   ]
  },
  {
   "cell_type": "code",
   "execution_count": null,
   "id": "771b993b-e604-4a76-addf-30bcf6049264",
   "metadata": {},
   "outputs": [],
   "source": [
    "# Small region \n",
    "Small_AOI_min_lon = 19.6\n",
    "Small_AOI_max_lon = 19.7\n",
    "Small_AOI_min_lat = 69\n",
    "Small_AOI_max_lat = 69.1"
   ]
  },
  {
   "cell_type": "code",
   "execution_count": null,
   "id": "57b981b2-9d3b-4205-86b3-c9ad93e44de5",
   "metadata": {},
   "outputs": [],
   "source": [
    "from h3 import h3\n",
    "import folium\n",
    "\n",
    "def visualize_hexagons(hexagons, color=\"red\", folium_map=None):\n",
    "    \"\"\"\n",
    "    hexagons is a list of hexcluster. Each hexcluster is a list of hexagons. \n",
    "    eg. [[hex1, hex2], [hex3, hex4]]\n",
    "    \"\"\"\n",
    "    polylines = []\n",
    "    lat = []\n",
    "    lng = []\n",
    "    for hex in hexagons:\n",
    "        polygons = h3.h3_set_to_multi_polygon([hex], geo_json=False)\n",
    "        # flatten polygons into loops.\n",
    "        outlines = [loop for polygon in polygons for loop in polygon]\n",
    "        polyline = [outline + [outline[0]] for outline in outlines][0]\n",
    "        lat.extend(map(lambda v:v[0],polyline))\n",
    "        lng.extend(map(lambda v:v[1],polyline))\n",
    "        polylines.append(polyline)\n",
    "    \n",
    "    if folium_map is None:\n",
    "        m = folium.Map(location=[sum(lat)/len(lat), sum(lng)/len(lng)], zoom_start=13, tiles='cartodbpositron')\n",
    "    else:\n",
    "        m = folium_map\n",
    "    for polyline in polylines:\n",
    "        my_PolyLine=folium.PolyLine(locations=polyline,weight=8,color=color)\n",
    "        m.add_child(my_PolyLine)\n",
    "    return m\n",
    "    \n",
    "\n",
    "def visualize_polygon(polyline, color):\n",
    "    polyline.append(polyline[0])\n",
    "    lat = [p[0] for p in polyline]\n",
    "    lng = [p[1] for p in polyline]\n",
    "    m = folium.Map(location=[sum(lat)/len(lat), sum(lng)/len(lng)], zoom_start=13, tiles='cartodbpositron')\n",
    "    my_PolyLine=folium.PolyLine(locations=polyline,weight=8,color=color)\n",
    "    m.add_child(my_PolyLine)\n",
    "    return m"
   ]
  },
  {
   "cell_type": "code",
   "execution_count": null,
   "id": "29f232b9-b84e-4d6c-b8b6-2650652ad857",
   "metadata": {},
   "outputs": [],
   "source": [
    "Small_AOI_center = h3.geo_to_h3((Small_AOI_min_lat + Small_AOI_max_lat)/2, (Small_AOI_min_lon +Small_AOI_max_lon)/2, 9) # lat, lng, hex resolution    \n",
    "m = visualize_hexagons([h3.geo_to_h3(GLC_AOI_min_lat, GLC_AOI_min_lon, 9)], color=\"red\")                                                                                        \n",
    "m = visualize_hexagons([h3.geo_to_h3(GLC_AOI_max_lat, GLC_AOI_min_lon, 9)], color=\"red\", folium_map=m)                                                                                   \n",
    "m = visualize_hexagons([h3.geo_to_h3(GLC_AOI_max_lat, GLC_AOI_max_lon, 9)], color=\"red\", folium_map=m)                                                                                \n",
    "m = visualize_hexagons([h3.geo_to_h3(GLC_AOI_min_lat, GLC_AOI_max_lon, 9)], color=\"red\", folium_map=m)\n",
    "m = visualize_hexagons([Small_AOI_center], color=\"green\", folium_map=m) \n",
    "display(m)"
   ]
  },
  {
   "cell_type": "markdown",
   "id": "3ecf43ae-f6f9-469c-b99c-63333452dd21",
   "metadata": {},
   "source": [
    "## Year 2015"
   ]
  },
  {
   "cell_type": "code",
   "execution_count": null,
   "id": "7732d137-335a-41d3-b5a2-1ef967b8911a",
   "metadata": {},
   "outputs": [],
   "source": [
    "df = GLC_AOI.isel(time = 0).to_dataframe()"
   ]
  },
  {
   "cell_type": "code",
   "execution_count": null,
   "id": "e64708f6-c8c5-43b8-a984-c435a2d5d7be",
   "metadata": {},
   "outputs": [],
   "source": [
    "df"
   ]
  },
  {
   "cell_type": "code",
   "execution_count": null,
   "id": "8cdbb4b8-438b-41ae-81c7-0f3cb1df45d5",
   "metadata": {},
   "outputs": [],
   "source": [
    "df = df.reset_index()"
   ]
  },
  {
   "cell_type": "code",
   "execution_count": null,
   "id": "f5a6d090-df60-4220-9f59-8ce3b7175193",
   "metadata": {},
   "outputs": [],
   "source": [
    "df"
   ]
  },
  {
   "cell_type": "code",
   "execution_count": null,
   "id": "53d06e80-ab56-4d87-b3b3-254cd043238c",
   "metadata": {},
   "outputs": [],
   "source": [
    "# Only keep locations where there is some moss & lichen\n",
    "df = df.loc[(df['Lichen'] > 0) & (df['Lichen'] <= 100)]"
   ]
  },
  {
   "cell_type": "code",
   "execution_count": null,
   "id": "d1495f68-a4f4-4d50-8afb-112db4eb9c10",
   "metadata": {},
   "outputs": [],
   "source": [
    "# Replace NaNs by 0\n",
    "for col in [\"Bare\", \"Grass\", \"Lichen\", \"Shrub\", \"Tree\"]:\n",
    "    print(col)\n",
    "    df[col] = df[col].fillna(0)"
   ]
  },
  {
   "cell_type": "code",
   "execution_count": null,
   "id": "240924bf-293d-4ffa-b2ac-cfc812894a06",
   "metadata": {},
   "outputs": [],
   "source": [
    "# Calculate total fractional coverage of bare, grass, lichen, shrub and tree (should be 100)\n",
    "df[\"tot\"]  = (df['Bare'] + df['Grass'] + df['Lichen'] + df['Shrub'] + df['Tree'])"
   ]
  },
  {
   "cell_type": "code",
   "execution_count": null,
   "id": "560e75ff-c5a6-40bb-9f44-291dd60cc77d",
   "metadata": {},
   "outputs": [],
   "source": [
    "df"
   ]
  },
  {
   "cell_type": "code",
   "execution_count": null,
   "id": "0ec1fc33-1aee-4182-82ea-501ebfdd266d",
   "metadata": {},
   "outputs": [],
   "source": [
    "# Normalize the fractional cover\n",
    "for col in [\"Bare\", \"Grass\", \"Lichen\", \"Shrub\", \"Tree\"]:\n",
    "    print(col)\n",
    "    df[col] = df[col] / df[\"tot\"]"
   ]
  },
  {
   "cell_type": "code",
   "execution_count": null,
   "id": "c388376d-8d4c-4c57-9ee5-645b9e2f0053",
   "metadata": {},
   "outputs": [],
   "source": [
    "# Drop the *tot* column\n",
    "df = df.drop([\"tot\"], axis=1)"
   ]
  },
  {
   "cell_type": "code",
   "execution_count": null,
   "id": "21a25972-361a-4ae9-952a-5ea586f420d9",
   "metadata": {},
   "outputs": [],
   "source": [
    "df"
   ]
  },
  {
   "cell_type": "code",
   "execution_count": null,
   "id": "610a5133-c7c5-4cf1-9aae-d7840fb9b551",
   "metadata": {},
   "outputs": [],
   "source": [
    "# Convert to VAEX\n",
    "dv = vaex.from_pandas(df)"
   ]
  },
  {
   "cell_type": "code",
   "execution_count": null,
   "id": "4d29c526-a72a-48ea-8236-581daf29bb7d",
   "metadata": {},
   "outputs": [],
   "source": [
    "dv"
   ]
  },
  {
   "cell_type": "code",
   "execution_count": null,
   "id": "a5a16aab-03ef-4926-837e-f4d4a47fa7b0",
   "metadata": {},
   "outputs": [],
   "source": [
    "# Find the correspondind ERA5-land lat-lon\n",
    "ERA5_lon = ((dv.lon - 15.59) / 0.1).astype('int').values\n",
    "ERA5_lat = ((dv.lat - 68.35) / 0.1).astype('int').values"
   ]
  },
  {
   "cell_type": "code",
   "execution_count": null,
   "id": "2f579c18-5831-4069-b591-5ff37bdf246b",
   "metadata": {},
   "outputs": [],
   "source": [
    "dv['ERA5_lon_index'] = ERA5_lon\n",
    "dv['ERA5_lat_index'] = ERA5_lat"
   ]
  },
  {
   "cell_type": "code",
   "execution_count": null,
   "id": "5463849e-45a8-4bc9-85af-53aa68f32892",
   "metadata": {},
   "outputs": [],
   "source": [
    "dv"
   ]
  },
  {
   "cell_type": "markdown",
   "id": "22f77043-1d8c-4965-8a41-6db2c04f2d18",
   "metadata": {},
   "source": [
    "# ERA5-land data from 2015-01-01 to 2019-12-31 1 already available as a netCDF file stored on EOSC (CESNET)\n",
    "## 2m Temperature, Snow depth, Total precipitation"
   ]
  },
  {
   "cell_type": "code",
   "execution_count": null,
   "id": "bd6a2c31-b159-4907-b54b-08d8fdda676b",
   "metadata": {},
   "outputs": [],
   "source": [
    "s3path = 'Data/reanalysis-era5-land_hourly_2015-01-01_2019-12-31_Troms-Finnmark_T2m-SD-TP.nc'"
   ]
  },
  {
   "cell_type": "code",
   "execution_count": null,
   "id": "8dcdc032-0fa5-43e3-aa1c-7d01b04e947d",
   "metadata": {},
   "outputs": [],
   "source": [
    "ERA5land = xr.open_dataset(store.open(s3path))"
   ]
  },
  {
   "cell_type": "code",
   "execution_count": null,
   "id": "a18d4594-cb72-43bd-8867-347e0e6291ad",
   "metadata": {},
   "outputs": [],
   "source": [
    "ERA5land"
   ]
  },
  {
   "cell_type": "markdown",
   "id": "1f64038a-aa03-48c0-8bf0-3855b233df1e",
   "metadata": {},
   "source": [
    "# Adding columns with the ERA5-land longitude and latitude to dv"
   ]
  },
  {
   "cell_type": "code",
   "execution_count": null,
   "id": "40178080-7c9d-40fb-92f3-f36cf67555d3",
   "metadata": {},
   "outputs": [],
   "source": [
    "dv['ERA5_lon'] = ERA5land.longitude[dv['ERA5_lon_index'].values].values"
   ]
  },
  {
   "cell_type": "code",
   "execution_count": null,
   "id": "44b32f35-d012-48f9-9335-724911c61d17",
   "metadata": {},
   "outputs": [],
   "source": [
    "dv['ERA5_lat'] = ERA5land.latitude[dv['ERA5_lat_index'].values].values"
   ]
  },
  {
   "cell_type": "code",
   "execution_count": null,
   "id": "3e3cdc32-3226-40cc-871e-557d37134d99",
   "metadata": {},
   "outputs": [],
   "source": [
    "dv"
   ]
  },
  {
   "cell_type": "code",
   "execution_count": null,
   "id": "d4e02355-4415-4ab4-8416-8c38f1130737",
   "metadata": {},
   "outputs": [],
   "source": [
    "dv['ERA5_index'] = (dv['ERA5_lon'] * 100).astype('int') + ((dv['ERA5_lat'] * 100).astype('int') / 10000)"
   ]
  },
  {
   "cell_type": "code",
   "execution_count": null,
   "id": "84b88c87-0bcd-42c2-92a4-738985751bfb",
   "metadata": {},
   "outputs": [],
   "source": [
    "dv"
   ]
  },
  {
   "cell_type": "code",
   "execution_count": null,
   "id": "22c5a8f6-a593-40da-8249-eb2c74f7706d",
   "metadata": {},
   "outputs": [],
   "source": [
    "# Year 2015 - first 10 days\n",
    "import pandas as pd\n",
    "saison = pd.date_range(\"2015-01-01\", periods=10*24, freq=\"1H\")"
   ]
  },
  {
   "cell_type": "code",
   "execution_count": null,
   "id": "53d62fe6-7643-4deb-87ea-b2e827064619",
   "metadata": {},
   "outputs": [],
   "source": [
    "saison"
   ]
  },
  {
   "cell_type": "code",
   "execution_count": null,
   "id": "0af9eb80-3145-4f78-a73c-30c42f6dae72",
   "metadata": {},
   "outputs": [],
   "source": [
    "dg = ERA5land.sel(time = saison).to_dataframe()"
   ]
  },
  {
   "cell_type": "code",
   "execution_count": null,
   "id": "768b4cc0-877c-4591-b891-995566723930",
   "metadata": {},
   "outputs": [],
   "source": [
    "dg = dg.reset_index()"
   ]
  },
  {
   "cell_type": "code",
   "execution_count": null,
   "id": "9b647114-006f-4def-b3e3-99ed2ad8abb9",
   "metadata": {},
   "outputs": [],
   "source": [
    "dg"
   ]
  },
  {
   "cell_type": "code",
   "execution_count": null,
   "id": "0616c8ef-c135-4c2f-82d6-30a9f74ae5f2",
   "metadata": {},
   "outputs": [],
   "source": [
    "dg['ERA5_index'] = (dg['longitude'] * 100).astype('int') + ((dg['latitude'] * 100).astype('int') / 10000)"
   ]
  },
  {
   "cell_type": "code",
   "execution_count": null,
   "id": "86559349-9640-424d-83b6-6af7a2c287f5",
   "metadata": {},
   "outputs": [],
   "source": [
    "dg"
   ]
  },
  {
   "cell_type": "code",
   "execution_count": null,
   "id": "c848e920-f102-4fc2-9a57-cfc212d90acb",
   "metadata": {},
   "outputs": [],
   "source": [
    "dw = vaex.from_pandas(dg)"
   ]
  },
  {
   "cell_type": "code",
   "execution_count": null,
   "id": "98a6c10d-2ba1-4617-9721-944a62e4eb6b",
   "metadata": {},
   "outputs": [],
   "source": [
    "dw = dw.drop('longitude').drop('latitude').drop('time')"
   ]
  },
  {
   "cell_type": "code",
   "execution_count": null,
   "id": "cd61b534-0043-44a3-a6b3-3c76a8fbbfac",
   "metadata": {},
   "outputs": [],
   "source": [
    "dw"
   ]
  },
  {
   "cell_type": "code",
   "execution_count": null,
   "id": "fdbc35e3-2f95-4e8b-8153-6bff07cefa35",
   "metadata": {},
   "outputs": [],
   "source": [
    "dv = dv.drop('ERA5_lon_index').drop('ERA5_lat_index').drop('ERA5_lon').drop('ERA5_lat')"
   ]
  },
  {
   "cell_type": "code",
   "execution_count": null,
   "id": "e4ba529a-12a3-471f-b266-dfa613cac216",
   "metadata": {},
   "outputs": [],
   "source": [
    "dv"
   ]
  },
  {
   "cell_type": "markdown",
   "id": "0cef9794-ef9d-41be-9a7f-a762859acea6",
   "metadata": {},
   "source": [
    "# Merge into dv columns related ERA5-land data (for a predefined period of time) to each lichen location"
   ]
  },
  {
   "cell_type": "markdown",
   "id": "b9f24f94-6d8f-45cf-a5fe-35c31fce78e2",
   "metadata": {},
   "source": [
    "## That is not right"
   ]
  },
  {
   "cell_type": "code",
   "execution_count": null,
   "id": "d23efd70-5ca1-4c0b-8f91-da9e7c143c8f",
   "metadata": {},
   "outputs": [],
   "source": [
    "dv.join(dw, left_on='ERA5_index', right_on='ERA5_index', allow_duplication=True)"
   ]
  },
  {
   "cell_type": "code",
   "execution_count": null,
   "id": "a000643e-7c16-4dfe-9126-7f9a0003f10e",
   "metadata": {},
   "outputs": [],
   "source": [
    "dw.groupby(by='ERA5_index')"
   ]
  },
  {
   "cell_type": "code",
   "execution_count": null,
   "id": "d4455030-6680-46f7-996a-de5d747cdb69",
   "metadata": {},
   "outputs": [],
   "source": []
  },
  {
   "cell_type": "code",
   "execution_count": null,
   "id": "f7e0f68b-67c9-4cce-a1c5-158cb948b581",
   "metadata": {},
   "outputs": [],
   "source": []
  },
  {
   "cell_type": "code",
   "execution_count": null,
   "id": "43a6e27b-dd53-43c3-9266-0f773faa36c7",
   "metadata": {},
   "outputs": [],
   "source": []
  },
  {
   "cell_type": "code",
   "execution_count": null,
   "id": "60a3cc51-9c94-464a-b9b0-3d1a3136db56",
   "metadata": {},
   "outputs": [],
   "source": [
    "dg = ERA5land[['longitude','latitude']].to_dataframe()"
   ]
  },
  {
   "cell_type": "code",
   "execution_count": null,
   "id": "e58e8837-60a9-4c8a-b6bd-27c8be7f723f",
   "metadata": {},
   "outputs": [],
   "source": [
    "dg = dg.reset_index()"
   ]
  },
  {
   "cell_type": "code",
   "execution_count": null,
   "id": "ac58053c-fd32-4a26-977f-b038035c792d",
   "metadata": {},
   "outputs": [],
   "source": [
    "dw = vaex.from_pandas(dg)"
   ]
  },
  {
   "cell_type": "code",
   "execution_count": null,
   "id": "0a822ef5-8e92-4e3f-8ca5-3e4ea3d6556f",
   "metadata": {},
   "outputs": [],
   "source": [
    "dw[\"h3\"] = dw.apply(lat_lon_to_h3, [dw.latitude, dw.longitude])"
   ]
  },
  {
   "cell_type": "code",
   "execution_count": null,
   "id": "355298f2-ee92-4103-bbde-be664a8aab3d",
   "metadata": {},
   "outputs": [],
   "source": [
    "dw"
   ]
  },
  {
   "cell_type": "code",
   "execution_count": null,
   "id": "56b1eabc-8b23-4658-a40b-2068d620de33",
   "metadata": {},
   "outputs": [],
   "source": [
    "dv"
   ]
  },
  {
   "cell_type": "code",
   "execution_count": null,
   "id": "f8c0771f-fb2d-4fc0-b4f7-bb71e2464674",
   "metadata": {},
   "outputs": [],
   "source": [
    "dw[(dw['h3'] == \"8c42d0509a44dff\")]"
   ]
  },
  {
   "cell_type": "code",
   "execution_count": null,
   "id": "09a8f08c-74a6-4926-882c-fab5f5afb688",
   "metadata": {},
   "outputs": [],
   "source": [
    "dfall = dg.join(dw, how='right',left_on='h3',right_on='h3', allow_duplication=True)"
   ]
  },
  {
   "cell_type": "code",
   "execution_count": null,
   "id": "90c492e3-e7cb-4193-8746-ad2e43477ec3",
   "metadata": {},
   "outputs": [],
   "source": [
    "dfall"
   ]
  },
  {
   "cell_type": "code",
   "execution_count": null,
   "id": "4ba6f0cf-72c9-4add-b8d2-a6161d325c90",
   "metadata": {},
   "outputs": [],
   "source": [
    "import pys2index"
   ]
  },
  {
   "cell_type": "code",
   "execution_count": null,
   "id": "11e33c1d-5aa5-4b2f-adbc-aebbaeae96db",
   "metadata": {},
   "outputs": [],
   "source": []
  }
 ],
 "metadata": {
  "kernelspec": {
   "display_name": "Python 3 (ipykernel)",
   "language": "python",
   "name": "python3"
  },
  "language_info": {
   "codemirror_mode": {
    "name": "ipython",
    "version": 3
   },
   "file_extension": ".py",
   "mimetype": "text/x-python",
   "name": "python",
   "nbconvert_exporter": "python",
   "pygments_lexer": "ipython3",
   "version": "3.9.13"
  }
 },
 "nbformat": 4,
 "nbformat_minor": 5
}

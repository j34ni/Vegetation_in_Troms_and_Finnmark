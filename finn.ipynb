{
 "cells": [
  {
   "cell_type": "markdown",
   "id": "f4bc2fe6-4b57-40ea-b3db-3dfaff8137d7",
   "metadata": {},
   "source": [
    "# Prepare labelled input for the NN\n",
    "# (i.e. locations where moss&lichen fractional cover changed and related meteorological parameters from ERA5-Land)"
   ]
  },
  {
   "cell_type": "markdown",
   "id": "9c105dc5-6644-4703-bbc7-b29273f27d54",
   "metadata": {},
   "source": [
    "# Copernicus Global Land Cover data  from 2015-01-01 to 2019-12-31 already available as a netCDF file stored on EOSC (CESNET)\n",
    "## Troms og Finnmark\n",
    "### Mosses and lichens, bare, grass, shrubs and trees"
   ]
  },
  {
   "cell_type": "code",
   "execution_count": null,
   "id": "3e2ce510-3a0b-414f-bc25-49de0e83169c",
   "metadata": {},
   "outputs": [],
   "source": [
    "!date"
   ]
  },
  {
   "cell_type": "code",
   "execution_count": null,
   "id": "b3819559-6ae6-4426-9161-1365a7afb449",
   "metadata": {
    "tags": []
   },
   "outputs": [],
   "source": [
    "pip install vaex"
   ]
  },
  {
   "cell_type": "markdown",
   "id": "4b70d289-c32c-4d51-8f41-de137347ce5b",
   "metadata": {},
   "source": [
    "### Define s3 storage parameters"
   ]
  },
  {
   "cell_type": "code",
   "execution_count": null,
   "id": "6096bf7b-1678-451b-87fe-3d7de6fc176f",
   "metadata": {},
   "outputs": [],
   "source": [
    "import s3fs\n",
    "import xarray as xr\n",
    "import pandas as pd\n",
    "import h3\n",
    "import vaex"
   ]
  },
  {
   "cell_type": "code",
   "execution_count": null,
   "id": "5eebb97a-3319-453c-bb84-c038b45238cd",
   "metadata": {
    "tags": []
   },
   "outputs": [],
   "source": [
    "client_kwargs={'endpoint_url': 'https://object-store.cloud.muni.cz'}\n",
    "store = s3fs.S3FileSystem(anon=False, client_kwargs=client_kwargs)\n",
    "store.ls('Data', detail=True, refresh=True)"
   ]
  },
  {
   "cell_type": "markdown",
   "id": "ae2958a0-ead0-4f7d-9508-1225c5159c0b",
   "metadata": {},
   "source": [
    "### Define s3 store for the **netCDF file**"
   ]
  },
  {
   "cell_type": "code",
   "execution_count": null,
   "id": "a93f46f8-bd33-4d69-9922-72dc91d98452",
   "metadata": {},
   "outputs": [],
   "source": [
    "s3path = 'Data/C_GlobalLandCover_20150101_20190101_Troms-Finnmark.nc'"
   ]
  },
  {
   "cell_type": "code",
   "execution_count": null,
   "id": "41a69878-3518-4b2c-bd35-1371e165f3e0",
   "metadata": {},
   "outputs": [],
   "source": [
    "GLC_AOI = xr.open_dataset(store.open(s3path))"
   ]
  },
  {
   "cell_type": "code",
   "execution_count": null,
   "id": "45f00fd6-4cd9-4207-9c1b-c731b274b0a7",
   "metadata": {},
   "outputs": [],
   "source": [
    "GLC_AOI"
   ]
  },
  {
   "cell_type": "code",
   "execution_count": null,
   "id": "0f715fd7-f800-4e12-84d1-41ce7bdec579",
   "metadata": {},
   "outputs": [],
   "source": [
    "GLC_AOI = GLC_AOI.rename(x='lon', y='lat', t='time')"
   ]
  },
  {
   "cell_type": "code",
   "execution_count": null,
   "id": "d4660f76-1b3e-42cc-a6bb-1e9192db0eed",
   "metadata": {},
   "outputs": [],
   "source": [
    "# Drop variables not directly of interest here\n",
    "GLC_AOI = GLC_AOI.drop_vars(['crs',\n",
    "                             'Crops_CoverFraction_layer',\n",
    "                             'Discrete_Classification_map', \n",
    "                             'Discrete_Classification_proba',\n",
    "                             'Forest_Type_layer',\n",
    "                             'Snow_CoverFraction_layer',\n",
    "                             'BuiltUp_CoverFraction_layer',\n",
    "                             'PermanentWater_CoverFraction_layer',\n",
    "                             'SeasonalWater_CoverFraction_layer',\n",
    "                             'DataDensityIndicator',\n",
    "                             'Change_Confidence_layer',\n",
    "                             'dataMask'])"
   ]
  },
  {
   "cell_type": "code",
   "execution_count": null,
   "id": "4c5c34e6-3b1b-4afc-abf0-83aae56a6b9a",
   "metadata": {},
   "outputs": [],
   "source": [
    "GLC_AOI = GLC_AOI.rename(Bare_CoverFraction_layer = 'Bare',\n",
    "                         Grass_CoverFraction_layer = 'Grass',\n",
    "                         MossLichen_CoverFraction_layer = 'Lichen',\n",
    "                         Shrub_CoverFraction_layer = 'Shrub',\n",
    "                         Tree_CoverFraction_layer = 'Tree')"
   ]
  },
  {
   "cell_type": "code",
   "execution_count": null,
   "id": "ed083377-639d-4cbf-8408-913874f58ee6",
   "metadata": {},
   "outputs": [],
   "source": [
    "GLC_AOI"
   ]
  },
  {
   "cell_type": "code",
   "execution_count": null,
   "id": "005f2811-3e64-472b-80f4-3a77ba9cba9b",
   "metadata": {},
   "outputs": [],
   "source": [
    "# Troms & Finnmark Global Land Cover area\n",
    "GLC_AOI_min_lon = GLC_AOI.lon.min()\n",
    "GLC_AOI_max_lon = GLC_AOI.lon.max()\n",
    "GLC_AOI_min_lat = GLC_AOI.lat.min()\n",
    "GLC_AOI_max_lat = GLC_AOI.lat.max()\n",
    "print(GLC_AOI_min_lon, GLC_AOI_max_lon, GLC_AOI_min_lat, GLC_AOI_max_lat)"
   ]
  },
  {
   "cell_type": "markdown",
   "id": "916ebb4c-4f1b-460e-8b9e-163c51c0c4d1",
   "metadata": {},
   "source": [
    "### The two cells below redefine a very small region for testing purposes only - skip them to keep the whole Troms-finnmark area"
   ]
  },
  {
   "cell_type": "code",
   "execution_count": null,
   "id": "771b993b-e604-4a76-addf-30bcf6049264",
   "metadata": {},
   "outputs": [],
   "source": [
    "# Small region \n",
    "Small_AOI_min_lon = 19.65\n",
    "Small_AOI_max_lon = 19.7\n",
    "Small_AOI_min_lat = 69.05\n",
    "Small_AOI_max_lat = 69.1"
   ]
  },
  {
   "cell_type": "code",
   "execution_count": null,
   "id": "7732d137-335a-41d3-b5a2-1ef967b8911a",
   "metadata": {},
   "outputs": [],
   "source": [
    "#df = GLC_AOI.isel(time = 0).sel(lat=slice(Small_AOI_max_lat, Small_AOI_min_lat), lon=slice(Small_AOI_min_lon, Small_AOI_max_lon)).to_dataframe()"
   ]
  },
  {
   "cell_type": "code",
   "execution_count": null,
   "id": "57b981b2-9d3b-4205-86b3-c9ad93e44de5",
   "metadata": {},
   "outputs": [],
   "source": [
    "from h3 import h3\n",
    "import folium\n",
    "\n",
    "def visualize_hexagons(hexagons, color=\"red\", folium_map=None):\n",
    "    \"\"\"\n",
    "    hexagons is a list of hexcluster. Each hexcluster is a list of hexagons. \n",
    "    eg. [[hex1, hex2], [hex3, hex4]]\n",
    "    \"\"\"\n",
    "    polylines = []\n",
    "    lat = []\n",
    "    lng = []\n",
    "    for hex in hexagons:\n",
    "        polygons = h3.h3_set_to_multi_polygon([hex], geo_json=False)\n",
    "        # flatten polygons into loops.\n",
    "        outlines = [loop for polygon in polygons for loop in polygon]\n",
    "        polyline = [outline + [outline[0]] for outline in outlines][0]\n",
    "        lat.extend(map(lambda v:v[0],polyline))\n",
    "        lng.extend(map(lambda v:v[1],polyline))\n",
    "        polylines.append(polyline)\n",
    "    \n",
    "    if folium_map is None:\n",
    "        m = folium.Map(location=[sum(lat)/len(lat), sum(lng)/len(lng)], zoom_start=13, tiles='cartodbpositron')\n",
    "    else:\n",
    "        m = folium_map\n",
    "    for polyline in polylines:\n",
    "        my_PolyLine=folium.PolyLine(locations=polyline,weight=8,color=color)\n",
    "        m.add_child(my_PolyLine)\n",
    "    return m\n",
    "    \n",
    "\n",
    "def visualize_polygon(polyline, color):\n",
    "    polyline.append(polyline[0])\n",
    "    lat = [p[0] for p in polyline]\n",
    "    lng = [p[1] for p in polyline]\n",
    "    m = folium.Map(location=[sum(lat)/len(lat), sum(lng)/len(lng)], zoom_start=13, tiles='cartodbpositron')\n",
    "    my_PolyLine=folium.PolyLine(locations=polyline,weight=8,color=color)\n",
    "    m.add_child(my_PolyLine)\n",
    "    return m"
   ]
  },
  {
   "cell_type": "code",
   "execution_count": null,
   "id": "29f232b9-b84e-4d6c-b8b6-2650652ad857",
   "metadata": {
    "tags": []
   },
   "outputs": [],
   "source": [
    "Small_AOI_center = h3.geo_to_h3((Small_AOI_min_lat + Small_AOI_max_lat)/2, (Small_AOI_min_lon +Small_AOI_max_lon)/2, 9) # lat, lng, hex resolution    \n",
    "m = visualize_hexagons([h3.geo_to_h3(GLC_AOI_min_lat, GLC_AOI_min_lon, 9)], color=\"red\")                                                                                        \n",
    "m = visualize_hexagons([h3.geo_to_h3(GLC_AOI_max_lat, GLC_AOI_min_lon, 9)], color=\"red\", folium_map=m)                                                                                   \n",
    "m = visualize_hexagons([h3.geo_to_h3(GLC_AOI_max_lat, GLC_AOI_max_lon, 9)], color=\"red\", folium_map=m)                                                                                \n",
    "m = visualize_hexagons([h3.geo_to_h3(GLC_AOI_min_lat, GLC_AOI_max_lon, 9)], color=\"red\", folium_map=m)\n",
    "#m = visualize_hexagons([Small_AOI_center], color=\"green\", folium_map=m) \n",
    "display(m)"
   ]
  },
  {
   "cell_type": "code",
   "execution_count": null,
   "id": "da0f9536-7b84-463b-b128-9081f3033a00",
   "metadata": {},
   "outputs": [],
   "source": [
    "GLC_AOI"
   ]
  },
  {
   "cell_type": "code",
   "execution_count": null,
   "id": "e64708f6-c8c5-43b8-a984-c435a2d5d7be",
   "metadata": {},
   "outputs": [],
   "source": [
    "de = GLC_AOI.to_dataframe()"
   ]
  },
  {
   "cell_type": "code",
   "execution_count": null,
   "id": "8cdbb4b8-438b-41ae-81c7-0f3cb1df45d5",
   "metadata": {},
   "outputs": [],
   "source": [
    "de = de.reset_index()"
   ]
  },
  {
   "cell_type": "code",
   "execution_count": null,
   "id": "f5a6d090-df60-4220-9f59-8ce3b7175193",
   "metadata": {},
   "outputs": [],
   "source": [
    "de"
   ]
  },
  {
   "cell_type": "code",
   "execution_count": null,
   "id": "766bab92-d65a-4fec-82f5-0de0db98f9ff",
   "metadata": {},
   "outputs": [],
   "source": [
    "# Only keep the locations where there is lichen\n",
    "dd = de.loc[(de['Lichen'] > 0) & (de['Lichen'] <= 100)]"
   ]
  },
  {
   "cell_type": "code",
   "execution_count": null,
   "id": "79975bcc-21d4-4b9b-a4cc-21ccff7fba94",
   "metadata": {},
   "outputs": [],
   "source": [
    "dd"
   ]
  },
  {
   "cell_type": "markdown",
   "id": "3ecf43ae-f6f9-469c-b99c-63333452dd21",
   "metadata": {
    "tags": []
   },
   "source": [
    "## Each year in a separate dataset"
   ]
  },
  {
   "cell_type": "code",
   "execution_count": null,
   "id": "3045f368-e918-4120-acb5-72212700bd3c",
   "metadata": {},
   "outputs": [],
   "source": [
    "Year = 2016\n",
    "Month_start = 1\n",
    "Day_start = 1\n",
    "Month_end = 6\n",
    "Day_end = 30\n",
    "print('x = WLC(' + str(Year)+ ') joined with ERA5land(' + str(Year) + '-' + str(Month_start) + '-' + str(Day_start) + '/' + str(Year)  + '-' + str(Month_end) + '-' + str(Day_end) + ')')\n",
    "print('y = WLC(' + str(Year + 1) + ')')"
   ]
  },
  {
   "cell_type": "code",
   "execution_count": null,
   "id": "53d06e80-ab56-4d87-b3b3-254cd043238c",
   "metadata": {},
   "outputs": [],
   "source": [
    "# Only keep locations where there is some moss & lichen for the current year\n",
    "df = dd.loc[de['time'] == str(Year) + '-01-01']\n",
    "dg = dd.loc[dd['time'] == str(Year + 1) + '-01-01']"
   ]
  },
  {
   "cell_type": "code",
   "execution_count": null,
   "id": "77691234-58ec-400f-a17e-f59ccae9b8bc",
   "metadata": {},
   "outputs": [],
   "source": [
    "df"
   ]
  },
  {
   "cell_type": "code",
   "execution_count": null,
   "id": "d1495f68-a4f4-4d50-8afb-112db4eb9c10",
   "metadata": {},
   "outputs": [],
   "source": [
    "# Replace NaNs by 0\n",
    "for col in ['Bare', 'Grass', 'Lichen', 'Shrub', 'Tree']:\n",
    "    print(col)\n",
    "    df[col] = df[col].fillna(0)\n",
    "    dg[col] = dg[col].fillna(0)"
   ]
  },
  {
   "cell_type": "code",
   "execution_count": null,
   "id": "240924bf-293d-4ffa-b2ac-cfc812894a06",
   "metadata": {},
   "outputs": [],
   "source": [
    "# Calculate total fractional coverage of bare, grass, lichen, shrub and tree (should be 100)\n",
    "df['Total']  = (df['Bare'] + df['Grass'] + df['Lichen'] + df['Shrub'] + df['Tree'])\n",
    "dg['Total']  = (dg['Bare'] + dg['Grass'] + dg['Lichen'] + dg['Shrub'] + dg['Tree'])"
   ]
  },
  {
   "cell_type": "code",
   "execution_count": null,
   "id": "560e75ff-c5a6-40bb-9f44-291dd60cc77d",
   "metadata": {},
   "outputs": [],
   "source": [
    "df"
   ]
  },
  {
   "cell_type": "code",
   "execution_count": null,
   "id": "0ec1fc33-1aee-4182-82ea-501ebfdd266d",
   "metadata": {},
   "outputs": [],
   "source": [
    "# Normalize the fractional cover\n",
    "for col in ['Bare', 'Grass', 'Lichen', 'Shrub', 'Tree']:\n",
    "    print(col)\n",
    "    df[col] = df[col] / df['Total']\n",
    "    dg[col] = dg[col] / dg['Total']"
   ]
  },
  {
   "cell_type": "code",
   "execution_count": null,
   "id": "c388376d-8d4c-4c57-9ee5-645b9e2f0053",
   "metadata": {},
   "outputs": [],
   "source": [
    "# Drop the *Total* column\n",
    "df = df.drop(['Total'], axis=1)\n",
    "dg = dg.drop(['Total'], axis=1)"
   ]
  },
  {
   "cell_type": "code",
   "execution_count": null,
   "id": "21a25972-361a-4ae9-952a-5ea586f420d9",
   "metadata": {},
   "outputs": [],
   "source": [
    "df"
   ]
  },
  {
   "cell_type": "code",
   "execution_count": null,
   "id": "610a5133-c7c5-4cf1-9aae-d7840fb9b551",
   "metadata": {},
   "outputs": [],
   "source": [
    "# Convert to VAEX\n",
    "dvx = vaex.from_pandas(df)\n",
    "dvy = vaex.from_pandas(dg)"
   ]
  },
  {
   "cell_type": "code",
   "execution_count": null,
   "id": "4d29c526-a72a-48ea-8236-581daf29bb7d",
   "metadata": {},
   "outputs": [],
   "source": [
    "dvx"
   ]
  },
  {
   "cell_type": "code",
   "execution_count": null,
   "id": "a5a16aab-03ef-4926-837e-f4d4a47fa7b0",
   "metadata": {},
   "outputs": [],
   "source": [
    "# Find the correspondind ERA5-land lat-lon\n",
    "# Careful with the latitude, in reverse order\n",
    "dvx['ERA5_lon_index'] = ((dvx.lon - 15.59) / 0.1).astype('int').values\n",
    "dvx['ERA5_lat_index'] = 28 - ((dvx.lat - 68.35) / 0.1).astype('int').values\n",
    "dvy['ERA5_lon_index'] = ((dvy.lon - 15.59) / 0.1).astype('int').values\n",
    "dvy['ERA5_lat_index'] = 28 - ((dvy.lat - 68.35) / 0.1).astype('int').values"
   ]
  },
  {
   "cell_type": "code",
   "execution_count": null,
   "id": "5463849e-45a8-4bc9-85af-53aa68f32892",
   "metadata": {},
   "outputs": [],
   "source": [
    "dvx"
   ]
  },
  {
   "cell_type": "markdown",
   "id": "22f77043-1d8c-4965-8a41-6db2c04f2d18",
   "metadata": {},
   "source": [
    "# ERA5-land data from 2015-01-01 to 2019-12-31 - already available as a netCDF file stored on EOSC (CESNET)\n",
    "## 2m Temperature, Snow depth, Total precipitation\n",
    "## **For now will only use t2p in the ML algorithm** although it may be useful to know about rain and snow depth"
   ]
  },
  {
   "cell_type": "code",
   "execution_count": null,
   "id": "bd6a2c31-b159-4907-b54b-08d8fdda676b",
   "metadata": {},
   "outputs": [],
   "source": [
    "s3path = 'Data/reanalysis-era5-land_hourly_2015-01-01_2019-12-31_Troms-Finnmark_T2m-SD-TP.nc'"
   ]
  },
  {
   "cell_type": "code",
   "execution_count": null,
   "id": "8dcdc032-0fa5-43e3-aa1c-7d01b04e947d",
   "metadata": {},
   "outputs": [],
   "source": [
    "ERA5land = xr.open_dataset(store.open(s3path))"
   ]
  },
  {
   "cell_type": "code",
   "execution_count": null,
   "id": "a18d4594-cb72-43bd-8867-347e0e6291ad",
   "metadata": {},
   "outputs": [],
   "source": [
    "ERA5land"
   ]
  },
  {
   "cell_type": "markdown",
   "id": "1f64038a-aa03-48c0-8bf0-3855b233df1e",
   "metadata": {},
   "source": [
    "# Adding columns with the ERA5-land longitude and latitude to dv"
   ]
  },
  {
   "cell_type": "code",
   "execution_count": null,
   "id": "40178080-7c9d-40fb-92f3-f36cf67555d3",
   "metadata": {},
   "outputs": [],
   "source": [
    "dvx['ERA5_lon'] = ERA5land.sel(time=\"2015-01-01\").longitude[dvx['ERA5_lon_index'].values].values\n",
    "dvx['ERA5_lat'] = ERA5land.sel(time=\"2015-01-01\").latitude[dvx['ERA5_lat_index'].values].values\n",
    "dvy['ERA5_lon'] = ERA5land.sel(time=\"2015-01-01\").longitude[dvy['ERA5_lon_index'].values].values\n",
    "dvy['ERA5_lat'] = ERA5land.sel(time=\"2015-01-01\").latitude[dvy['ERA5_lat_index'].values].values"
   ]
  },
  {
   "cell_type": "code",
   "execution_count": null,
   "id": "241e9ea8-a1d0-44fb-b71a-a7da73047e33",
   "metadata": {
    "tags": []
   },
   "outputs": [],
   "source": [
    "dvx"
   ]
  },
  {
   "cell_type": "code",
   "execution_count": null,
   "id": "edea65e9-db4b-4583-9ef1-c8f85ae33f77",
   "metadata": {},
   "outputs": [],
   "source": [
    "import numpy as np"
   ]
  },
  {
   "cell_type": "code",
   "execution_count": null,
   "id": "78ea8698-6f4d-4e98-b7fc-64aa51e6690c",
   "metadata": {},
   "outputs": [],
   "source": [
    "#ERA5land.sel(time=\"2015-01-01\").where(ERA5land[\"latitude\"].isin(dv['ERA5_lat'].values) & ERA5land[\"longitude\"].isin(dv['ERA5_lon'].values))[\"t2m\"].isel(time=0).plot()"
   ]
  },
  {
   "cell_type": "code",
   "execution_count": null,
   "id": "c46e6191-d8ee-493a-98a0-95c98fbfa54c",
   "metadata": {},
   "outputs": [],
   "source": [
    "#ERA5land.sel(time=\"2015-03-01\").where(ERA5land[\"latitude\"].isin(dv['ERA5_lat'].values) & ERA5land[\"longitude\"].isin(dv['ERA5_lon'].values))[\"t2m\"].isel(time=0).plot()"
   ]
  },
  {
   "cell_type": "markdown",
   "id": "2fc733d2-bcb6-42ee-b03a-654484084b48",
   "metadata": {},
   "source": [
    "## Extract ERA5 data for  the selected period of the year (when RoS events mostly occur)"
   ]
  },
  {
   "cell_type": "code",
   "execution_count": null,
   "id": "6c8f4a7a-4e10-4a6c-a510-dd7147f1fe5b",
   "metadata": {},
   "outputs": [],
   "source": [
    "ERA5land = ERA5land.sel(time=slice(str(Year + 1) + '-' + str(Month_start) + '-' + str(Day_start), str(Year + 1)  + '-' + str(Month_end) + '-' + str(Day_end)))"
   ]
  },
  {
   "cell_type": "code",
   "execution_count": null,
   "id": "f39d9d28-e7d4-48ff-975e-d1ad03474acc",
   "metadata": {},
   "outputs": [],
   "source": [
    "ERA5land"
   ]
  },
  {
   "cell_type": "code",
   "execution_count": null,
   "id": "618f9fce-5983-48c3-97bd-ac79a9b73a9c",
   "metadata": {},
   "outputs": [],
   "source": [
    "# Extract ERA5 't2m' field \n",
    "ERA5 = ERA5land.where(ERA5land['latitude'].isin(dvx['ERA5_lat'].values) & ERA5land['longitude'].isin(dvx['ERA5_lon'].values))['t2m']"
   ]
  },
  {
   "cell_type": "code",
   "execution_count": null,
   "id": "66d4908a-2d8f-4792-bac3-9bdf0370e61c",
   "metadata": {},
   "outputs": [],
   "source": [
    "# Calculate the first time using the 2015 values\n",
    "t2m_mean = ERA5.mean(skipna=True).values\n",
    "print('Mean of the ERA5-Land 2m temperature: ', t2m_mean)\n",
    "t2m_std = ERA5.std(skipna=True).values\n",
    "print('Standard deviation of the ERA5-Land 2m temperature: ', t2m_std)\n",
    "# Set once and for all\n",
    "t2m_mean = 267.1025\n",
    "t2m_std = 14.740288734436035"
   ]
  },
  {
   "cell_type": "code",
   "execution_count": null,
   "id": "48d498ea-86f9-434c-9d19-d40c194a0ddd",
   "metadata": {},
   "outputs": [],
   "source": [
    "# Normalize temperature values\n",
    "ERA5 = (ERA5 -t2m_mean) / t2m_std"
   ]
  },
  {
   "cell_type": "code",
   "execution_count": null,
   "id": "d3ef52b7-7cec-4f54-b299-46523764e1ba",
   "metadata": {},
   "outputs": [],
   "source": [
    "ERA5.shape[0]"
   ]
  },
  {
   "cell_type": "code",
   "execution_count": null,
   "id": "73cd0256-f370-4d10-885c-3233f5c561e2",
   "metadata": {},
   "outputs": [],
   "source": [
    "df = ERA5.stack(z=['latitude', 'longitude']).to_pandas().transpose().reset_index()"
   ]
  },
  {
   "cell_type": "code",
   "execution_count": null,
   "id": "07708e23-4fc0-47df-b59f-4c696e21f3bf",
   "metadata": {},
   "outputs": [],
   "source": [
    "df"
   ]
  },
  {
   "cell_type": "code",
   "execution_count": null,
   "id": "66753591-e153-498b-9692-5124e1d3730e",
   "metadata": {},
   "outputs": [],
   "source": [
    "# Add combined lon_lat column to df\n",
    "df['lon_lat'] = (df['longitude'] * 100).astype('int') + (df['latitude'] * 100).astype('int') / 100000"
   ]
  },
  {
   "cell_type": "code",
   "execution_count": null,
   "id": "6ab2c630-e7e0-40e1-b393-21b45f5c5bcd",
   "metadata": {},
   "outputs": [],
   "source": [
    "# Drop latitude and longitude columns which are not used anymore in df\n",
    "df = df.drop(columns=['latitude', 'longitude'])"
   ]
  },
  {
   "cell_type": "code",
   "execution_count": null,
   "id": "f5e15c21-2a18-4985-ba3c-ed3681e7c4ee",
   "metadata": {},
   "outputs": [],
   "source": [
    "df"
   ]
  },
  {
   "cell_type": "code",
   "execution_count": null,
   "id": "fecc78fe-69b9-403f-9ef2-cf6d50dcb2f8",
   "metadata": {},
   "outputs": [],
   "source": [
    "# Add combined lon_lat column to dv x & y\n",
    "dvx['lon_lat'] = (dvx['ERA5_lon'] * 100).astype('int') + (dvx['ERA5_lat'] * 100).astype('int') / 100000"
   ]
  },
  {
   "cell_type": "code",
   "execution_count": null,
   "id": "42d2dbe5-3287-4e97-9015-2361d4ffc7da",
   "metadata": {
    "tags": []
   },
   "outputs": [],
   "source": [
    "dvx"
   ]
  },
  {
   "cell_type": "code",
   "execution_count": null,
   "id": "5c6c05db-161e-421d-8a4f-6c782145ec14",
   "metadata": {},
   "outputs": [],
   "source": [
    "# Drop unused columns in dv x & y\n",
    "dwx = dvx.drop(columns=['time', 'ERA5_lon_index', 'ERA5_lat_index', 'ERA5_lon', 'ERA5_lat'])\n",
    "dwy = dvy.drop(columns=['time', 'ERA5_lon_index', 'ERA5_lat_index', 'ERA5_lon', 'ERA5_lat'])"
   ]
  },
  {
   "cell_type": "code",
   "execution_count": null,
   "id": "66037d06-7d33-4fb3-87a3-fcdbd67f348c",
   "metadata": {},
   "outputs": [],
   "source": [
    "dwx"
   ]
  },
  {
   "cell_type": "code",
   "execution_count": null,
   "id": "bbb58d81-2990-4119-9370-58212a6e4659",
   "metadata": {},
   "outputs": [],
   "source": [
    "# Convert to panda dw x & y\n",
    "dwx_pandas = dwx.to_pandas_df()\n",
    "dwy_pandas = dwy.to_pandas_df()"
   ]
  },
  {
   "cell_type": "markdown",
   "id": "fb9a4973-c034-4ec8-9308-9d00b159cd5d",
   "metadata": {},
   "source": [
    "## Join dwx (WLC) with df (ERA5 t2m)"
   ]
  },
  {
   "cell_type": "code",
   "execution_count": null,
   "id": "011111a0-614d-424e-8933-e08fa861f461",
   "metadata": {},
   "outputs": [],
   "source": [
    "dwx_pandas"
   ]
  },
  {
   "cell_type": "code",
   "execution_count": null,
   "id": "8726c370-d8ed-4cb6-a256-8b885b7cbee1",
   "metadata": {},
   "outputs": [],
   "source": [
    "# With ERA5_t2m\n",
    "dx = dwx_pandas.set_index('lon_lat').join(df.set_index('lon_lat'), on='lon_lat')"
   ]
  },
  {
   "cell_type": "code",
   "execution_count": null,
   "id": "8a06f17f-fb14-4699-a02c-542b7a5a8978",
   "metadata": {},
   "outputs": [],
   "source": [
    "dx"
   ]
  },
  {
   "cell_type": "code",
   "execution_count": null,
   "id": "d02a8b98-fefa-43b3-9ce4-535072c7b307",
   "metadata": {},
   "outputs": [],
   "source": [
    "# Drop the Rows with NaN Values\n",
    "dx = dx.dropna()"
   ]
  },
  {
   "cell_type": "code",
   "execution_count": null,
   "id": "b0386450-1d92-4b7e-a7a8-7ebeca532d6b",
   "metadata": {},
   "outputs": [],
   "source": [
    "dx = dx.reset_index()"
   ]
  },
  {
   "cell_type": "code",
   "execution_count": null,
   "id": "858a8682-b70e-4692-b58d-9c0b567c8699",
   "metadata": {},
   "outputs": [],
   "source": [
    "dx = dx.drop(columns=['lon_lat'])"
   ]
  },
  {
   "cell_type": "code",
   "execution_count": null,
   "id": "730e8f6d-1876-4091-8646-dedcc6c5e164",
   "metadata": {},
   "outputs": [],
   "source": [
    "dx"
   ]
  },
  {
   "cell_type": "markdown",
   "id": "e0c98e59-ca50-4011-bcba-e190eaad4983",
   "metadata": {},
   "source": [
    "## Save into **local** CSV file with header and indices"
   ]
  },
  {
   "cell_type": "code",
   "execution_count": null,
   "id": "6050afd4-3239-475e-801a-887319f2bbba",
   "metadata": {},
   "outputs": [],
   "source": [
    "dx.to_csv(r'/home/jovyan/Arctic/Vegetation_in_Troms_and_Finnmark/x_' + str(Year) + '.csv', header=True, index=True, sep=',', mode='a')"
   ]
  },
  {
   "cell_type": "markdown",
   "id": "c79047fc-61c4-46a5-9fbd-3853ccb5836b",
   "metadata": {},
   "source": [
    "# Local .CSV files with header & index - t2m normalized\n",
    "## x_2015.csv **139765** rows and **6G** \n",
    "## x_2016.csv *212459* rows and **\n",
    "## x_2017.csv *227807* rows and *11G*\n",
    "## x_2018.csv *211791* rows and *9.5G*\n",
    "## x_2019.csv *289371* rows and *13G*"
   ]
  },
  {
   "cell_type": "markdown",
   "id": "b8cecdb7-bec2-4d65-98ca-fd1a669be485",
   "metadata": {},
   "source": [
    "## Find locations with lichen in Year+1 corresponding to those in Year"
   ]
  },
  {
   "cell_type": "code",
   "execution_count": null,
   "id": "eb1ddc2f-9d80-4285-b7a6-64c33bb59c77",
   "metadata": {},
   "outputs": [],
   "source": [
    "dwx_pandas = dx[['lon', 'lat']]"
   ]
  },
  {
   "cell_type": "code",
   "execution_count": null,
   "id": "775f1ebc-3d2c-4a42-9f47-9eba9fbbd604",
   "metadata": {},
   "outputs": [],
   "source": [
    "dwx_pandas"
   ]
  },
  {
   "cell_type": "code",
   "execution_count": null,
   "id": "8749953f-d7a0-423d-993a-9353ded9ee26",
   "metadata": {},
   "outputs": [],
   "source": [
    "dwy_pandas"
   ]
  },
  {
   "cell_type": "code",
   "execution_count": null,
   "id": "7df99e2c-082a-446c-b8e9-677a7a9f377f",
   "metadata": {},
   "outputs": [],
   "source": [
    "# Add combined lat-lon column to dv x & y\n",
    "dwx_pandas['lon_lat'] = (dwx_pandas['lon'] * 100000).astype('int') + (dwx_pandas['lat'] * 100000).astype('int') / 10000000\n",
    "dwy_pandas['lon_lat'] = (dwy_pandas['lon'] * 100000).astype('int') + (dwy_pandas['lat'] * 100000).astype('int') / 10000000"
   ]
  },
  {
   "cell_type": "code",
   "execution_count": null,
   "id": "89b5de46-e41e-4cb3-b658-ed1b239d417d",
   "metadata": {},
   "outputs": [],
   "source": [
    "dwx_pandas = dwx_pandas.drop(columns=['lon', 'lat'])\n",
    "dwy_pandas = dwy_pandas.drop(columns=['lon', 'lat'])"
   ]
  },
  {
   "cell_type": "code",
   "execution_count": null,
   "id": "bb55193c-846c-405b-a774-2e5cb65967c2",
   "metadata": {},
   "outputs": [],
   "source": [
    "dwx_pandas"
   ]
  },
  {
   "cell_type": "code",
   "execution_count": null,
   "id": "d0e66d8d-37d1-4d92-93d1-67cfcc1fa8a7",
   "metadata": {},
   "outputs": [],
   "source": [
    "dwy_pandas"
   ]
  },
  {
   "cell_type": "code",
   "execution_count": null,
   "id": "3d5bdf52-22a1-415d-ade9-983fe9c9ad50",
   "metadata": {},
   "outputs": [],
   "source": [
    "## Join dwx with dwy\n",
    "dy = dwx_pandas.set_index('lon_lat').join(dwy_pandas.set_index('lon_lat'), on='lon_lat')"
   ]
  },
  {
   "cell_type": "code",
   "execution_count": null,
   "id": "bd37a472-1485-4eac-9b1d-d9e85611991d",
   "metadata": {},
   "outputs": [],
   "source": [
    "dy"
   ]
  },
  {
   "cell_type": "code",
   "execution_count": null,
   "id": "8bce712a-532c-4019-af69-5b6256ba40f9",
   "metadata": {},
   "outputs": [],
   "source": [
    "# Replace NaNs by 0\n",
    "for col in ['Bare', 'Grass', 'Lichen', 'Shrub', 'Tree']:\n",
    "    print(col)\n",
    "    dy[col] = dy[col].fillna(0)"
   ]
  },
  {
   "cell_type": "code",
   "execution_count": null,
   "id": "d37de31a-7e6c-478c-abaf-644f5adc178c",
   "metadata": {},
   "outputs": [],
   "source": [
    "dy = dy.reset_index().drop(columns=['lon_lat'])"
   ]
  },
  {
   "cell_type": "code",
   "execution_count": null,
   "id": "253f4e70-b391-4280-9f1c-af095fb3fcd3",
   "metadata": {},
   "outputs": [],
   "source": [
    "dy"
   ]
  },
  {
   "cell_type": "code",
   "execution_count": null,
   "id": "fd86020c-3b6a-403a-8c0d-60c70383165d",
   "metadata": {},
   "outputs": [],
   "source": [
    "dy.to_csv(r'/home/jovyan/Arctic/Vegetation_in_Troms_and_Finnmark/y_' + str(Year) + '.csv', header=True, index=True, sep=',', mode='a')"
   ]
  },
  {
   "cell_type": "code",
   "execution_count": null,
   "id": "3b44e995-2cff-4a1b-b985-00c9b626dc9d",
   "metadata": {},
   "outputs": [],
   "source": []
  }
 ],
 "metadata": {
  "kernelspec": {
   "display_name": "Python 3 (ipykernel)",
   "language": "python",
   "name": "python3"
  },
  "language_info": {
   "codemirror_mode": {
    "name": "ipython",
    "version": 3
   },
   "file_extension": ".py",
   "mimetype": "text/x-python",
   "name": "python",
   "nbconvert_exporter": "python",
   "pygments_lexer": "ipython3",
   "version": "3.9.13"
  }
 },
 "nbformat": 4,
 "nbformat_minor": 5
}

{
 "cells": [
  {
   "cell_type": "markdown",
   "id": "f4bc2fe6-4b57-40ea-b3db-3dfaff8137d7",
   "metadata": {},
   "source": [
    "# Prepare labelled input for the NN\n",
    "# (i.e. locations where moss&lichen fractional cover changed and related meteorological parameters from ERA5-Land)"
   ]
  },
  {
   "cell_type": "markdown",
   "id": "9c105dc5-6644-4703-bbc7-b29273f27d54",
   "metadata": {},
   "source": [
    "# Copernicus Global Land Cover data  from 2015-01-01 to 2019-12-31 already available as a netCDF file stored on EOSC (CESNET)\n",
    "## Troms og Finnmark\n",
    "### Mosses and lichens, grass, shrubs and trees"
   ]
  },
  {
   "cell_type": "code",
   "execution_count": null,
   "id": "3e2ce510-3a0b-414f-bc25-49de0e83169c",
   "metadata": {},
   "outputs": [],
   "source": [
    "!date"
   ]
  },
  {
   "cell_type": "markdown",
   "id": "4b70d289-c32c-4d51-8f41-de137347ce5b",
   "metadata": {},
   "source": [
    "### Define s3 storage parameters"
   ]
  },
  {
   "cell_type": "code",
   "execution_count": null,
   "id": "6096bf7b-1678-451b-87fe-3d7de6fc176f",
   "metadata": {},
   "outputs": [],
   "source": [
    "import s3fs\n",
    "import xarray as xr\n",
    "import h3\n",
    "import vaex"
   ]
  },
  {
   "cell_type": "code",
   "execution_count": null,
   "id": "5eebb97a-3319-453c-bb84-c038b45238cd",
   "metadata": {
    "tags": []
   },
   "outputs": [],
   "source": [
    "client_kwargs={'endpoint_url': 'https://object-store.cloud.muni.cz'}\n",
    "store = s3fs.S3FileSystem(anon=False, client_kwargs=client_kwargs)\n",
    "store.ls('Data', detail=True, refresh=True)"
   ]
  },
  {
   "cell_type": "markdown",
   "id": "ae2958a0-ead0-4f7d-9508-1225c5159c0b",
   "metadata": {},
   "source": [
    "### Define s3 store for the **netCDF file**"
   ]
  },
  {
   "cell_type": "code",
   "execution_count": null,
   "id": "a93f46f8-bd33-4d69-9922-72dc91d98452",
   "metadata": {},
   "outputs": [],
   "source": [
    "s3path = 'Data/C_GlobalLandCover_20150101_20190101_Troms-Finnmark.nc'"
   ]
  },
  {
   "cell_type": "code",
   "execution_count": null,
   "id": "41a69878-3518-4b2c-bd35-1371e165f3e0",
   "metadata": {},
   "outputs": [],
   "source": [
    "GLC_AOI = xr.open_dataset(store.open(s3path))"
   ]
  },
  {
   "cell_type": "code",
   "execution_count": null,
   "id": "45f00fd6-4cd9-4207-9c1b-c731b274b0a7",
   "metadata": {},
   "outputs": [],
   "source": [
    "GLC_AOI"
   ]
  },
  {
   "cell_type": "code",
   "execution_count": null,
   "id": "0f715fd7-f800-4e12-84d1-41ce7bdec579",
   "metadata": {},
   "outputs": [],
   "source": [
    "GLC_AOI = GLC_AOI.rename(x='lon', y='lat', t='time')"
   ]
  },
  {
   "cell_type": "code",
   "execution_count": null,
   "id": "d4660f76-1b3e-42cc-a6bb-1e9192db0eed",
   "metadata": {},
   "outputs": [],
   "source": [
    "# Drop variables not directly of interest here\n",
    "GLC_AOI = GLC_AOI.drop_vars(['crs',\n",
    "                             'Crops_CoverFraction_layer',\n",
    "                             'Discrete_Classification_map', \n",
    "                             'Discrete_Classification_proba',\n",
    "                             'Forest_Type_layer',\n",
    "                             'Snow_CoverFraction_layer',\n",
    "                             'BuiltUp_CoverFraction_layer',\n",
    "                             'PermanentWater_CoverFraction_layer',\n",
    "                             'SeasonalWater_CoverFraction_layer',\n",
    "                             'DataDensityIndicator',\n",
    "                             'Change_Confidence_layer',\n",
    "                             'dataMask'])"
   ]
  },
  {
   "cell_type": "code",
   "execution_count": null,
   "id": "4c5c34e6-3b1b-4afc-abf0-83aae56a6b9a",
   "metadata": {},
   "outputs": [],
   "source": [
    "GLC_AOI = GLC_AOI.rename(Bare_CoverFraction_layer = 'Bare',\n",
    "                         Grass_CoverFraction_layer = 'Grass',\n",
    "                         MossLichen_CoverFraction_layer = 'Lichen',\n",
    "                         Shrub_CoverFraction_layer = 'Shrub',\n",
    "                         Tree_CoverFraction_layer = 'Tree')"
   ]
  },
  {
   "cell_type": "markdown",
   "id": "916ebb4c-4f1b-460e-8b9e-163c51c0c4d1",
   "metadata": {},
   "source": [
    "### The two cells below redefine a very small region for testing purposes only - skip them to keep the whole Troms-finnmark area"
   ]
  },
  {
   "cell_type": "code",
   "execution_count": null,
   "id": "771b993b-e604-4a76-addf-30bcf6049264",
   "metadata": {},
   "outputs": [],
   "source": [
    "# Small region \n",
    "AOI_min_lon = 19.9955\n",
    "AOI_max_lon = 20\n",
    "AOI_min_lat = 69\n",
    "AOI_max_lat = 69.005"
   ]
  },
  {
   "cell_type": "code",
   "execution_count": null,
   "id": "9cc0cad9-131c-4ef9-8a34-57d1e0098c24",
   "metadata": {},
   "outputs": [],
   "source": [
    "GLC_AOI = GLC_AOI.sel(lat=slice(AOI_max_lat, AOI_min_lat), lon=slice(AOI_min_lon, AOI_max_lon))"
   ]
  },
  {
   "cell_type": "code",
   "execution_count": null,
   "id": "b378f20e-cad3-46cb-990d-069febbf1f57",
   "metadata": {},
   "outputs": [],
   "source": [
    "GLC_AOI"
   ]
  },
  {
   "cell_type": "code",
   "execution_count": null,
   "id": "fa796099-b753-4c3e-82b3-4190b21a2b6f",
   "metadata": {},
   "outputs": [],
   "source": [
    "%%time\n",
    "h3_level = 11\n",
    "def lat_lon_to_h3(lat, lon):\n",
    "    return h3.geo_to_h3(lat, lon, h3_level)"
   ]
  },
  {
   "cell_type": "code",
   "execution_count": null,
   "id": "2aded854-e4c8-4111-b374-a129d3624425",
   "metadata": {},
   "outputs": [],
   "source": []
  },
  {
   "cell_type": "code",
   "execution_count": null,
   "id": "7732d137-335a-41d3-b5a2-1ef967b8911a",
   "metadata": {},
   "outputs": [],
   "source": [
    "df = GLC_AOI.isel(time = 2).to_dataframe()"
   ]
  },
  {
   "cell_type": "code",
   "execution_count": null,
   "id": "e64708f6-c8c5-43b8-a984-c435a2d5d7be",
   "metadata": {},
   "outputs": [],
   "source": [
    "df"
   ]
  },
  {
   "cell_type": "code",
   "execution_count": null,
   "id": "8cdbb4b8-438b-41ae-81c7-0f3cb1df45d5",
   "metadata": {},
   "outputs": [],
   "source": [
    "df = df.reset_index()"
   ]
  },
  {
   "cell_type": "code",
   "execution_count": null,
   "id": "f5a6d090-df60-4220-9f59-8ce3b7175193",
   "metadata": {},
   "outputs": [],
   "source": [
    "df"
   ]
  },
  {
   "cell_type": "code",
   "execution_count": null,
   "id": "ea13b68b-2edd-4042-946d-1eb6d846bab0",
   "metadata": {},
   "outputs": [],
   "source": [
    "# Drop lines where MossLichen_CoverFraction_layer is NaN\n",
    "df = df.dropna(subset=['MossLichen_CoverFraction_layer'])"
   ]
  },
  {
   "cell_type": "code",
   "execution_count": null,
   "id": "21a25972-361a-4ae9-952a-5ea586f420d9",
   "metadata": {},
   "outputs": [],
   "source": [
    "df"
   ]
  },
  {
   "cell_type": "code",
   "execution_count": null,
   "id": "610a5133-c7c5-4cf1-9aae-d7840fb9b551",
   "metadata": {},
   "outputs": [],
   "source": [
    "dv = vaex.from_pandas(df)"
   ]
  },
  {
   "cell_type": "code",
   "execution_count": null,
   "id": "4d29c526-a72a-48ea-8236-581daf29bb7d",
   "metadata": {},
   "outputs": [],
   "source": [
    "dv"
   ]
  },
  {
   "cell_type": "code",
   "execution_count": null,
   "id": "28b089b5-4028-4718-8266-5b110cee7a06",
   "metadata": {},
   "outputs": [],
   "source": [
    "dv[\"h3\"] = dv.apply(lat_lon_to_h3, [dv.lon, dv.lat])"
   ]
  },
  {
   "cell_type": "code",
   "execution_count": null,
   "id": "fc6fa9f1-f26e-47a3-ace8-9658dd5f7de6",
   "metadata": {},
   "outputs": [],
   "source": [
    "dv.apply(lat_lon_to_h3, [dv.lon, dv.lat])"
   ]
  },
  {
   "cell_type": "code",
   "execution_count": null,
   "id": "ba60309d-8788-4b3a-b7b8-b519dcdffcb5",
   "metadata": {},
   "outputs": [],
   "source": [
    "dfm = dv.materialize('h3')"
   ]
  },
  {
   "cell_type": "code",
   "execution_count": null,
   "id": "bc81adb9-de27-44e4-9c2c-3bac9525f06c",
   "metadata": {},
   "outputs": [],
   "source": [
    "dfm"
   ]
  },
  {
   "cell_type": "markdown",
   "id": "22f77043-1d8c-4965-8a41-6db2c04f2d18",
   "metadata": {},
   "source": [
    "# ERA5-land data from 2015-01-01 to 2019-12-31 1 already available as a netCDF file stored on EOSC (CESNET)\n",
    "## 2m Temperature, Snow depth, Total precipitation"
   ]
  },
  {
   "cell_type": "code",
   "execution_count": null,
   "id": "bd6a2c31-b159-4907-b54b-08d8fdda676b",
   "metadata": {},
   "outputs": [],
   "source": [
    "s3path = 'Data/reanalysis-era5-land_hourly_2015-01-01_2019-12-31_Troms-Finnmark_T2m-SD-TP.nc'"
   ]
  },
  {
   "cell_type": "code",
   "execution_count": null,
   "id": "8dcdc032-0fa5-43e3-aa1c-7d01b04e947d",
   "metadata": {},
   "outputs": [],
   "source": [
    "ERA5land = xr.open_dataset(store.open(s3path))"
   ]
  },
  {
   "cell_type": "code",
   "execution_count": null,
   "id": "a18d4594-cb72-43bd-8867-347e0e6291ad",
   "metadata": {},
   "outputs": [],
   "source": [
    "ERA5land"
   ]
  },
  {
   "cell_type": "code",
   "execution_count": null,
   "id": "39be2f55-ec6d-4d1e-a23e-a60275912c33",
   "metadata": {},
   "outputs": [],
   "source": [
    "# ERA5land_AOI = ERA5land.sel(latitude=slice(AOI_max_lat, AOI_min_lat), longitude=slice(AOI_min_lon, AOI_max_lon))"
   ]
  },
  {
   "cell_type": "code",
   "execution_count": null,
   "id": "7ea234d7-2be5-4679-9007-16274ed5252a",
   "metadata": {},
   "outputs": [],
   "source": [
    "ERA5land"
   ]
  },
  {
   "cell_type": "code",
   "execution_count": null,
   "id": "0af9eb80-3145-4f78-a73c-30c42f6dae72",
   "metadata": {},
   "outputs": [],
   "source": [
    "dg = ERA5land.isel(time = 1).to_dataframe()"
   ]
  },
  {
   "cell_type": "code",
   "execution_count": null,
   "id": "768b4cc0-877c-4591-b891-995566723930",
   "metadata": {},
   "outputs": [],
   "source": [
    "dg = dg.reset_index()"
   ]
  },
  {
   "cell_type": "code",
   "execution_count": null,
   "id": "9b647114-006f-4def-b3e3-99ed2ad8abb9",
   "metadata": {},
   "outputs": [],
   "source": [
    "dg"
   ]
  },
  {
   "cell_type": "code",
   "execution_count": null,
   "id": "2ce14cd4-07c8-40fa-9f60-d45b34990e1d",
   "metadata": {},
   "outputs": [],
   "source": []
  },
  {
   "cell_type": "code",
   "execution_count": null,
   "id": "cbebe30c-aaff-425c-8c98-96066ffdb98c",
   "metadata": {},
   "outputs": [],
   "source": []
  },
  {
   "cell_type": "code",
   "execution_count": null,
   "id": "885de42c-20b3-4ee3-8f87-9f11f39fae41",
   "metadata": {},
   "outputs": [],
   "source": []
  },
  {
   "cell_type": "code",
   "execution_count": null,
   "id": "0838a1fa-dfed-4db4-b271-bb8ca1dbd956",
   "metadata": {},
   "outputs": [],
   "source": []
  },
  {
   "cell_type": "code",
   "execution_count": null,
   "id": "60a3cc51-9c94-464a-b9b0-3d1a3136db56",
   "metadata": {},
   "outputs": [],
   "source": [
    "dg = ERA5land[['longitude','latitude']].to_dataframe()"
   ]
  },
  {
   "cell_type": "code",
   "execution_count": null,
   "id": "e58e8837-60a9-4c8a-b6bd-27c8be7f723f",
   "metadata": {},
   "outputs": [],
   "source": [
    "dg = dg.reset_index()"
   ]
  },
  {
   "cell_type": "code",
   "execution_count": null,
   "id": "ac58053c-fd32-4a26-977f-b038035c792d",
   "metadata": {},
   "outputs": [],
   "source": [
    "dw = vaex.from_pandas(dg)"
   ]
  },
  {
   "cell_type": "code",
   "execution_count": null,
   "id": "0a822ef5-8e92-4e3f-8ca5-3e4ea3d6556f",
   "metadata": {},
   "outputs": [],
   "source": [
    "dw[\"h3\"] = dw.apply(lat_lon_to_h3, [dw.latitude, dw.longitude])"
   ]
  },
  {
   "cell_type": "code",
   "execution_count": null,
   "id": "7d6414a8-3d3c-4a9e-8829-65816ef085a4",
   "metadata": {},
   "outputs": [],
   "source": [
    "dfn = dw.materialize('h3')"
   ]
  },
  {
   "cell_type": "code",
   "execution_count": null,
   "id": "d4b03dfa-40db-480c-9d6b-6508bb030f5b",
   "metadata": {},
   "outputs": [],
   "source": [
    "dfn"
   ]
  },
  {
   "cell_type": "code",
   "execution_count": null,
   "id": "09a8f08c-74a6-4926-882c-fab5f5afb688",
   "metadata": {},
   "outputs": [],
   "source": [
    "dfall = dfm.join(dfn, how='right',left_on='h3',right_on='h3', allow_duplication=True)"
   ]
  },
  {
   "cell_type": "code",
   "execution_count": null,
   "id": "90c492e3-e7cb-4193-8746-ad2e43477ec3",
   "metadata": {},
   "outputs": [],
   "source": [
    "dfall"
   ]
  },
  {
   "cell_type": "code",
   "execution_count": null,
   "id": "4ba6f0cf-72c9-4add-b8d2-a6161d325c90",
   "metadata": {},
   "outputs": [],
   "source": [
    "import pys2index"
   ]
  },
  {
   "cell_type": "code",
   "execution_count": null,
   "id": "11e33c1d-5aa5-4b2f-adbc-aebbaeae96db",
   "metadata": {},
   "outputs": [],
   "source": []
  }
 ],
 "metadata": {
  "kernelspec": {
   "display_name": "Python 3 (ipykernel)",
   "language": "python",
   "name": "python3"
  },
  "language_info": {
   "codemirror_mode": {
    "name": "ipython",
    "version": 3
   },
   "file_extension": ".py",
   "mimetype": "text/x-python",
   "name": "python",
   "nbconvert_exporter": "python",
   "pygments_lexer": "ipython3",
   "version": "3.9.13"
  }
 },
 "nbformat": 4,
 "nbformat_minor": 5
}

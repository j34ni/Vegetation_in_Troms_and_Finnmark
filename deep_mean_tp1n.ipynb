{
 "cells": [
  {
   "cell_type": "markdown",
   "id": "5959ebbc",
   "metadata": {},
   "source": [
    "# Forecasting moss & lichen fractional cover mean\n",
    "## with a Neural Network using Keras\n",
    "## (Reading input and output files stored locally as .csv)\n",
    "## (Writing X_train, X_test, y_train, y_test locally as .csv too)\n",
    "# For lichen output only"
   ]
  },
  {
   "cell_type": "markdown",
   "id": "08695281",
   "metadata": {},
   "source": [
    "### This notebook uses TensorFlow NGC Container Release 23.03-tf2-py3\n",
    "### (https://catalog.ngc.nvidia.com/orgs/nvidia/containers/tensorflow)\n",
    "### and runs on a machine with 4x ARM CPUs (Neoverse N1) and 24GB RAM"
   ]
  },
  {
   "cell_type": "code",
   "execution_count": 1,
   "id": "31c72519",
   "metadata": {},
   "outputs": [],
   "source": [
    "# pip install tables"
   ]
  },
  {
   "cell_type": "code",
   "execution_count": 2,
   "id": "8fcc4af1",
   "metadata": {},
   "outputs": [
    {
     "name": "stdout",
     "output_type": "stream",
     "text": [
      "env: LD_PRELOAD=/usr/lib/aarch64-linux-gnu/libgomp.so.1\n"
     ]
    }
   ],
   "source": [
    "# There is known issue affects aarch64 libgomp, which might sometimes cause \n",
    "# \"Cannot allocate memory in static TLS block errors.\"\"\n",
    "# The workaround is to run the following command: \n",
    "%env LD_PRELOAD=/usr/lib/aarch64-linux-gnu/libgomp.so.1"
   ]
  },
  {
   "cell_type": "code",
   "execution_count": 3,
   "id": "75781790",
   "metadata": {
    "tags": []
   },
   "outputs": [
    {
     "name": "stdout",
     "output_type": "stream",
     "text": [
      "Starting imports\n",
      "Finished imports\n"
     ]
    }
   ],
   "source": [
    "print('Starting imports')\n",
    "from sklearn.model_selection import train_test_split\n",
    "import numpy as np\n",
    "import os\n",
    "import pandas as pd\n",
    "print('Finished imports')"
   ]
  },
  {
   "cell_type": "code",
   "execution_count": 4,
   "id": "e6343d87",
   "metadata": {
    "tags": []
   },
   "outputs": [
    {
     "name": "stdout",
     "output_type": "stream",
     "text": [
      "Reading  /home/jeani/data/input_mean_tp1.csv\n",
      "Read\n",
      "Input\n",
      "Number of rows: 3,403\n",
      "Number of columns: 17522\n",
      "Reading  /home/jeani/data/output_mean_tp1.csv\n",
      "Read\n",
      "Output\n",
      "Number of rows: 3,403\n",
      "Number of columns: 2\n"
     ]
    }
   ],
   "source": [
    "# Reading local .csv files\n",
    "path = '/home/jeani/data/'\n",
    "input_file = os.path.join(path, 'input_mean_tp1.csv')\n",
    "print('Reading ', input_file)\n",
    "input = pd.read_csv(input_file)\n",
    "print('Read')\n",
    "\n",
    "print('Input')\n",
    "print(f'Number of rows: {input.shape[0]:,}')\n",
    "print(f'Number of columns: {input.shape[1]}')\n",
    "\n",
    "output_file = os.path.join(path, 'output_mean_tp1.csv')\n",
    "print('Reading ', output_file)\n",
    "output = pd.read_csv(output_file)\n",
    "output = output.drop(columns=['index'])\n",
    "print('Read')\n",
    "\n",
    "print('Output')\n",
    "print(f'Number of rows: {output.shape[0]:,}')\n",
    "print(f'Number of columns: {output.shape[1]}')"
   ]
  },
  {
   "cell_type": "code",
   "execution_count": 5,
   "id": "be1fb314",
   "metadata": {
    "tags": []
   },
   "outputs": [],
   "source": [
    "# Split data into training and test sets, \n",
    "X_train, X_test, y_train, y_test = train_test_split(input, output, test_size = 0.2, random_state = 0, shuffle = True)"
   ]
  },
  {
   "cell_type": "code",
   "execution_count": 6,
   "id": "19d2bb1e",
   "metadata": {
    "tags": []
   },
   "outputs": [
    {
     "name": "stdout",
     "output_type": "stream",
     "text": [
      "X_train\n",
      "X_test\n",
      "y_train\n",
      "y_test\n"
     ]
    }
   ],
   "source": [
    "print('X_train')\n",
    "X_train\n",
    "X_train_file = os.path.join(path, 'X_mean_tp1_train.hdf')\n",
    "X_train.to_hdf(X_train_file, key='df', mode=\"w\", index=False)\n",
    "\n",
    "print('X_test')\n",
    "X_test\n",
    "X_test_file = os.path.join(path, 'X_mean_tp1_test.hdf')\n",
    "X_test.to_hdf(X_test_file, key='df', mode=\"w\",  index=False)\n",
    "\n",
    "print('y_train')\n",
    "y_train\n",
    "y_train_file = os.path.join(path, 'y_mean_tp1_train.hdf')\n",
    "y_train.to_hdf(y_train_file, key='dg', mode=\"w\", index=False)\n",
    "\n",
    "print('y_test')\n",
    "y_test \n",
    "y_test_file = os.path.join(path, 'y_mean_tp1_test.hdf')\n",
    "y_test.to_hdf(y_test_file, key='dg', mode=\"w\", index=False)"
   ]
  },
  {
   "cell_type": "code",
   "execution_count": 7,
   "id": "afd73a13",
   "metadata": {
    "tags": []
   },
   "outputs": [
    {
     "name": "stdout",
     "output_type": "stream",
     "text": [
      "        Lichen    N     t2m_0     t2m_1     t2m_2     t2m_3     t2m_4  \\\n",
      "989   0.024091  132  0.971087  0.971371  0.970914  0.968853  0.967404   \n",
      "686   0.295000    8  0.993326  0.992581  0.991884  0.991502  0.990914   \n",
      "472   0.175429   35  0.994245  0.994045  0.993928  0.993348  0.992681   \n",
      "3231  0.152985   67  0.960703  0.961761  0.962833  0.966086  0.972278   \n",
      "3351  0.220000   88  0.970532  0.973323  0.976747  0.979609  0.981333   \n",
      "...        ...  ...       ...       ...       ...       ...       ...   \n",
      "3268  0.042000    5  0.964211  0.965566  0.966683  0.967295  0.969660   \n",
      "1559  0.040000    2  0.983213  0.981717  0.980603  0.979911  0.979536   \n",
      "547   0.120000    3  0.996146  0.995740  0.995268  0.994531  0.993795   \n",
      "3251  0.248549  455  0.964745  0.966638  0.968546  0.970838  0.975005   \n",
      "228   0.149043  188  0.994862  0.993952  0.993521  0.993340  0.993717   \n",
      "\n",
      "         t2m_5     t2m_6     t2m_7  ...   tp_8750   tp_8751   tp_8752  \\\n",
      "989   0.965331  0.967756  0.972545  ...  0.101313  0.101313  0.101313   \n",
      "686   0.990766  0.989501  0.988838  ...  0.945295  1.644955  2.214925   \n",
      "472   0.991627  0.990242  0.989414  ...  3.992452  4.201286  4.257374   \n",
      "3231  0.977282  0.978784  0.978371  ...  0.818044  1.002491  1.090947   \n",
      "3351  0.983972  0.984513  0.982545  ...  0.857726  1.061018  1.184944   \n",
      "...        ...       ...       ...  ...       ...       ...       ...   \n",
      "3268  0.973490  0.977002  0.981595  ...  0.335198  0.342292  0.352047   \n",
      "1559  0.979698  0.979805  0.977779  ...  0.125256  0.125921  0.127029   \n",
      "547   0.992565  0.990657  0.989348  ...  3.844140  4.220573  4.289519   \n",
      "3251  0.979248  0.980830  0.980757  ...  0.685693  0.799643  0.870585   \n",
      "228   0.993590  0.993406  0.994300  ...  4.066719  4.166480  4.221017   \n",
      "\n",
      "       tp_8753   tp_8754   tp_8755   tp_8756   tp_8757   tp_8758   tp_8759  \n",
      "989   0.101534  0.101978  0.102421  0.103086  0.103530  0.104639  0.106412  \n",
      "686   2.501795  2.706195  2.956042  3.250005  3.499188  3.708908  3.933926  \n",
      "472   4.275997  4.279986  4.301712  4.309250  4.316344  4.325655  4.340731  \n",
      "3231  1.155902  1.170090  1.188713  1.216646  1.264753  1.313968  1.339241  \n",
      "3351  1.297120  1.355425  1.378702  1.389565  1.402424  1.421046  1.440111  \n",
      "...        ...       ...       ...       ...       ...       ...       ...  \n",
      "3268  0.362910  0.370890  0.375324  0.377763  0.381975  0.386631  0.389513  \n",
      "1559  0.127473  0.127694  0.128359  0.129024  0.130355  0.131685  0.134123  \n",
      "547   4.307477  4.312797  4.350041  4.354032  4.354697  4.355140  4.356470  \n",
      "3251  0.927559  0.939087  0.949507  0.965247  0.992515  1.021557  1.039514  \n",
      "228   4.236313  4.244738  4.253162  4.263360  4.281982  4.309472  4.329424  \n",
      "\n",
      "[681 rows x 17522 columns]\n"
     ]
    }
   ],
   "source": [
    "print(X_test)"
   ]
  },
  {
   "cell_type": "code",
   "execution_count": 8,
   "id": "bd1cd5df",
   "metadata": {},
   "outputs": [
    {
     "name": "stdout",
     "output_type": "stream",
     "text": [
      "      new_Lichen  new_N\n",
      "989     0.079881  253.0\n",
      "686     0.092609   46.0\n",
      "472     0.043143  140.0\n",
      "3231    0.082727   55.0\n",
      "3351    0.212667  165.0\n",
      "...          ...    ...\n",
      "3268    0.053333   12.0\n",
      "1559    0.030000    2.0\n",
      "547          NaN    NaN\n",
      "3251    0.106951   82.0\n",
      "228     0.067881  335.0\n",
      "\n",
      "[681 rows x 2 columns]\n"
     ]
    }
   ],
   "source": [
    "print(y_test)"
   ]
  },
  {
   "cell_type": "code",
   "execution_count": 9,
   "id": "404aa795",
   "metadata": {
    "tags": []
   },
   "outputs": [
    {
     "name": "stdout",
     "output_type": "stream",
     "text": [
      "Finished!\n"
     ]
    }
   ],
   "source": [
    "print('Finished!')"
   ]
  },
  {
   "cell_type": "code",
   "execution_count": null,
   "id": "e6cb6d53",
   "metadata": {},
   "outputs": [],
   "source": []
  },
  {
   "cell_type": "code",
   "execution_count": null,
   "id": "057a983d",
   "metadata": {},
   "outputs": [],
   "source": []
  }
 ],
 "metadata": {
  "kernelspec": {
   "display_name": "Python 3 (ipykernel)",
   "language": "python",
   "name": "python3"
  },
  "language_info": {
   "codemirror_mode": {
    "name": "ipython",
    "version": 3
   },
   "file_extension": ".py",
   "mimetype": "text/x-python",
   "name": "python",
   "nbconvert_exporter": "python",
   "pygments_lexer": "ipython3",
   "version": "3.8.10"
  }
 },
 "nbformat": 4,
 "nbformat_minor": 5
}

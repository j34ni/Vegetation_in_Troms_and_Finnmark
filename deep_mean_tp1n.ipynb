{
 "cells": [
  {
   "cell_type": "markdown",
   "id": "23454476",
   "metadata": {},
   "source": [
    "# Forecasting moss & lichen fractional cover mean\n",
    "## with a Neural Network using Keras\n",
    "## (Reading input and output files stored locally as .csv)\n",
    "## (Writing X_train, X_test, y_train, y_test locally as .csv too)\n",
    "#\n",
    "# For lichen output only"
   ]
  },
  {
   "cell_type": "code",
   "execution_count": 1,
   "id": "0b5dc13b",
   "metadata": {
    "tags": []
   },
   "outputs": [
    {
     "name": "stdout",
     "output_type": "stream",
     "text": [
      "Starting imports\n",
      "Finished imports\n"
     ]
    }
   ],
   "source": [
    "print('Starting imports')\n",
    "import numpy as np\n",
    "import os\n",
    "import pandas as pd\n",
    "from sklearn.model_selection import train_test_split\n",
    "print('Finished imports')"
   ]
  },
  {
   "cell_type": "code",
   "execution_count": 2,
   "id": "1f23e469",
   "metadata": {
    "tags": []
   },
   "outputs": [
    {
     "name": "stdout",
     "output_type": "stream",
     "text": [
      "Reading  /home/ubuntu/data/input_mean_tp1.csv\n",
      "Read\n",
      "Input\n",
      "Number of rows: 3,403\n",
      "Number of columns: 17522\n",
      "Reading  /home/ubuntu/data/output_mean_tp1.csv\n",
      "Read\n",
      "Output\n",
      "Number of rows: 3,403\n",
      "Number of columns: 2\n"
     ]
    }
   ],
   "source": [
    "# Reading local .csv files\n",
    "path = '/home/ubuntu/data/'\n",
    "input_file = os.path.join(path, 'input_mean_tp1.csv')\n",
    "print('Reading ', input_file)\n",
    "input = pd.read_csv(input_file)\n",
    "print('Read')\n",
    "\n",
    "print('Input')\n",
    "print(f'Number of rows: {input.shape[0]:,}')\n",
    "print(f'Number of columns: {input.shape[1]}')\n",
    "\n",
    "output_file = os.path.join(path, 'output_mean_tp1.csv')\n",
    "print('Reading ', output_file)\n",
    "output = pd.read_csv(output_file)\n",
    "print('Read')\n",
    "\n",
    "print('Output')\n",
    "print(f'Number of rows: {output.shape[0]:,}')\n",
    "print(f'Number of columns: {output.shape[1]}')"
   ]
  },
  {
   "cell_type": "code",
   "execution_count": 3,
   "id": "1f248863",
   "metadata": {
    "tags": []
   },
   "outputs": [],
   "source": [
    "# Split data into training and test sets, \n",
    "X_train, X_test, y_train, y_test = train_test_split(input, output, test_size = 0.2, random_state = 0, shuffle = True)"
   ]
  },
  {
   "cell_type": "code",
   "execution_count": 4,
   "id": "df3f7634",
   "metadata": {
    "tags": []
   },
   "outputs": [
    {
     "name": "stdout",
     "output_type": "stream",
     "text": [
      "X_train\n",
      "X_test\n",
      "y_train\n",
      "y_test\n"
     ]
    }
   ],
   "source": [
    "print('X_train')\n",
    "X_train\n",
    "X_train_file = os.path.join(path, 'X_mean_tp1_train.hdf')\n",
    "X_train.to_hdf(X_train_file, key='df', mode=\"w\", index=False)\n",
    "\n",
    "print('X_test')\n",
    "X_test\n",
    "X_test_file = os.path.join(path, 'X_mean_tp1_test.hdf')\n",
    "X_test.to_hdf(X_test_file, key='df', mode=\"w\",  index=False)\n",
    "\n",
    "print('y_train')\n",
    "y_train\n",
    "y_train_file = os.path.join(path, 'y_mean_tp1_train.hdf')\n",
    "y_train.to_hdf(y_train_file, key='dg', mode=\"w\", index=False)\n",
    "\n",
    "print('y_test')\n",
    "y_test \n",
    "y_test_file = os.path.join(path, 'y_mean_tp1_test.hdf')\n",
    "y_test.to_hdf(y_test_file, key='dg', mode=\"w\", index=False)"
   ]
  },
  {
   "cell_type": "code",
   "execution_count": 5,
   "id": "9d796318",
   "metadata": {
    "tags": []
   },
   "outputs": [
    {
     "name": "stdout",
     "output_type": "stream",
     "text": [
      "      Lichen_mean     N     t2m_0     t2m_1     t2m_2     t2m_3     t2m_4  \\\n",
      "989      0.032000   326  0.974211  0.974451  0.975101  0.975740  0.977355   \n",
      "686      0.010000    31  0.992161  0.992359  0.992246  0.991846  0.991323   \n",
      "472      0.010000   309  0.992437  0.992459  0.992048  0.991194  0.989978   \n",
      "3231     0.100741    98  0.963044  0.962715  0.962194  0.961530  0.960738   \n",
      "3351     0.032615   166  0.973368  0.973146  0.972325  0.970736  0.968560   \n",
      "...           ...   ...       ...       ...       ...       ...       ...   \n",
      "3268     0.095000     4  0.972667  0.972234  0.971994  0.970967  0.969105   \n",
      "1559     0.236456    79  0.996371  0.995556  0.995155  0.994225  0.993548   \n",
      "547      0.157437    30  0.981318  0.981702  0.982099  0.981726  0.980339   \n",
      "3251     0.146433  1082  0.970849  0.970481  0.970111  0.969627  0.968424   \n",
      "228      0.020000     1  0.994387  0.994085  0.993521  0.993071  0.992228   \n",
      "\n",
      "         t2m_5     t2m_6     t2m_7  ...   tp_8750   tp_8751   tp_8752  \\\n",
      "989   0.979640  0.980584  0.982842  ...  1.299115  1.299559  1.299780   \n",
      "686   0.990448  0.989199  0.989388  ...  3.111004  3.118098  3.122533   \n",
      "472   0.988547  0.987202  0.987335  ...  3.150466  3.158446  3.160442   \n",
      "3231  0.961544  0.964333  0.974477  ...  0.188216  0.209055  0.223465   \n",
      "3351  0.966793  0.965049  0.967856  ...  0.021060  0.026159  0.029485   \n",
      "...        ...       ...       ...  ...       ...       ...       ...   \n",
      "3268  0.968422  0.968509  0.973758  ...  0.141883  0.145651  0.148090   \n",
      "1559  0.992696  0.992037  0.991787  ...  0.358697  0.358919  0.359806   \n",
      "547   0.979487  0.979776  0.981655  ...  7.494743  7.870512  8.055181   \n",
      "3251  0.967415  0.967137  0.970206  ...  2.124475  2.300720  2.508224   \n",
      "228   0.991307  0.989486  0.988159  ...  3.082406  3.866753  4.091548   \n",
      "\n",
      "       tp_8753   tp_8754   tp_8755   tp_8756   tp_8757   tp_8758   tp_8759  \n",
      "989   1.300002  1.300002  1.300224  1.300224  1.300224  1.300224  1.300446  \n",
      "686   3.123198  3.123198  3.123419  3.123863  3.125414  3.129627  3.136721  \n",
      "472   3.160442  3.160442  3.160442  3.160442  3.160664  3.161328  3.163545  \n",
      "3231  0.236102  0.248517  0.258936  0.282879  0.306600  0.324335  0.337193  \n",
      "3351  0.032810  0.035249  0.037244  0.039461  0.041456  0.043229  0.044338  \n",
      "...        ...       ...       ...       ...       ...       ...       ...  \n",
      "3268  0.149420  0.150528  0.150972  0.152302  0.154297  0.158066  0.160504  \n",
      "1559  0.360028  0.360693  0.360914  0.361358  0.362245  0.363131  0.364018  \n",
      "547   8.210588  8.402129  8.491693  8.574605  8.635127  8.688777  8.742869  \n",
      "3251  2.736788  2.994394  3.139603  3.249119  3.405855  3.487437  3.641514  \n",
      "228   4.158056  4.180004  4.322773  4.389281  4.424752  4.439162  4.450912  \n",
      "\n",
      "[681 rows x 17522 columns]\n"
     ]
    }
   ],
   "source": [
    "print(X_test)"
   ]
  },
  {
   "cell_type": "code",
   "execution_count": 6,
   "id": "8059abdc",
   "metadata": {
    "tags": []
   },
   "outputs": [
    {
     "name": "stdout",
     "output_type": "stream",
     "text": [
      "Finished!\n"
     ]
    }
   ],
   "source": [
    "print('Finished!')"
   ]
  },
  {
   "cell_type": "code",
   "execution_count": null,
   "id": "6342744b",
   "metadata": {},
   "outputs": [],
   "source": []
  }
 ],
 "metadata": {
  "kernelspec": {
   "display_name": "Python 3 (ipykernel)",
   "language": "python",
   "name": "python3"
  },
  "language_info": {
   "codemirror_mode": {
    "name": "ipython",
    "version": 3
   },
   "file_extension": ".py",
   "mimetype": "text/x-python",
   "name": "python",
   "nbconvert_exporter": "python",
   "pygments_lexer": "ipython3",
   "version": "3.10.9"
  }
 },
 "nbformat": 4,
 "nbformat_minor": 5
}

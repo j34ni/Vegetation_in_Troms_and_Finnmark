{
 "cells": [
  {
   "cell_type": "markdown",
   "id": "ebda7988-9931-4f00-93b4-e3877066f742",
   "metadata": {},
   "source": [
    "# Forecasting moss & lichen fractional cover mean\n",
    "## with a Neural Network using Keras\n",
    "## (Reading input and output files stored locally as .csv)\n",
    "## (Writing X_train, X_test, y_train, y_test locally as .csv too)\n",
    "#\n",
    "# For lichen output only"
   ]
  },
  {
   "cell_type": "code",
   "execution_count": 1,
   "id": "5baa0fb0-0f66-4d52-9a68-c5fe600050b2",
   "metadata": {},
   "outputs": [
    {
     "name": "stdout",
     "output_type": "stream",
     "text": [
      "Starting imports\n",
      "Finished imports\n"
     ]
    }
   ],
   "source": [
    "print('Starting imports')\n",
    "import numpy as np\n",
    "import os\n",
    "import pandas as pd\n",
    "from sklearn.model_selection import train_test_split\n",
    "print('Finished imports')"
   ]
  },
  {
   "cell_type": "code",
   "execution_count": 2,
   "id": "e8a2b848-4334-4efe-af09-31f436ba527e",
   "metadata": {},
   "outputs": [
    {
     "name": "stdout",
     "output_type": "stream",
     "text": [
      "Reading  /home/jovyan/Arctic/Vegetation_in_Troms_and_Finnmark/data/input_mean_tp4.csv\n",
      "Read\n",
      "Input\n",
      "Number of rows: 3,035\n",
      "Number of columns: 17522\n",
      "Reading  /home/jovyan/Arctic/Vegetation_in_Troms_and_Finnmark/data/output_mean_tp4.csv\n",
      "Read\n",
      "Output\n",
      "Number of rows: 3,035\n",
      "Number of columns: 2\n"
     ]
    }
   ],
   "source": [
    "# Reading local .csv files\n",
    "path = '/home/jovyan/Arctic/Vegetation_in_Troms_and_Finnmark/data/'\n",
    "input_file = os.path.join(path, 'input_mean_tp4.csv')\n",
    "print('Reading ', input_file)\n",
    "input = pd.read_csv(input_file)\n",
    "print('Read')\n",
    "\n",
    "print('Input')\n",
    "print(f'Number of rows: {input.shape[0]:,}')\n",
    "print(f'Number of columns: {input.shape[1]}')\n",
    "\n",
    "output_file = os.path.join(path, 'output_mean_tp4.csv')\n",
    "print('Reading ', output_file)\n",
    "output = pd.read_csv(output_file)\n",
    "print('Read')\n",
    "\n",
    "print('Output')\n",
    "print(f'Number of rows: {output.shape[0]:,}')\n",
    "print(f'Number of columns: {output.shape[1]}')"
   ]
  },
  {
   "cell_type": "code",
   "execution_count": 3,
   "id": "27e5a719-f240-47a0-8997-175c8c93dd31",
   "metadata": {},
   "outputs": [],
   "source": [
    "# Split data into training and test sets, \n",
    "X_train, X_test, y_train, y_test = train_test_split(input, output, test_size = 0.2, random_state = 0, shuffle = True)"
   ]
  },
  {
   "cell_type": "code",
   "execution_count": 4,
   "id": "dbbe284b-d573-429f-a35b-2b9af4979bfa",
   "metadata": {},
   "outputs": [
    {
     "name": "stdout",
     "output_type": "stream",
     "text": [
      "X_train\n",
      "X_test\n",
      "y_train\n",
      "y_test\n"
     ]
    }
   ],
   "source": [
    "print('X_train')\n",
    "X_train\n",
    "X_train_file = os.path.join(path, 'X_mean_tp4_train.hdf')\n",
    "X_train.to_hdf(X_train_file, key='df', mode=\"w\", index=False)\n",
    "\n",
    "print('X_test')\n",
    "X_test\n",
    "X_test_file = os.path.join(path, 'X_mean_tp4_test.hdf')\n",
    "X_test.to_hdf(X_test_file, key='df', mode=\"w\",  index=False)\n",
    "\n",
    "print('y_train')\n",
    "y_train\n",
    "y_train_file = os.path.join(path, 'y_mean_tp4_train.hdf')\n",
    "y_train.to_hdf(y_train_file, key='dg', mode=\"w\", index=False)\n",
    "\n",
    "print('y_test')\n",
    "y_test \n",
    "y_test_file = os.path.join(path, 'y_mean_tp4_test.hdf')\n",
    "y_test.to_hdf(y_test_file, key='dg', mode=\"w\", index=False)"
   ]
  },
  {
   "cell_type": "code",
   "execution_count": 6,
   "id": "9253e93b-37b6-4ef8-a99e-1ee414f23e86",
   "metadata": {},
   "outputs": [
    {
     "name": "stdout",
     "output_type": "stream",
     "text": [
      "      Lichen_mean    N     t2m_0     t2m_1     t2m_2     t2m_3     t2m_4  \\\n",
      "480      0.150257  817  0.979354  0.978074  0.977322  0.977972  0.979075   \n",
      "2319     0.066900  329  0.960803  0.961555  0.962225  0.963008  0.963441   \n",
      "2491     0.036944  154  0.957783  0.957283  0.957472  0.958240  0.958178   \n",
      "1191     0.010000    3  0.974440  0.974557  0.975012  0.975367  0.976747   \n",
      "572      0.048235   32  0.991143  0.991296  0.991283  0.991052  0.990784   \n",
      "...           ...  ...       ...       ...       ...       ...       ...   \n",
      "921      0.044634   41  0.977089  0.976641  0.976516  0.975558  0.976248   \n",
      "683      0.018068   88  0.978609  0.977706  0.977162  0.978638  0.979130   \n",
      "1827     0.066383   64  0.981500  0.980475  0.979157  0.977402  0.975780   \n",
      "507      0.010000   12  0.995348  0.994777  0.994074  0.993140  0.991849   \n",
      "1677     0.021562   32  0.979991  0.982816  0.984500  0.985354  0.986663   \n",
      "\n",
      "         t2m_5     t2m_6     t2m_7  ...   tp_8750   tp_8751   tp_8752  \\\n",
      "480   0.980464  0.981191  0.980925  ...  5.689726  5.902551  6.033792   \n",
      "2319  0.963168  0.962942  0.964774  ...  0.344287  0.376211  0.409022   \n",
      "2491  0.958080  0.958051  0.961950  ...  1.466271  1.650054  1.823860   \n",
      "1191  0.978875  0.980120  0.982682  ...  1.350769  1.351213  1.351656   \n",
      "572   0.990140  0.989055  0.989437  ...  3.150687  3.161328  3.166206   \n",
      "...        ...       ...       ...  ...       ...       ...       ...   \n",
      "921   0.977031  0.979179  0.983211  ...  1.691289  1.691289  1.691289   \n",
      "683   0.979317  0.979751  0.980370  ...  0.103530  0.103530  0.103973   \n",
      "1827  0.974626  0.973989  0.974763  ...  1.525463  1.529897  1.534330   \n",
      "507   0.991385  0.989721  0.989321  ...  1.218641  2.028926  2.558991   \n",
      "1677  0.986679  0.987318  0.987699  ...  0.045003  0.045890  0.052319   \n",
      "\n",
      "       tp_8753   tp_8754   tp_8755   tp_8756   tp_8757   tp_8758   tp_8759  \n",
      "480   6.196958  6.362340  6.401358  6.468309  6.518633  6.536812  6.545015  \n",
      "2319  0.442497  0.468657  0.484397  0.494373  0.501024  0.506123  0.509448  \n",
      "2491  1.976385  2.112503  2.250174  2.363016  2.449254  2.523521  2.569189  \n",
      "1191  1.351656  1.351656  1.351878  1.352099  1.352099  1.352099  1.352321  \n",
      "572   3.167536  3.167758  3.168201  3.168644  3.170418  3.174852  3.181724  \n",
      "...        ...       ...       ...       ...       ...       ...       ...  \n",
      "921   1.691289  1.691289  1.691289  1.691289  1.691289  1.691510  1.691510  \n",
      "683   0.104195  0.104639  0.104860  0.105082  0.105082  0.105304  0.105968  \n",
      "1827  1.540538  1.546745  1.547854  1.548962  1.550514  1.552953  1.558495  \n",
      "507   2.762283  2.860049  3.031417  3.261312  3.517366  3.693168  3.835494  \n",
      "1677  0.079365  0.147425  0.329656  0.614752  0.913149  1.151912  1.347222  \n",
      "\n",
      "[607 rows x 17522 columns]\n"
     ]
    }
   ],
   "source": [
    "print(X_test)"
   ]
  },
  {
   "cell_type": "code",
   "execution_count": 5,
   "id": "3dacf4de-859e-4c05-b814-bd05d90901f0",
   "metadata": {},
   "outputs": [
    {
     "name": "stdout",
     "output_type": "stream",
     "text": [
      "Finished!\n"
     ]
    }
   ],
   "source": [
    "print('Finished!')"
   ]
  },
  {
   "cell_type": "code",
   "execution_count": null,
   "id": "b7dbdc6a-1ce1-4fac-ad47-06f95dd3cd4b",
   "metadata": {},
   "outputs": [],
   "source": []
  }
 ],
 "metadata": {
  "kernelspec": {
   "display_name": "Python 3 (ipykernel)",
   "language": "python",
   "name": "python3"
  },
  "language_info": {
   "codemirror_mode": {
    "name": "ipython",
    "version": 3
   },
   "file_extension": ".py",
   "mimetype": "text/x-python",
   "name": "python",
   "nbconvert_exporter": "python",
   "pygments_lexer": "ipython3",
   "version": "3.9.13"
  }
 },
 "nbformat": 4,
 "nbformat_minor": 5
}

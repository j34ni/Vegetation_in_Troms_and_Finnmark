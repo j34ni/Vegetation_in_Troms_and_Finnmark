{
 "cells": [
  {
   "cell_type": "code",
   "execution_count": 28,
   "id": "45e0a6e4-dde7-4b73-a539-b19eed42beac",
   "metadata": {},
   "outputs": [],
   "source": [
    "import glob\n",
    "import numpy as np\n",
    "import os\n",
    "import pandas as pd\n",
    "from sklearn.model_selection import train_test_split\n",
    "import vaex"
   ]
  },
  {
   "cell_type": "markdown",
   "id": "05621b23-5bcb-4ace-8f70-93f6d9cd15a5",
   "metadata": {},
   "source": [
    "## Merge separate .csv files into input & output"
   ]
  },
  {
   "cell_type": "markdown",
   "id": "3f6d53be-273c-4a6a-a385-91ac20ffb986",
   "metadata": {},
   "source": [
    "# Input"
   ]
  },
  {
   "cell_type": "code",
   "execution_count": 31,
   "id": "c4a0706f-7465-4fc4-9def-dbfce19e5cf3",
   "metadata": {},
   "outputs": [
    {
     "data": {
      "text/plain": [
       "['/home/jovyan//Arctic/Vegetation_in_Troms_and_Finnmark/data/x_2015.csv',\n",
       " '/home/jovyan//Arctic/Vegetation_in_Troms_and_Finnmark/data/x_2016.csv',\n",
       " '/home/jovyan//Arctic/Vegetation_in_Troms_and_Finnmark/data/x_2017.csv',\n",
       " '/home/jovyan//Arctic/Vegetation_in_Troms_and_Finnmark/data/x_2018.csv',\n",
       " '/home/jovyan//Arctic/Vegetation_in_Troms_and_Finnmark/data/x_2019.csv']"
      ]
     },
     "execution_count": 31,
     "metadata": {},
     "output_type": "execute_result"
    }
   ],
   "source": [
    "path = '/home/jovyan//Arctic/Vegetation_in_Troms_and_Finnmark/data/'\n",
    "filename = 'x*.csv'\n",
    "csv_file_list =  glob.glob(os.path.join(path, filename))\n",
    "csv_file_list.sort()\n",
    "csv_file_list"
   ]
  },
  {
   "cell_type": "code",
   "execution_count": 32,
   "id": "11f26509-3ee8-45e5-a716-66ea31ffacdb",
   "metadata": {},
   "outputs": [],
   "source": [
    "chunksize = 1000000\n",
    "input_file = './input.csv'\n",
    "\n",
    "for csv_file_name in csv_file_list:\n",
    "    chunk_container = pd.read_csv(csv_file_name, chunksize=chunksize)\n",
    "    for chunk in chunk_container:\n",
    "        chunk.to_csv(input_file, mode=\"a\", index=False)"
   ]
  },
  {
   "cell_type": "markdown",
   "id": "c36f1136-04fb-4e97-abe4-3b616f62b6b1",
   "metadata": {},
   "source": [
    "# Output"
   ]
  },
  {
   "cell_type": "code",
   "execution_count": 35,
   "id": "6fd9b457-b4b0-4551-ab70-0228cd7658e6",
   "metadata": {},
   "outputs": [
    {
     "data": {
      "text/plain": [
       "['/home/jovyan//Arctic/Vegetation_in_Troms_and_Finnmark/data/y_2015.csv',\n",
       " '/home/jovyan//Arctic/Vegetation_in_Troms_and_Finnmark/data/y_2016.csv',\n",
       " '/home/jovyan//Arctic/Vegetation_in_Troms_and_Finnmark/data/y_2017.csv',\n",
       " '/home/jovyan//Arctic/Vegetation_in_Troms_and_Finnmark/data/y_2018.csv',\n",
       " '/home/jovyan//Arctic/Vegetation_in_Troms_and_Finnmark/data/y_2019.csv']"
      ]
     },
     "execution_count": 35,
     "metadata": {},
     "output_type": "execute_result"
    }
   ],
   "source": [
    "path = '/home/jovyan//Arctic/Vegetation_in_Troms_and_Finnmark/data/'\n",
    "filename = 'y*.csv'\n",
    "csv_file_list =  glob.glob(os.path.join(path, filename))\n",
    "csv_file_list.sort()\n",
    "csv_file_list"
   ]
  },
  {
   "cell_type": "code",
   "execution_count": 36,
   "id": "eea3f873-74de-44cb-8c74-f0dccde800eb",
   "metadata": {},
   "outputs": [],
   "source": [
    "chunksize = 1000000\n",
    "input_file = './output.csv'\n",
    "\n",
    "for csv_file_name in csv_file_list:\n",
    "    chunk_container = pd.read_csv(csv_file_name, chunksize=chunksize)\n",
    "    for chunk in chunk_container:\n",
    "        chunk.to_csv(input_file, mode=\"a\", index=False)"
   ]
  },
  {
   "cell_type": "markdown",
   "id": "51f119fd-4036-482f-86d4-498c44de1b52",
   "metadata": {},
   "source": [
    "## Read input & output files as pandas"
   ]
  },
  {
   "cell_type": "code",
   "execution_count": 48,
   "id": "409d07fe-c61f-4beb-99cb-e016b0f42086",
   "metadata": {},
   "outputs": [
    {
     "ename": "ParserError",
     "evalue": "Error tokenizing data. C error: Calling read(nbytes) on source failed. Try engine='python'.",
     "output_type": "error",
     "traceback": [
      "\u001b[0;31m---------------------------------------------------------------------------\u001b[0m",
      "\u001b[0;31mParserError\u001b[0m                               Traceback (most recent call last)",
      "Input \u001b[0;32mIn [48]\u001b[0m, in \u001b[0;36m<cell line: 2>\u001b[0;34m()\u001b[0m\n\u001b[1;32m      1\u001b[0m \u001b[38;5;66;03m# Reading input.csv file\u001b[39;00m\n\u001b[0;32m----> 2\u001b[0m \u001b[38;5;28minput\u001b[39m \u001b[38;5;241m=\u001b[39m \u001b[43mpd\u001b[49m\u001b[38;5;241;43m.\u001b[39;49m\u001b[43mread_csv\u001b[49m\u001b[43m(\u001b[49m\u001b[38;5;124;43mf\u001b[39;49m\u001b[38;5;124;43m'\u001b[39;49m\u001b[38;5;124;43m./input.csv\u001b[39;49m\u001b[38;5;124;43m'\u001b[39;49m\u001b[43m)\u001b[49m\n",
      "File \u001b[0;32m/srv/conda/envs/notebook/lib/python3.9/site-packages/pandas/util/_decorators.py:311\u001b[0m, in \u001b[0;36mdeprecate_nonkeyword_arguments.<locals>.decorate.<locals>.wrapper\u001b[0;34m(*args, **kwargs)\u001b[0m\n\u001b[1;32m    305\u001b[0m \u001b[38;5;28;01mif\u001b[39;00m \u001b[38;5;28mlen\u001b[39m(args) \u001b[38;5;241m>\u001b[39m num_allow_args:\n\u001b[1;32m    306\u001b[0m     warnings\u001b[38;5;241m.\u001b[39mwarn(\n\u001b[1;32m    307\u001b[0m         msg\u001b[38;5;241m.\u001b[39mformat(arguments\u001b[38;5;241m=\u001b[39marguments),\n\u001b[1;32m    308\u001b[0m         \u001b[38;5;167;01mFutureWarning\u001b[39;00m,\n\u001b[1;32m    309\u001b[0m         stacklevel\u001b[38;5;241m=\u001b[39mstacklevel,\n\u001b[1;32m    310\u001b[0m     )\n\u001b[0;32m--> 311\u001b[0m \u001b[38;5;28;01mreturn\u001b[39;00m \u001b[43mfunc\u001b[49m\u001b[43m(\u001b[49m\u001b[38;5;241;43m*\u001b[39;49m\u001b[43margs\u001b[49m\u001b[43m,\u001b[49m\u001b[43m \u001b[49m\u001b[38;5;241;43m*\u001b[39;49m\u001b[38;5;241;43m*\u001b[39;49m\u001b[43mkwargs\u001b[49m\u001b[43m)\u001b[49m\n",
      "File \u001b[0;32m/srv/conda/envs/notebook/lib/python3.9/site-packages/pandas/io/parsers/readers.py:680\u001b[0m, in \u001b[0;36mread_csv\u001b[0;34m(filepath_or_buffer, sep, delimiter, header, names, index_col, usecols, squeeze, prefix, mangle_dupe_cols, dtype, engine, converters, true_values, false_values, skipinitialspace, skiprows, skipfooter, nrows, na_values, keep_default_na, na_filter, verbose, skip_blank_lines, parse_dates, infer_datetime_format, keep_date_col, date_parser, dayfirst, cache_dates, iterator, chunksize, compression, thousands, decimal, lineterminator, quotechar, quoting, doublequote, escapechar, comment, encoding, encoding_errors, dialect, error_bad_lines, warn_bad_lines, on_bad_lines, delim_whitespace, low_memory, memory_map, float_precision, storage_options)\u001b[0m\n\u001b[1;32m    665\u001b[0m kwds_defaults \u001b[38;5;241m=\u001b[39m _refine_defaults_read(\n\u001b[1;32m    666\u001b[0m     dialect,\n\u001b[1;32m    667\u001b[0m     delimiter,\n\u001b[0;32m   (...)\u001b[0m\n\u001b[1;32m    676\u001b[0m     defaults\u001b[38;5;241m=\u001b[39m{\u001b[38;5;124m\"\u001b[39m\u001b[38;5;124mdelimiter\u001b[39m\u001b[38;5;124m\"\u001b[39m: \u001b[38;5;124m\"\u001b[39m\u001b[38;5;124m,\u001b[39m\u001b[38;5;124m\"\u001b[39m},\n\u001b[1;32m    677\u001b[0m )\n\u001b[1;32m    678\u001b[0m kwds\u001b[38;5;241m.\u001b[39mupdate(kwds_defaults)\n\u001b[0;32m--> 680\u001b[0m \u001b[38;5;28;01mreturn\u001b[39;00m \u001b[43m_read\u001b[49m\u001b[43m(\u001b[49m\u001b[43mfilepath_or_buffer\u001b[49m\u001b[43m,\u001b[49m\u001b[43m \u001b[49m\u001b[43mkwds\u001b[49m\u001b[43m)\u001b[49m\n",
      "File \u001b[0;32m/srv/conda/envs/notebook/lib/python3.9/site-packages/pandas/io/parsers/readers.py:581\u001b[0m, in \u001b[0;36m_read\u001b[0;34m(filepath_or_buffer, kwds)\u001b[0m\n\u001b[1;32m    578\u001b[0m     \u001b[38;5;28;01mreturn\u001b[39;00m parser\n\u001b[1;32m    580\u001b[0m \u001b[38;5;28;01mwith\u001b[39;00m parser:\n\u001b[0;32m--> 581\u001b[0m     \u001b[38;5;28;01mreturn\u001b[39;00m \u001b[43mparser\u001b[49m\u001b[38;5;241;43m.\u001b[39;49m\u001b[43mread\u001b[49m\u001b[43m(\u001b[49m\u001b[43mnrows\u001b[49m\u001b[43m)\u001b[49m\n",
      "File \u001b[0;32m/srv/conda/envs/notebook/lib/python3.9/site-packages/pandas/io/parsers/readers.py:1255\u001b[0m, in \u001b[0;36mTextFileReader.read\u001b[0;34m(self, nrows)\u001b[0m\n\u001b[1;32m   1253\u001b[0m nrows \u001b[38;5;241m=\u001b[39m validate_integer(\u001b[38;5;124m\"\u001b[39m\u001b[38;5;124mnrows\u001b[39m\u001b[38;5;124m\"\u001b[39m, nrows)\n\u001b[1;32m   1254\u001b[0m \u001b[38;5;28;01mtry\u001b[39;00m:\n\u001b[0;32m-> 1255\u001b[0m     index, columns, col_dict \u001b[38;5;241m=\u001b[39m \u001b[38;5;28;43mself\u001b[39;49m\u001b[38;5;241;43m.\u001b[39;49m\u001b[43m_engine\u001b[49m\u001b[38;5;241;43m.\u001b[39;49m\u001b[43mread\u001b[49m\u001b[43m(\u001b[49m\u001b[43mnrows\u001b[49m\u001b[43m)\u001b[49m\n\u001b[1;32m   1256\u001b[0m \u001b[38;5;28;01mexcept\u001b[39;00m \u001b[38;5;167;01mException\u001b[39;00m:\n\u001b[1;32m   1257\u001b[0m     \u001b[38;5;28mself\u001b[39m\u001b[38;5;241m.\u001b[39mclose()\n",
      "File \u001b[0;32m/srv/conda/envs/notebook/lib/python3.9/site-packages/pandas/io/parsers/c_parser_wrapper.py:225\u001b[0m, in \u001b[0;36mCParserWrapper.read\u001b[0;34m(self, nrows)\u001b[0m\n\u001b[1;32m    223\u001b[0m \u001b[38;5;28;01mtry\u001b[39;00m:\n\u001b[1;32m    224\u001b[0m     \u001b[38;5;28;01mif\u001b[39;00m \u001b[38;5;28mself\u001b[39m\u001b[38;5;241m.\u001b[39mlow_memory:\n\u001b[0;32m--> 225\u001b[0m         chunks \u001b[38;5;241m=\u001b[39m \u001b[38;5;28;43mself\u001b[39;49m\u001b[38;5;241;43m.\u001b[39;49m\u001b[43m_reader\u001b[49m\u001b[38;5;241;43m.\u001b[39;49m\u001b[43mread_low_memory\u001b[49m\u001b[43m(\u001b[49m\u001b[43mnrows\u001b[49m\u001b[43m)\u001b[49m\n\u001b[1;32m    226\u001b[0m         \u001b[38;5;66;03m# destructive to chunks\u001b[39;00m\n\u001b[1;32m    227\u001b[0m         data \u001b[38;5;241m=\u001b[39m _concatenate_chunks(chunks)\n",
      "File \u001b[0;32m/srv/conda/envs/notebook/lib/python3.9/site-packages/pandas/_libs/parsers.pyx:805\u001b[0m, in \u001b[0;36mpandas._libs.parsers.TextReader.read_low_memory\u001b[0;34m()\u001b[0m\n",
      "File \u001b[0;32m/srv/conda/envs/notebook/lib/python3.9/site-packages/pandas/_libs/parsers.pyx:861\u001b[0m, in \u001b[0;36mpandas._libs.parsers.TextReader._read_rows\u001b[0;34m()\u001b[0m\n",
      "File \u001b[0;32m/srv/conda/envs/notebook/lib/python3.9/site-packages/pandas/_libs/parsers.pyx:847\u001b[0m, in \u001b[0;36mpandas._libs.parsers.TextReader._tokenize_rows\u001b[0;34m()\u001b[0m\n",
      "File \u001b[0;32m/srv/conda/envs/notebook/lib/python3.9/site-packages/pandas/_libs/parsers.pyx:1960\u001b[0m, in \u001b[0;36mpandas._libs.parsers.raise_parser_error\u001b[0;34m()\u001b[0m\n",
      "\u001b[0;31mParserError\u001b[0m: Error tokenizing data. C error: Calling read(nbytes) on source failed. Try engine='python'."
     ]
    }
   ],
   "source": [
    "# Reading input.csv file\n",
    "input = pd.read_csv(f'./input.csv')"
   ]
  },
  {
   "cell_type": "code",
   "execution_count": 4,
   "id": "f8073881-f544-42f8-bac1-84af2e3ca0ec",
   "metadata": {},
   "outputs": [
    {
     "name": "stdout",
     "output_type": "stream",
     "text": [
      "Number of rows: 139,765\n",
      "Number of columns: 4376\n"
     ]
    }
   ],
   "source": [
    "print('Input')\n",
    "print(f'Number of rows: {input.shape[0]:,}')\n",
    "print(f'Number of columns: {input.shape[1]}')"
   ]
  },
  {
   "cell_type": "code",
   "execution_count": 5,
   "id": "c2161855-cd05-4105-bdeb-ecae4b863a8d",
   "metadata": {},
   "outputs": [],
   "source": [
    "input = input.drop(columns = ['lon', 'lat'])"
   ]
  },
  {
   "cell_type": "code",
   "execution_count": 7,
   "id": "1d58e6e3-1cc8-43c4-b375-06d28b25ed8b",
   "metadata": {},
   "outputs": [
    {
     "data": {
      "text/html": [
       "<table>\n",
       "<thead>\n",
       "<tr><th>#                            </th><th style=\"text-align: right;\">  Bare</th><th style=\"text-align: right;\">  Grass</th><th style=\"text-align: right;\">  Lichen</th><th style=\"text-align: right;\">  Shrub</th><th style=\"text-align: right;\">  Tree</th><th style=\"text-align: right;\">  2016-01-01 00:00:00</th><th style=\"text-align: right;\">  2016-01-01 01:00:00</th></tr>\n",
       "</thead>\n",
       "<tbody>\n",
       "<tr><td><i style='opacity: 0.6'>0</i></td><td style=\"text-align: right;\">  0.2 </td><td style=\"text-align: right;\">   0.48</td><td style=\"text-align: right;\">    0.24</td><td style=\"text-align: right;\">   0.08</td><td style=\"text-align: right;\">  0   </td><td style=\"text-align: right;\">              0.213  </td><td style=\"text-align: right;\">             0.191661</td></tr>\n",
       "<tr><td><i style='opacity: 0.6'>1</i></td><td style=\"text-align: right;\">  0.23</td><td style=\"text-align: right;\">   0.58</td><td style=\"text-align: right;\">    0.19</td><td style=\"text-align: right;\">   0   </td><td style=\"text-align: right;\">  0   </td><td style=\"text-align: right;\">              0.213  </td><td style=\"text-align: right;\">             0.191661</td></tr>\n",
       "<tr><td><i style='opacity: 0.6'>2</i></td><td style=\"text-align: right;\">  0.07</td><td style=\"text-align: right;\">   0.58</td><td style=\"text-align: right;\">    0.25</td><td style=\"text-align: right;\">   0.1 </td><td style=\"text-align: right;\">  0   </td><td style=\"text-align: right;\">              0.213  </td><td style=\"text-align: right;\">             0.191661</td></tr>\n",
       "<tr><td><i style='opacity: 0.6'>3</i></td><td style=\"text-align: right;\">  0.35</td><td style=\"text-align: right;\">   0.34</td><td style=\"text-align: right;\">    0.31</td><td style=\"text-align: right;\">   0   </td><td style=\"text-align: right;\">  0   </td><td style=\"text-align: right;\">              0.33968</td><td style=\"text-align: right;\">             0.311515</td></tr>\n",
       "<tr><td><i style='opacity: 0.6'>4</i></td><td style=\"text-align: right;\">  0   </td><td style=\"text-align: right;\">   0.31</td><td style=\"text-align: right;\">    0.01</td><td style=\"text-align: right;\">   0.21</td><td style=\"text-align: right;\">  0.47</td><td style=\"text-align: right;\">              0.33968</td><td style=\"text-align: right;\">             0.311515</td></tr>\n",
       "<tr><td><i style='opacity: 0.6'>5</i></td><td style=\"text-align: right;\">  0.15</td><td style=\"text-align: right;\">   0.54</td><td style=\"text-align: right;\">    0.31</td><td style=\"text-align: right;\">   0   </td><td style=\"text-align: right;\">  0   </td><td style=\"text-align: right;\">              0.213  </td><td style=\"text-align: right;\">             0.191661</td></tr>\n",
       "<tr><td><i style='opacity: 0.6'>6</i></td><td style=\"text-align: right;\">  0.07</td><td style=\"text-align: right;\">   0.58</td><td style=\"text-align: right;\">    0.25</td><td style=\"text-align: right;\">   0.1 </td><td style=\"text-align: right;\">  0   </td><td style=\"text-align: right;\">              0.213  </td><td style=\"text-align: right;\">             0.191661</td></tr>\n",
       "<tr><td><i style='opacity: 0.6'>7</i></td><td style=\"text-align: right;\">  0.35</td><td style=\"text-align: right;\">   0.34</td><td style=\"text-align: right;\">    0.31</td><td style=\"text-align: right;\">   0   </td><td style=\"text-align: right;\">  0   </td><td style=\"text-align: right;\">              0.33968</td><td style=\"text-align: right;\">             0.311515</td></tr>\n",
       "<tr><td><i style='opacity: 0.6'>8</i></td><td style=\"text-align: right;\">  0.15</td><td style=\"text-align: right;\">   0.54</td><td style=\"text-align: right;\">    0.31</td><td style=\"text-align: right;\">   0   </td><td style=\"text-align: right;\">  0   </td><td style=\"text-align: right;\">              0.213  </td><td style=\"text-align: right;\">             0.191661</td></tr>\n",
       "<tr><td><i style='opacity: 0.6'>9</i></td><td style=\"text-align: right;\">  0.07</td><td style=\"text-align: right;\">   0.58</td><td style=\"text-align: right;\">    0.25</td><td style=\"text-align: right;\">   0.1 </td><td style=\"text-align: right;\">  0   </td><td style=\"text-align: right;\">              0.213  </td><td style=\"text-align: right;\">             0.191661</td></tr>\n",
       "</tbody>\n",
       "</table>"
      ],
      "text/plain": [
       "  #    Bare    Grass    Lichen    Shrub    Tree    2016-01-01 00:00:00    2016-01-01 01:00:00\n",
       "  0    0.2      0.48      0.24     0.08    0                   0.213                 0.191661\n",
       "  1    0.23     0.58      0.19     0       0                   0.213                 0.191661\n",
       "  2    0.07     0.58      0.25     0.1     0                   0.213                 0.191661\n",
       "  3    0.35     0.34      0.31     0       0                   0.33968               0.311515\n",
       "  4    0        0.31      0.01     0.21    0.47                0.33968               0.311515\n",
       "  5    0.15     0.54      0.31     0       0                   0.213                 0.191661\n",
       "  6    0.07     0.58      0.25     0.1     0                   0.213                 0.191661\n",
       "  7    0.35     0.34      0.31     0       0                   0.33968               0.311515\n",
       "  8    0.15     0.54      0.31     0       0                   0.213                 0.191661\n",
       "  9    0.07     0.58      0.25     0.1     0                   0.213                 0.191661"
      ]
     },
     "execution_count": 7,
     "metadata": {},
     "output_type": "execute_result"
    }
   ],
   "source": [
    "input.head()"
   ]
  },
  {
   "cell_type": "code",
   "execution_count": 38,
   "id": "92e5e5fe-6e04-4a28-9194-b7edb964b180",
   "metadata": {},
   "outputs": [
    {
     "name": "stderr",
     "output_type": "stream",
     "text": [
      "/tmp/ipykernel_10395/4046708306.py:2: DtypeWarning: Columns (1,2,3,4) have mixed types. Specify dtype option on import or set low_memory=False.\n",
      "  output = pd.read_csv(f'./output.csv')\n"
     ]
    }
   ],
   "source": [
    "# Reading output.csv file\n",
    "output = pd.read_csv(f'./output.csv')"
   ]
  },
  {
   "cell_type": "code",
   "execution_count": 46,
   "id": "8588897f-5047-4948-92e9-750b5925609e",
   "metadata": {},
   "outputs": [],
   "source": [
    "output.rename(columns = {'Bare': 'New_bare', 'Grass': 'New_grass', \n",
    "                         'Lichen': 'New_lichen','Shrub': 'New_shrub', \n",
    "                         'Tree': 'New_tree'}, inplace = True)"
   ]
  },
  {
   "cell_type": "code",
   "execution_count": 47,
   "id": "4f7e713d-1ac5-4680-b7f6-5586e535c963",
   "metadata": {},
   "outputs": [
    {
     "data": {
      "text/html": [
       "<div>\n",
       "<style scoped>\n",
       "    .dataframe tbody tr th:only-of-type {\n",
       "        vertical-align: middle;\n",
       "    }\n",
       "\n",
       "    .dataframe tbody tr th {\n",
       "        vertical-align: top;\n",
       "    }\n",
       "\n",
       "    .dataframe thead th {\n",
       "        text-align: right;\n",
       "    }\n",
       "</style>\n",
       "<table border=\"1\" class=\"dataframe\">\n",
       "  <thead>\n",
       "    <tr style=\"text-align: right;\">\n",
       "      <th></th>\n",
       "      <th>New_bare</th>\n",
       "      <th>New_grass</th>\n",
       "      <th>New_lichen</th>\n",
       "      <th>New_shrub</th>\n",
       "      <th>New_tree</th>\n",
       "    </tr>\n",
       "  </thead>\n",
       "  <tbody>\n",
       "    <tr>\n",
       "      <th>0</th>\n",
       "      <td>0.0</td>\n",
       "      <td>0.0</td>\n",
       "      <td>0.0</td>\n",
       "      <td>0.0</td>\n",
       "      <td>0.0</td>\n",
       "    </tr>\n",
       "    <tr>\n",
       "      <th>1</th>\n",
       "      <td>0.0</td>\n",
       "      <td>0.0</td>\n",
       "      <td>0.0</td>\n",
       "      <td>0.0</td>\n",
       "      <td>0.0</td>\n",
       "    </tr>\n",
       "    <tr>\n",
       "      <th>2</th>\n",
       "      <td>0.0</td>\n",
       "      <td>0.0</td>\n",
       "      <td>0.0</td>\n",
       "      <td>0.0</td>\n",
       "      <td>0.0</td>\n",
       "    </tr>\n",
       "    <tr>\n",
       "      <th>3</th>\n",
       "      <td>0.0</td>\n",
       "      <td>0.0</td>\n",
       "      <td>0.0</td>\n",
       "      <td>0.0</td>\n",
       "      <td>0.0</td>\n",
       "    </tr>\n",
       "    <tr>\n",
       "      <th>4</th>\n",
       "      <td>0.0</td>\n",
       "      <td>0.34</td>\n",
       "      <td>0.01</td>\n",
       "      <td>0.22</td>\n",
       "      <td>0.43</td>\n",
       "    </tr>\n",
       "  </tbody>\n",
       "</table>\n",
       "</div>"
      ],
      "text/plain": [
       "   New_bare New_grass New_lichen New_shrub New_tree\n",
       "0       0.0       0.0        0.0       0.0      0.0\n",
       "1       0.0       0.0        0.0       0.0      0.0\n",
       "2       0.0       0.0        0.0       0.0      0.0\n",
       "3       0.0       0.0        0.0       0.0      0.0\n",
       "4       0.0      0.34       0.01      0.22     0.43"
      ]
     },
     "execution_count": 47,
     "metadata": {},
     "output_type": "execute_result"
    }
   ],
   "source": [
    "output.head()"
   ]
  },
  {
   "cell_type": "code",
   "execution_count": 49,
   "id": "15da2888-1553-4dad-a405-eabd7e028721",
   "metadata": {},
   "outputs": [
    {
     "name": "stdout",
     "output_type": "stream",
     "text": [
      "Number of rows: 1,091,430\n",
      "Number of columns: 5\n"
     ]
    }
   ],
   "source": [
    "print('Output')\n",
    "print(f'Number of rows: {output.shape[0]:,}')\n",
    "print(f'Number of columns: {output.shape[1]}')"
   ]
  },
  {
   "cell_type": "markdown",
   "id": "1f7d99b6-52ac-4ba7-bf84-9a9baad5b17e",
   "metadata": {},
   "source": [
    "# Split input & output data into training and test sets"
   ]
  },
  {
   "cell_type": "code",
   "execution_count": 20,
   "id": "17280c3e-aa7e-4278-9e0c-556da45abb16",
   "metadata": {},
   "outputs": [],
   "source": [
    "X_train, X_test, Y_train, Y_test = train_test_split(input, output, test_size = 0.2, random_state = 0, shuffle = True)"
   ]
  },
  {
   "cell_type": "code",
   "execution_count": 22,
   "id": "fcf2bfc8-18bc-4d1a-bd90-154b8f66125e",
   "metadata": {},
   "outputs": [
    {
     "data": {
      "text/html": [
       "<div>\n",
       "<style scoped>\n",
       "    .dataframe tbody tr th:only-of-type {\n",
       "        vertical-align: middle;\n",
       "    }\n",
       "\n",
       "    .dataframe tbody tr th {\n",
       "        vertical-align: top;\n",
       "    }\n",
       "\n",
       "    .dataframe thead th {\n",
       "        text-align: right;\n",
       "    }\n",
       "</style>\n",
       "<table border=\"1\" class=\"dataframe\">\n",
       "  <thead>\n",
       "    <tr style=\"text-align: right;\">\n",
       "      <th></th>\n",
       "      <th>Bare</th>\n",
       "      <th>Grass</th>\n",
       "      <th>Lichen</th>\n",
       "      <th>Shrub</th>\n",
       "      <th>Tree</th>\n",
       "      <th>2016-01-01 00:00:00</th>\n",
       "      <th>2016-01-01 01:00:00</th>\n",
       "    </tr>\n",
       "  </thead>\n",
       "  <tbody>\n",
       "    <tr>\n",
       "      <th>30085</th>\n",
       "      <td>0.00</td>\n",
       "      <td>0.64</td>\n",
       "      <td>0.19</td>\n",
       "      <td>0.17</td>\n",
       "      <td>0.00</td>\n",
       "      <td>0.042980</td>\n",
       "      <td>0.034923</td>\n",
       "    </tr>\n",
       "    <tr>\n",
       "      <th>106949</th>\n",
       "      <td>0.43</td>\n",
       "      <td>0.37</td>\n",
       "      <td>0.20</td>\n",
       "      <td>0.00</td>\n",
       "      <td>0.00</td>\n",
       "      <td>0.471380</td>\n",
       "      <td>0.467473</td>\n",
       "    </tr>\n",
       "    <tr>\n",
       "      <th>37357</th>\n",
       "      <td>0.44</td>\n",
       "      <td>0.13</td>\n",
       "      <td>0.29</td>\n",
       "      <td>0.14</td>\n",
       "      <td>0.00</td>\n",
       "      <td>0.027685</td>\n",
       "      <td>0.003961</td>\n",
       "    </tr>\n",
       "    <tr>\n",
       "      <th>89519</th>\n",
       "      <td>0.30</td>\n",
       "      <td>0.60</td>\n",
       "      <td>0.08</td>\n",
       "      <td>0.02</td>\n",
       "      <td>0.00</td>\n",
       "      <td>0.253295</td>\n",
       "      <td>0.251610</td>\n",
       "    </tr>\n",
       "    <tr>\n",
       "      <th>93711</th>\n",
       "      <td>0.48</td>\n",
       "      <td>0.31</td>\n",
       "      <td>0.21</td>\n",
       "      <td>0.00</td>\n",
       "      <td>0.00</td>\n",
       "      <td>0.122254</td>\n",
       "      <td>0.125339</td>\n",
       "    </tr>\n",
       "    <tr>\n",
       "      <th>...</th>\n",
       "      <td>...</td>\n",
       "      <td>...</td>\n",
       "      <td>...</td>\n",
       "      <td>...</td>\n",
       "      <td>...</td>\n",
       "      <td>...</td>\n",
       "      <td>...</td>\n",
       "    </tr>\n",
       "    <tr>\n",
       "      <th>41993</th>\n",
       "      <td>0.25</td>\n",
       "      <td>0.21</td>\n",
       "      <td>0.45</td>\n",
       "      <td>0.09</td>\n",
       "      <td>0.00</td>\n",
       "      <td>0.075752</td>\n",
       "      <td>0.053713</td>\n",
       "    </tr>\n",
       "    <tr>\n",
       "      <th>97639</th>\n",
       "      <td>0.00</td>\n",
       "      <td>0.61</td>\n",
       "      <td>0.14</td>\n",
       "      <td>0.25</td>\n",
       "      <td>0.00</td>\n",
       "      <td>0.246140</td>\n",
       "      <td>0.248978</td>\n",
       "    </tr>\n",
       "    <tr>\n",
       "      <th>95939</th>\n",
       "      <td>0.00</td>\n",
       "      <td>0.71</td>\n",
       "      <td>0.01</td>\n",
       "      <td>0.23</td>\n",
       "      <td>0.05</td>\n",
       "      <td>0.214358</td>\n",
       "      <td>0.213987</td>\n",
       "    </tr>\n",
       "    <tr>\n",
       "      <th>117952</th>\n",
       "      <td>0.00</td>\n",
       "      <td>0.61</td>\n",
       "      <td>0.25</td>\n",
       "      <td>0.12</td>\n",
       "      <td>0.02</td>\n",
       "      <td>0.394367</td>\n",
       "      <td>0.382278</td>\n",
       "    </tr>\n",
       "    <tr>\n",
       "      <th>43567</th>\n",
       "      <td>0.31</td>\n",
       "      <td>0.40</td>\n",
       "      <td>0.29</td>\n",
       "      <td>0.00</td>\n",
       "      <td>0.00</td>\n",
       "      <td>0.597363</td>\n",
       "      <td>0.582723</td>\n",
       "    </tr>\n",
       "  </tbody>\n",
       "</table>\n",
       "<p>111812 rows × 7 columns</p>\n",
       "</div>"
      ],
      "text/plain": [
       "        Bare  Grass  Lichen  Shrub  Tree  2016-01-01 00:00:00  \\\n",
       "30085   0.00   0.64    0.19   0.17  0.00             0.042980   \n",
       "106949  0.43   0.37    0.20   0.00  0.00             0.471380   \n",
       "37357   0.44   0.13    0.29   0.14  0.00             0.027685   \n",
       "89519   0.30   0.60    0.08   0.02  0.00             0.253295   \n",
       "93711   0.48   0.31    0.21   0.00  0.00             0.122254   \n",
       "...      ...    ...     ...    ...   ...                  ...   \n",
       "41993   0.25   0.21    0.45   0.09  0.00             0.075752   \n",
       "97639   0.00   0.61    0.14   0.25  0.00             0.246140   \n",
       "95939   0.00   0.71    0.01   0.23  0.05             0.214358   \n",
       "117952  0.00   0.61    0.25   0.12  0.02             0.394367   \n",
       "43567   0.31   0.40    0.29   0.00  0.00             0.597363   \n",
       "\n",
       "        2016-01-01 01:00:00  \n",
       "30085              0.034923  \n",
       "106949             0.467473  \n",
       "37357              0.003961  \n",
       "89519              0.251610  \n",
       "93711              0.125339  \n",
       "...                     ...  \n",
       "41993              0.053713  \n",
       "97639              0.248978  \n",
       "95939              0.213987  \n",
       "117952             0.382278  \n",
       "43567              0.582723  \n",
       "\n",
       "[111812 rows x 7 columns]"
      ]
     },
     "execution_count": 22,
     "metadata": {},
     "output_type": "execute_result"
    }
   ],
   "source": [
    "X_train"
   ]
  },
  {
   "cell_type": "code",
   "execution_count": 15,
   "id": "0b528e09-85be-43a7-a388-e11ec1db03bf",
   "metadata": {},
   "outputs": [],
   "source": [
    "X_test"
   ]
  },
  {
   "cell_type": "code",
   "execution_count": 16,
   "id": "96cd6d60-8ae6-4e1d-b223-6ca16efbf791",
   "metadata": {},
   "outputs": [],
   "source": [
    "Y_train"
   ]
  },
  {
   "cell_type": "code",
   "execution_count": 17,
   "id": "5391855d-8706-47b0-988e-4ccd7e38af2b",
   "metadata": {},
   "outputs": [],
   "source": [
    "Y_test"
   ]
  },
  {
   "cell_type": "code",
   "execution_count": null,
   "id": "5b255006-00a8-4b60-9426-3732f103c66b",
   "metadata": {},
   "outputs": [],
   "source": []
  },
  {
   "cell_type": "code",
   "execution_count": null,
   "id": "28460115-9800-4edb-ab3c-77708089924c",
   "metadata": {},
   "outputs": [],
   "source": []
  }
 ],
 "metadata": {
  "kernelspec": {
   "display_name": "Python 3 (ipykernel)",
   "language": "python",
   "name": "python3"
  },
  "language_info": {
   "codemirror_mode": {
    "name": "ipython",
    "version": 3
   },
   "file_extension": ".py",
   "mimetype": "text/x-python",
   "name": "python",
   "nbconvert_exporter": "python",
   "pygments_lexer": "ipython3",
   "version": "3.9.13"
  }
 },
 "nbformat": 4,
 "nbformat_minor": 5
}

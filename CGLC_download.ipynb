{
 "cells": [
  {
   "cell_type": "markdown",
   "id": "462001c3-f17a-4f7b-b98d-c40ff3b54184",
   "metadata": {},
   "source": [
    "# Copernicus Global Land Cover data extract and download\n",
    "## Troms og Finnmark\n",
    "### Mosses and lichens, grass, shrubs and trees"
   ]
  },
  {
   "cell_type": "code",
   "execution_count": null,
   "id": "565250bd-d800-4ef6-a4d9-7f3c5eeb1aab",
   "metadata": {},
   "outputs": [],
   "source": [
    "!date"
   ]
  },
  {
   "cell_type": "code",
   "execution_count": null,
   "id": "47cb8e07-e06f-4d4b-93a1-67f40e1055b9",
   "metadata": {},
   "outputs": [],
   "source": [
    "import pkg_resources\n",
    "if not any(list(map(lambda i: i.key == 'openeo', pkg_resources.working_set))):\n",
    "    !pip install openeo"
   ]
  },
  {
   "cell_type": "code",
   "execution_count": null,
   "id": "9186c928-8a2c-4f2f-9464-3eab7f24fb83",
   "metadata": {},
   "outputs": [],
   "source": [
    "# data\n",
    "import numpy as np #arrays\n",
    "import pandas as pd #dataframes\n",
    "import xarray as xr #multidimensional arrays\n",
    "import geopandas as gpd #geospatial vector data\n",
    "import openeo\n",
    "import zarr\n",
    "\n",
    "# Regridding <- xesmf is not available in ppc64el pangeo-notebook, yet\n",
    "import xesmf as xe\n",
    "\n",
    "# Image processing\n",
    "from skimage.io import imshow\n",
    "from skimage.morphology import erosion, dilation\n",
    "\n",
    "# Visualization\n",
    "import matplotlib\n",
    "import matplotlib.pyplot as plt\n",
    "import holoviews as hv\n",
    "import hvplot.xarray\n",
    "import hvplot.pandas\n",
    "from bokeh.models.formatters import DatetimeTickFormatter\n",
    "from holoviews import opts"
   ]
  },
  {
   "cell_type": "markdown",
   "id": "419be12a-860d-4a8d-a3a5-8fbdee17dc0c",
   "metadata": {
    "tags": []
   },
   "source": [
    "# If running on a local machine execute the following cell instead to create a local dask cluster, otherwise skip it"
   ]
  },
  {
   "cell_type": "code",
   "execution_count": null,
   "id": "ab49987a-6bb1-48c4-bbc5-cb409c0d47c6",
   "metadata": {},
   "outputs": [],
   "source": [
    "# Create a local dask cluster on the local machine\n",
    "from dask.distributed import Client\n",
    "with Client(n_workers=24, memory_limit='2GiB', threads_per_worker=1) as client:\n",
    "    print(client)"
   ]
  },
  {
   "cell_type": "code",
   "execution_count": null,
   "id": "3e997544-ee6a-4533-bc17-d7ab3fcd6ea6",
   "metadata": {},
   "outputs": [],
   "source": [
    "# client.close()"
   ]
  },
  {
   "cell_type": "code",
   "execution_count": null,
   "id": "485d129a-e1bb-4286-8b2f-61ff633c22d9",
   "metadata": {},
   "outputs": [],
   "source": [
    "# Define the Area Of Interest\n",
    "AOI_name = 'Troms-Finnmark'"
   ]
  },
  {
   "cell_type": "code",
   "execution_count": null,
   "id": "52aea5a2-5aa7-4ec5-9f2c-0d2be49cca4b",
   "metadata": {},
   "outputs": [],
   "source": [
    "# Get information about the area of interest from the Global Administrative Unit Layers GAUL G2015_2014 \n",
    "try:\n",
    "    AOI = gpd.read_file('../data/Troms-Finnmark.geojson')\n",
    "    type(AOI)\n",
    "except:\n",
    "    GAUL = gpd.read_file('zip+https://mars.jrc.ec.europa.eu/asap/files/gaul1_asap.zip') \n",
    "    AOI = GAUL[(GAUL.name1 == 'Troms') | (GAUL.name1 == 'Finnmark')] \n",
    "    AOI.to_file('../data/Troms-Finnmark.geojson', driver='GeoJSON') "
   ]
  },
  {
   "cell_type": "code",
   "execution_count": null,
   "id": "31dd70dd-ea2f-40ef-a713-99fddb9d43ed",
   "metadata": {},
   "outputs": [],
   "source": [
    "# Exract the polygon geometry\n",
    "AOI_poly = AOI.geometry\n",
    "type(AOI_poly)"
   ]
  },
  {
   "cell_type": "code",
   "execution_count": null,
   "id": "ac33eed4-d914-40d8-b2fb-55a170c7bd0c",
   "metadata": {},
   "outputs": [],
   "source": [
    "# Plot the AOI polygon\n",
    "AOI_poly.plot()"
   ]
  },
  {
   "cell_type": "code",
   "execution_count": null,
   "id": "056f97c3-1466-4340-a715-625ba9233fad",
   "metadata": {},
   "outputs": [],
   "source": [
    "# Define the minimum and maximum latitude and longitudes for the AOI\n",
    "AOI_Troms = AOI_poly.bounds.values.tolist()[0]\n",
    "AOI_Finnmark = AOI_poly.bounds.values.tolist()[1]\n",
    "AOI_min_lon = min(AOI_Troms[0], AOI_Finnmark[0])\n",
    "AOI_max_lon = max(AOI_Troms[2], AOI_Finnmark[2])\n",
    "AOI_min_lat = min(AOI_Troms[1], AOI_Finnmark[1])\n",
    "AOI_max_lat = max(AOI_Troms[3], AOI_Finnmark[3])\n",
    "print(AOI_min_lon, AOI_max_lon, AOI_min_lat, AOI_max_lat)"
   ]
  },
  {
   "cell_type": "markdown",
   "id": "d25d51aa-6dc8-4cae-ab19-af5233764627",
   "metadata": {},
   "source": [
    "## If the Global Land Cover data has already been downloaded then skip the steps below until when the data is available locally"
   ]
  },
  {
   "cell_type": "code",
   "execution_count": null,
   "id": "361851d7-aa84-4b2e-a195-96732562393b",
   "metadata": {},
   "outputs": [],
   "source": [
    "session = openeo.connect(\"https://openeo.vito.be\").authenticate_oidc(provider_id=\"egi\")"
   ]
  },
  {
   "cell_type": "code",
   "execution_count": null,
   "id": "8f587532-24d8-4a05-a540-199e941d856a",
   "metadata": {},
   "outputs": [],
   "source": [
    "session.list_collections()"
   ]
  },
  {
   "cell_type": "markdown",
   "id": "76ec3389-ce95-470f-be07-78a67aa08a9e",
   "metadata": {},
   "source": [
    "## Global Land Cover\n",
    "Global Land Cover products at 100 m resolution are delivered annually by the global component of the Copernicus Land Service. The most recent collection 3 (version 3.0.1) of 100 m Land Cover products for the years 2015 - 2019 were generated from the PROBA-V 100 m and 300 m satellite observations and several other ancillary datasets with global coverage. These Land Cover products provide a main discrete land cover classification map according to UN-FAO Land Cover Classification System LCCS. Additional continuous fractional layers for all basic land cover classes which give the percentage of a 100 m pixel that is filled with a specific land cover class, are also included in the Land Cover products to provide more detailed information on each land cover class."
   ]
  },
  {
   "cell_type": "code",
   "execution_count": null,
   "id": "03c14c1a-4994-458a-9475-32c59c985f1d",
   "metadata": {},
   "outputs": [],
   "source": [
    "session.describe_collection('GLOBAL_LAND_COVER')"
   ]
  },
  {
   "cell_type": "code",
   "execution_count": null,
   "id": "6f4a51ce-3b1d-43ac-a85f-632e0a0107ad",
   "metadata": {},
   "outputs": [],
   "source": [
    "# All the bands/variables\n",
    "datacube = session.load_collection(\n",
    "    'GLOBAL_LAND_COVER',\n",
    "    spatial_extent={\"west\": AOI_min_lon, \"south\":AOI_min_lat , \"east\": AOI_max_lon, \"north\":AOI_max_lat },\n",
    "    temporal_extent = [\"2015-01-01\", \"2019-01-01\"],\n",
    ")"
   ]
  },
  {
   "cell_type": "code",
   "execution_count": null,
   "id": "aecc030c-6674-4b8c-8402-d248b614c5c6",
   "metadata": {},
   "outputs": [],
   "source": [
    "# Download as netCDF into the local ../data folder\n",
    "# datacube.download(f\"../data/C_GlobalLandCover_20150101_20190101_Troms-Finnmark.nc\", format=\"NetCDF\")"
   ]
  },
  {
   "cell_type": "markdown",
   "id": "99fb0133-0619-4203-9587-5de9aa1db6e4",
   "metadata": {},
   "source": [
    "## Once the **Global Land Cover** data is available locally in ../data/C_GlobalLandCover_20150101_20190101_Troms-Finnmark.nc"
   ]
  },
  {
   "cell_type": "markdown",
   "id": "cd0fd40a-2486-407d-85a6-e7939547e983",
   "metadata": {},
   "source": [
    "### Read the data from local netCDF file"
   ]
  },
  {
   "cell_type": "code",
   "execution_count": null,
   "id": "c214880a-feaf-457d-a64d-53ceb89e68fa",
   "metadata": {},
   "outputs": [],
   "source": [
    "# Read data from local file and make smaller chunks (less than 1 MiB each)\n",
    "# Rename dimensions as lat/lon and time\n",
    "# Extract DataArray with Area of Interest from the Dataset as Variables_AOI\n",
    "# (this automatically closes the dataset after use)\n",
    "with xr.open_dataset(f'../data/C_GlobalLandCover_20150101_20190101_Troms-Finnmark.nc', engine =\"netcdf4\", \n",
    "                     chunks={\"t\": 1, \"x\": 16708/4, \"y\": -1}) as cglc_ds:\n",
    "    cglc_ds = cglc_ds.rename(x='lon', y='lat', t='time')\n",
    "    Variables_AOI = cglc_ds.sel(lat=slice(AOI_max_lat, AOI_min_lat), lon=slice(AOI_min_lon, AOI_max_lon))"
   ]
  },
  {
   "cell_type": "code",
   "execution_count": null,
   "id": "f8fdce97-a063-46ab-8000-d0f2f82025c5",
   "metadata": {},
   "outputs": [],
   "source": [
    "Variables_AOI"
   ]
  },
  {
   "cell_type": "code",
   "execution_count": null,
   "id": "59652d9b-76ae-46cd-b05b-bf07f721c632",
   "metadata": {},
   "outputs": [],
   "source": [
    "# Trigger the actual loading of this dataset's data from disk into memory\n",
    "Variables_AOI.compute()"
   ]
  },
  {
   "cell_type": "code",
   "execution_count": null,
   "id": "410dbfad-100e-42a2-bb28-7551e40e1616",
   "metadata": {},
   "outputs": [],
   "source": [
    "# Set a EPSG:4326 Geodetic coordinate reference system\n",
    "Variables_AOI.rio.write_crs(4326, inplace=True)"
   ]
  },
  {
   "cell_type": "code",
   "execution_count": null,
   "id": "c65262fc-ce96-4529-a4e8-20e43b3b200b",
   "metadata": {},
   "outputs": [],
   "source": [
    "# Clip the data with the polygon that has been obtained for Troms & Finnmark\n",
    "Variables_AOI = Variables_AOI.rio.clip(AOI_poly, crs=4326)"
   ]
  },
  {
   "cell_type": "code",
   "execution_count": null,
   "id": "0bc87a7b-44c4-4e1b-b8f9-eb44b739fcfe",
   "metadata": {},
   "outputs": [],
   "source": [
    "Variables_AOI"
   ]
  },
  {
   "cell_type": "code",
   "execution_count": null,
   "id": "ad482483-9463-4cf5-994b-4b291b641012",
   "metadata": {},
   "outputs": [],
   "source": [
    "# Drop variables not directly of interest here\n",
    "Variables_AOI = Variables_AOI.drop_vars(['crs',\n",
    "                                       'Bare_CoverFraction_layer',\n",
    "                                       'Discrete_Classification_map', \n",
    "                                       'Discrete_Classification_proba',\n",
    "                                       'Forest_Type_layer',\n",
    "                                       'Snow_CoverFraction_layer',\n",
    "                                       'BuiltUp_CoverFraction_layer',\n",
    "                                       'PermanentWater_CoverFraction_layer',\n",
    "                                       'SeasonalWater_CoverFraction_layer',\n",
    "                                       'DataDensityIndicator',\n",
    "                                       'Change_Confidence_layer',\n",
    "                                       'dataMask'])"
   ]
  },
  {
   "cell_type": "code",
   "execution_count": null,
   "id": "c170f314-59e0-4a9c-87bb-33228f30d936",
   "metadata": {},
   "outputs": [],
   "source": [
    "Variables_AOI"
   ]
  },
  {
   "cell_type": "code",
   "execution_count": null,
   "id": "9f577e28-9dbc-4bfa-b96f-3b3a1332783d",
   "metadata": {},
   "outputs": [],
   "source": [
    "# Calculate the sum over lattitude and longitude\n",
    "stats = Variables_AOI.sum(dim=['lat', 'lon'])"
   ]
  },
  {
   "cell_type": "code",
   "execution_count": null,
   "id": "25f1fb24-dc91-4fb9-b8c1-86b904ea8d78",
   "metadata": {},
   "outputs": [],
   "source": [
    "%%time\n",
    "stats.compute()"
   ]
  },
  {
   "cell_type": "code",
   "execution_count": null,
   "id": "95565fd9-3206-4d89-9826-1ae59df00ee8",
   "metadata": {},
   "outputs": [],
   "source": [
    "# Rename remaining variables (for convenience)\n",
    "stats = stats.rename(Crops_CoverFraction_layer = 'Crops',\n",
    "                     Grass_CoverFraction_layer = 'Grass',\n",
    "                     MossLichen_CoverFraction_layer = 'MossLichen',\n",
    "                     Shrub_CoverFraction_layer = 'Shrub',\n",
    "                     Tree_CoverFraction_layer = 'Tree')"
   ]
  },
  {
   "cell_type": "code",
   "execution_count": null,
   "id": "26e51b2a-93b5-45ac-ba0e-009b0d6eb012",
   "metadata": {},
   "outputs": [],
   "source": [
    "stats.to_dataframe()"
   ]
  },
  {
   "cell_type": "code",
   "execution_count": null,
   "id": "ff291fcd-0ff3-4ac9-b96b-f220e70e0c71",
   "metadata": {},
   "outputs": [],
   "source": [
    "# Calculate total fractional coverage (for all vegetation species), for each year\n",
    "total = stats.Crops + stats.Grass + stats.MossLichen + stats.Shrub + stats.Tree"
   ]
  },
  {
   "cell_type": "code",
   "execution_count": null,
   "id": "c2006ff8-6d80-4bcc-b6ba-37bd29c7bbe1",
   "metadata": {},
   "outputs": [],
   "source": [
    "total.data"
   ]
  },
  {
   "cell_type": "code",
   "execution_count": null,
   "id": "733b2589-0f2c-43fe-bccb-5a3d11336d6a",
   "metadata": {},
   "outputs": [],
   "source": [
    "# Express the fractional cover in terms of percentage of the total\n",
    "fractional_cover_in_percentage_of_total = stats.to_dataframe().div(total).mul(100)"
   ]
  },
  {
   "cell_type": "code",
   "execution_count": null,
   "id": "465550b0-f72e-45df-94d2-bb056ffd42ec",
   "metadata": {},
   "outputs": [],
   "source": [
    "fractional_cover_in_percentage_of_total"
   ]
  },
  {
   "cell_type": "code",
   "execution_count": null,
   "id": "3d3cd040-471c-46d5-9515-44aef70142bc",
   "metadata": {},
   "outputs": [],
   "source": [
    "# Plot fraction covers for crops, grass, moss-lichen, shrub and tree \n",
    "# and only show the year as xlabel\n",
    "# also add title\n",
    "formatter = DatetimeTickFormatter(years=[\"%Y\"], months=[\"%Y\"])\n",
    "plot = fractional_cover_in_percentage_of_total.hvplot(cmap=\"RdYlGn\", \n",
    "                                                      width=1000, height=500, \n",
    "                                                      xformatter=formatter)\n",
    "(plot.relabel('GC3-SC1 \"Arctic browning and winter warming\" in Troms and Finnmark (Norway)\\n(data from the Copernicus Land Monitoring Service Global Land Cover)'\n",
    "             ).opts(fontsize={'title': 16, 'labels': 14, 'xticks': 12, 'yticks': 12}\n",
    "             ).opts(xlabel='Year', ylabel='Fractional cover\\n[in % of all vegetation types]'))"
   ]
  },
  {
   "cell_type": "markdown",
   "id": "cc4f6d14-c977-44c5-90b0-58a6fcf7a47c",
   "metadata": {},
   "source": [
    "# Compared to 2015, the cumulated fractional cover of grass (which represent the vast majority of the vegetation in Troms and Finnmark) has decreased (-12%), those of crops (-5%) and moss/lichen (+2%) are about the same, however there are more trees (+10%) and even more shrubs (+24%).\n",
    "\n",
    "## As far as trees and shrubs are concerned, it was also concluded in ISBN: 978-9935-431-90-5 that *there has been increased growth and encroachment of shrubs and trees in parts of the low Arctic. Plant abundance remained mainly stable, but when changes occurred, shrubs, mosses and lichens were most affected.*\n",
    "\n",
    "## That could be also the *result from trampling disturbance, grazing pressure, and the excretion of waste*, as reported for Svalbard reindeer in DOI: 10.1016/j.polar.2013.11.002."
   ]
  },
  {
   "cell_type": "markdown",
   "id": "851c05fa-097d-4e39-8b3e-848009bff122",
   "metadata": {},
   "source": [
    "## To assess how moss/lichen evolved in the last 20 years or so, we can have a closer look at NDVI long term series (LTS) as a whole, and since the presence of **trees and shrubs are very likely to dominate the signal** we may have to use a \"mask\" derived from where pixels were classified as moss/lichen in the period 2015-2019 in the NDVI and/or Global Land Cover data."
   ]
  },
  {
   "cell_type": "markdown",
   "id": "c14e7803-e60b-4372-86d2-7e91534f2aeb",
   "metadata": {},
   "source": [
    "## If the **NDVI** data has already been downloaded then skip the steps below until when the data is available locally"
   ]
  },
  {
   "cell_type": "code",
   "execution_count": null,
   "id": "9eb1bfd2-013c-4fc7-a428-2d3c71fc8255",
   "metadata": {},
   "outputs": [],
   "source": [
    "# NDVI\n",
    "datacube = session.load_collection(\n",
    "    'CGLS_NDVI_V3_GLOBAL',\n",
    "    spatial_extent={\"west\": AOI_min_lon, \"south\":AOI_min_lat , \"east\": AOI_max_lon, \"north\":AOI_max_lat },\n",
    "    temporal_extent = [\"1999-01-01\", \"2020-06-21\"],\n",
    ")"
   ]
  },
  {
   "cell_type": "code",
   "execution_count": null,
   "id": "e40fcde1-399a-4944-8ea5-7a6d27a23b95",
   "metadata": {},
   "outputs": [],
   "source": [
    "datacube.download(f'../data/C_CGLS_NDVI_V3_GLOBAL_1990101_20200621_Troms-Finnmark.nc', format='NetCDF')"
   ]
  },
  {
   "cell_type": "markdown",
   "id": "551e5e3b-0086-44b1-a02d-9001ea265c62",
   "metadata": {},
   "source": [
    "## Once the **Global Land Cover** data is available locally in ../data/C_CGLS_NDVI_V3_GLOBAL_1990101_20200621_Troms-Finnmark.nc"
   ]
  },
  {
   "cell_type": "code",
   "execution_count": null,
   "id": "26c261c8-688b-4de0-98b1-a13c6ee7bd38",
   "metadata": {},
   "outputs": [],
   "source": [
    "# Read data from local file and make smaller chunks (less than 1 MiB each)\n",
    "# Rename dimensions as lat/lon and time\n",
    "# Extract DataArray with Area of Interest from the Dataset\n",
    "# (this automatically closes the dataset after use)\n",
    "with xr.open_dataset(f'../data/C_CGLS_NDVI_V3_GLOBAL_1990101_20200621_Troms-Finnmark.nc', engine =\"netcdf4\", \n",
    "                     chunks={\"t\": 52, \"x\": -1, \"y\": -1}) as cglc_ndvi_ds:\n",
    "    cglc_ndvi_ds = cglc_ndvi_ds.rename(x='lon', y='lat', t='time')\n",
    "    NDVI_AOI = cglc_ndvi_ds.sel(lat=slice(AOI_max_lat, AOI_min_lat), lon=slice(AOI_min_lon, AOI_max_lon))"
   ]
  },
  {
   "cell_type": "code",
   "execution_count": null,
   "id": "957d53f5-abf1-4c74-a8ae-318f63ee86b3",
   "metadata": {},
   "outputs": [],
   "source": [
    "NDVI_AOI"
   ]
  },
  {
   "cell_type": "code",
   "execution_count": null,
   "id": "19142234-07a0-47ba-a95c-1c7dab877e02",
   "metadata": {},
   "outputs": [],
   "source": [
    "%%time\n",
    "NDVI_AOI.compute()"
   ]
  },
  {
   "cell_type": "code",
   "execution_count": null,
   "id": "44165ffc-c641-4703-9b2b-eba6295ee777",
   "metadata": {},
   "outputs": [],
   "source": [
    "NDVI_AOI"
   ]
  },
  {
   "cell_type": "code",
   "execution_count": null,
   "id": "5b678f1c-bf51-47a4-a945-c7c5b715c760",
   "metadata": {},
   "outputs": [],
   "source": [
    "# Set a EPSG:4326 Geodetic coordinate reference system\n",
    "NDVI_AOI.rio.write_crs(4326, inplace=True)"
   ]
  },
  {
   "cell_type": "code",
   "execution_count": null,
   "id": "1551dd20-886a-4e53-b0b4-7c990c338756",
   "metadata": {},
   "outputs": [],
   "source": [
    "# Clip the data with the polygon that has been obtained for Troms & Finnmark\n",
    "NDVI_AOI = NDVI_AOI.rio.clip(AOI_poly, crs=4326)"
   ]
  },
  {
   "cell_type": "code",
   "execution_count": null,
   "id": "dd054fb4-740c-4d5d-8dca-ca786a6f3d94",
   "metadata": {},
   "outputs": [],
   "source": [
    "# Convert NDVI values [-0.08, +0.92]\n",
    "NDVI_AOI = NDVI_AOI * (1/250) - 0.08"
   ]
  },
  {
   "cell_type": "code",
   "execution_count": null,
   "id": "4d2fb3c4-5833-4272-a9b0-89aaad814b7c",
   "metadata": {},
   "outputs": [],
   "source": [
    "%%time\n",
    "NDVI_AOI.compute()"
   ]
  },
  {
   "cell_type": "code",
   "execution_count": null,
   "id": "8e9bc354-5150-4503-8637-e807a3cc71b6",
   "metadata": {},
   "outputs": [],
   "source": [
    "# Plot NDVI with a slidder to select the date\n",
    "# map = NDVI_AOI.hvplot(groupby ='time', cmap=\"RdYlGn\", width=1000, height=500)\n",
    "# (map.relabel(\"NDVI\"))"
   ]
  },
  {
   "cell_type": "markdown",
   "id": "28567113-9c21-444f-88b2-7104b0d9ec2c",
   "metadata": {},
   "source": [
    "## Create a MossLichen or MossLichenGrass mask for further processing"
   ]
  },
  {
   "cell_type": "code",
   "execution_count": null,
   "id": "c916bc45-027f-4605-9fb1-d132f04fac79",
   "metadata": {},
   "outputs": [],
   "source": [
    "# Create a mask for locations classified as MossLichen in the Global Land Cover\n",
    "mask_MossLichen = xr.where(Variables_AOI.MossLichen_CoverFraction_layer > 0, 1, 0)"
   ]
  },
  {
   "cell_type": "code",
   "execution_count": null,
   "id": "f302114d-ae61-4bd6-90e3-fd2b35c2c277",
   "metadata": {},
   "outputs": [],
   "source": [
    "%%time\n",
    "mask_MossLichen.compute()"
   ]
  },
  {
   "cell_type": "code",
   "execution_count": null,
   "id": "a7f2af95-06d2-4c66-8890-e3ab2047745f",
   "metadata": {},
   "outputs": [],
   "source": [
    "# Plot the MossLichen mask with slider for time\n",
    "# mask_MossLichen.hvplot(groupby='time', cmap=\"RdYlGn\", width=1000, height=500).opts(title=\"Moss & Lichen\")"
   ]
  },
  {
   "cell_type": "markdown",
   "id": "c65ad77c-13fa-498a-82f8-df1215e50e2c",
   "metadata": {},
   "source": [
    "## Skip the next 3 cells is you do not want to see the MossLichen **and Grass** mask"
   ]
  },
  {
   "cell_type": "code",
   "execution_count": null,
   "id": "6b0cedcb-24e5-463d-b592-5cc9e960968a",
   "metadata": {},
   "outputs": [],
   "source": [
    "# Create a mask for locations classified as MossLichen or Grass in the Global Land Cover\n",
    "mask_MossLichenGrass = xr.where((Variables_AOI.MossLichen_CoverFraction_layer > 0) | (Variables_AOI.Grass_CoverFraction_layer > 0), 1, 0)"
   ]
  },
  {
   "cell_type": "code",
   "execution_count": null,
   "id": "f2adbe9b-a1f8-4df8-8cd1-7af7c7dbb55d",
   "metadata": {},
   "outputs": [],
   "source": [
    "%%time\n",
    "mask_MossLichenGrass.compute()"
   ]
  },
  {
   "cell_type": "code",
   "execution_count": null,
   "id": "29e33f4f-294d-4365-86ef-6ff4bdae940f",
   "metadata": {},
   "outputs": [],
   "source": [
    "# Plot the MossLichenGrass mask with slider for time\n",
    "# mask_MossLichenGrass.hvplot(groupby='time', cmap=\"RdYlGn\", width=1000, height=500).opts(title=\"Moss & Lichen or Grass\")"
   ]
  },
  {
   "cell_type": "markdown",
   "id": "bcbb867c-bdfa-4897-a2dc-10b8a669a2e7",
   "metadata": {},
   "source": [
    "## There is grass nearly everywhere, so using this mask may not lead to result much different from not using it \n",
    "## -> try with the MossLichen mask only\n",
    "## with pixels classified as MossLichen **at least once between 2015 and 2019**"
   ]
  },
  {
   "cell_type": "code",
   "execution_count": null,
   "id": "daddee1e-f8cb-407a-bade-4da15a9daff1",
   "metadata": {},
   "outputs": [],
   "source": [
    "# Create a mask for locations classified as MossLichen in the Global Land Cover \n",
    "mask_MossLichenOnce = xr.where(Variables_AOI.MossLichen_CoverFraction_layer.sum(dim='time') > 0, 1, 0)"
   ]
  },
  {
   "cell_type": "code",
   "execution_count": null,
   "id": "12a6390b-b74c-4afe-818b-6c8cb5562daf",
   "metadata": {},
   "outputs": [],
   "source": [
    "%%time\n",
    "mask_MossLichenOnce.compute()"
   ]
  },
  {
   "cell_type": "code",
   "execution_count": null,
   "id": "b0fec38f-76fc-4efe-9f6c-378e380e093d",
   "metadata": {},
   "outputs": [],
   "source": [
    "# Plot the MossLichenOnce mask\n",
    "# mask_MossLichenOnce.hvplot(cmap=\"RdYlGn\", width=1000, height=500).opts(title='Classified as \"Moss & Lichen\" at least once between 2015 and 2019')"
   ]
  },
  {
   "cell_type": "code",
   "execution_count": null,
   "id": "b1f06ac6-aa0b-4ff2-b0d6-d46ea58e3e89",
   "metadata": {},
   "outputs": [],
   "source": [
    "# Define pattern for image dilation\n",
    "cross = np.array([[0,1,0], [1,1,1], [0,1,0]])\n",
    "imshow(cross, cmap = 'gray');"
   ]
  },
  {
   "cell_type": "code",
   "execution_count": null,
   "id": "71dabd4e-8d49-4d4e-93ca-78a0a4745328",
   "metadata": {},
   "outputs": [],
   "source": [
    "mask_MossLichenOnce.sum().compute()"
   ]
  },
  {
   "cell_type": "code",
   "execution_count": null,
   "id": "0ed81d72-b055-4328-a3ee-e6cc2d3af2bc",
   "metadata": {},
   "outputs": [],
   "source": [
    "mask_MossLichenOnce"
   ]
  },
  {
   "cell_type": "code",
   "execution_count": null,
   "id": "beb1e236-7bec-4daf-ab1c-7cbc54b502a0",
   "metadata": {},
   "outputs": [],
   "source": [
    "imshow(mask_MossLichenOnce.values[1000:, 4000:5000], cmap = 'gray');"
   ]
  },
  {
   "cell_type": "code",
   "execution_count": null,
   "id": "094c19e9-2330-4a40-8ac1-186e47dbffe6",
   "metadata": {},
   "outputs": [],
   "source": [
    "dilated_mask = dilation(mask_MossLichenOnce, cross)\n",
    "dilated_mask.sum()"
   ]
  },
  {
   "cell_type": "code",
   "execution_count": null,
   "id": "f919e76a-3990-439e-9b6f-bea8866bd6b6",
   "metadata": {},
   "outputs": [],
   "source": [
    "imshow(dilated_mask[1000:, 4000:5000], cmap = 'gray');"
   ]
  },
  {
   "cell_type": "code",
   "execution_count": null,
   "id": "0d9f428d-94a8-4734-8ae3-e6a5feae7e0a",
   "metadata": {},
   "outputs": [],
   "source": [
    "dilated_mask = dilation(dilated_mask, cross)\n",
    "dilated_mask.sum()"
   ]
  },
  {
   "cell_type": "code",
   "execution_count": null,
   "id": "c13e924c-f089-4453-acd8-489f8fbf6093",
   "metadata": {},
   "outputs": [],
   "source": [
    "imshow(dilated_mask[1000:, 4000:5000], cmap = 'gray');"
   ]
  },
  {
   "cell_type": "code",
   "execution_count": null,
   "id": "a04a2f90-d6f4-4abb-ab22-87314d10c413",
   "metadata": {},
   "outputs": [],
   "source": [
    "dilated_mask = dilation(dilated_mask, cross)\n",
    "dilated_mask.sum()"
   ]
  },
  {
   "cell_type": "code",
   "execution_count": null,
   "id": "d3ac65c1-780e-4c98-a6f5-bd8df1db0e87",
   "metadata": {},
   "outputs": [],
   "source": [
    "imshow(dilated_mask[1000:, 4000:5000], cmap = 'gray');"
   ]
  },
  {
   "cell_type": "code",
   "execution_count": null,
   "id": "0b717a9a-219e-41f1-b9b0-0387d6e69436",
   "metadata": {},
   "outputs": [],
   "source": [
    "eroded_mask = erosion(dilated_mask, cross)\n",
    "eroded_mask.sum()"
   ]
  },
  {
   "cell_type": "code",
   "execution_count": null,
   "id": "aa02e18f-f19d-4263-a934-6bc8c28ee852",
   "metadata": {},
   "outputs": [],
   "source": [
    "imshow(eroded_mask[1000:, 4000:5000], cmap = 'gray');"
   ]
  },
  {
   "cell_type": "code",
   "execution_count": null,
   "id": "d16a39f5-f321-4723-a7c1-18d46b467f6b",
   "metadata": {},
   "outputs": [],
   "source": [
    "eroded_mask = erosion(eroded_mask, cross)\n",
    "eroded_mask.sum()"
   ]
  },
  {
   "cell_type": "code",
   "execution_count": null,
   "id": "7600f596-988b-41d1-9aea-cc93c20186e4",
   "metadata": {},
   "outputs": [],
   "source": [
    "imshow(eroded_mask[1000:, 4000:5000], cmap = 'gray');"
   ]
  },
  {
   "cell_type": "code",
   "execution_count": null,
   "id": "b7bb1b65-843d-4ef8-8553-141c6bb3e396",
   "metadata": {},
   "outputs": [],
   "source": [
    "eroded_mask = erosion(eroded_mask, cross)\n",
    "eroded_mask.sum()"
   ]
  },
  {
   "cell_type": "code",
   "execution_count": null,
   "id": "4c130b5c-6ba0-4df6-b8ca-a0aebca56105",
   "metadata": {},
   "outputs": [],
   "source": [
    "imshow(eroded_mask[1000:, 4000:5000], cmap = 'gray');"
   ]
  },
  {
   "cell_type": "code",
   "execution_count": null,
   "id": "cccfc275-d3e0-4729-aae5-cdeb32374e48",
   "metadata": {},
   "outputs": [],
   "source": [
    "# Convert numpy array into an xarray data array\n",
    "eroded_mask = xr.DataArray(eroded_mask, \n",
    "                         coords={'lat': mask_MossLichenOnce.lat,'lon': mask_MossLichenOnce.lon}, \n",
    "                        dims=[\"lat\", \"lon\"])"
   ]
  },
  {
   "cell_type": "code",
   "execution_count": null,
   "id": "5e99ef19-2965-42b0-9ee6-9ce59c82a7ae",
   "metadata": {},
   "outputs": [],
   "source": [
    "eroded_mask"
   ]
  },
  {
   "cell_type": "code",
   "execution_count": null,
   "id": "8b913c68-768c-4351-b078-4fc8c5735c5f",
   "metadata": {},
   "outputs": [],
   "source": [
    "%time\n",
    "eroded_mask.to_netcdf('../data/Dilatedx3_Erodedx3_MossLichen_Mask.nc', engine='netcdf4')"
   ]
  },
  {
   "cell_type": "markdown",
   "id": "1644ee4d-db06-49e1-b794-97607c12927a",
   "metadata": {},
   "source": [
    "## Read the MossLichen mask from local netCDF file"
   ]
  },
  {
   "cell_type": "code",
   "execution_count": null,
   "id": "73b0a9b4-1db7-4e5a-8f82-3c4316897240",
   "metadata": {},
   "outputs": [],
   "source": [
    "# Read data from local file \n",
    "with xr.open_dataset(f'../data/Dilatedx3_Erodedx3_MossLichen_Mask.nc', engine =\"netcdf4\",\n",
    "                    chunks={\"lat\": -1, \"lon\": -1}) as mask:\n",
    "    mask = mask.rename(__xarray_dataarray_variable__='MossLichen_mask')"
   ]
  },
  {
   "cell_type": "code",
   "execution_count": null,
   "id": "fcbf6c57-f00e-42f9-a22d-af14fe7258f1",
   "metadata": {},
   "outputs": [],
   "source": [
    "mask"
   ]
  },
  {
   "cell_type": "code",
   "execution_count": null,
   "id": "46dfd063-550a-42ce-bd05-17f297d1d815",
   "metadata": {},
   "outputs": [],
   "source": [
    "mask.compute()"
   ]
  },
  {
   "cell_type": "code",
   "execution_count": null,
   "id": "3c5f790e-9b07-4159-95ae-6987dd754f3a",
   "metadata": {},
   "outputs": [],
   "source": [
    "# Plot the MossLichenOnce mask dilated x3 times and eroded x3 times\n",
    "mask.to_array().plot()"
   ]
  },
  {
   "cell_type": "code",
   "execution_count": null,
   "id": "55433528-6e28-42b4-9ad3-8caf6459a384",
   "metadata": {},
   "outputs": [],
   "source": [
    "!date"
   ]
  },
  {
   "cell_type": "markdown",
   "id": "559e2b40-573d-4ca4-9ef9-f10c72db1959",
   "metadata": {
    "tags": []
   },
   "source": [
    "# Make a regridder\n",
    "## The available algorithms are: bilinear, conservative, nearest_s2d (nearest neighbour source to destination), nearest_d2s (or destination to source) and patch (slowest)"
   ]
  },
  {
   "cell_type": "code",
   "execution_count": null,
   "id": "b44df1aa-f43c-4111-923c-90adc739ecd7",
   "metadata": {},
   "outputs": [],
   "source": [
    "# Define the output grid as an xarray Dataset with the same lon-lat as NDVI_AOI (and in the same order)\n",
    "mask_regrid = xr.Dataset({\"lon\": ([\"lon\"], NDVI_AOI.lon.data), \"lat\": ([\"lat\"], NDVI_AOI.lat.data)})"
   ]
  },
  {
   "cell_type": "code",
   "execution_count": null,
   "id": "0874cbda-7082-4379-aaec-7ad2ad6a70f8",
   "metadata": {},
   "outputs": [],
   "source": [
    "mask_regrid.persist()"
   ]
  },
  {
   "cell_type": "markdown",
   "id": "38e1e45a-8148-4a6e-b871-73460609e89d",
   "metadata": {},
   "source": [
    "### Bilinear regridding algorithm"
   ]
  },
  {
   "cell_type": "code",
   "execution_count": null,
   "id": "65578ed0-e42a-401b-852c-e6f6ef97aa80",
   "metadata": {},
   "outputs": [],
   "source": [
    "regridderB = xe.Regridder(mask, mask_regrid, \"bilinear\")"
   ]
  },
  {
   "cell_type": "code",
   "execution_count": null,
   "id": "e264ebf8-2708-4f97-8d90-ebc5cbad0176",
   "metadata": {},
   "outputs": [],
   "source": [
    "# Save the regridder into a local file netCDF file\n",
    "regridderB.to_netcdf('../data/regridderB.nc')"
   ]
  },
  {
   "cell_type": "code",
   "execution_count": null,
   "id": "178d1496-ed62-44be-a9f2-46e2b61a138e",
   "metadata": {},
   "outputs": [],
   "source": [
    "mask"
   ]
  },
  {
   "cell_type": "code",
   "execution_count": null,
   "id": "374594b3-ad61-4b87-9a1f-71cafdac0602",
   "metadata": {},
   "outputs": [],
   "source": [
    "# Apply the regridder to mask\n",
    "mask_regriddedB = regridderB(mask)"
   ]
  },
  {
   "cell_type": "code",
   "execution_count": null,
   "id": "36cd0071-4b8f-4b00-a805-277c12ec80fc",
   "metadata": {},
   "outputs": [],
   "source": [
    "mask_regriddedB"
   ]
  },
  {
   "cell_type": "code",
   "execution_count": null,
   "id": "ad3bc2b4-8d29-4730-9896-b97bbe8625f4",
   "metadata": {},
   "outputs": [],
   "source": [
    "# Plot the regridded mask - Bilinear algorithm\n",
    "mask_regriddedB['MossLichen_mask'].plot()"
   ]
  },
  {
   "cell_type": "markdown",
   "id": "cdbdf0d7-9d86-463f-9575-a6381130265e",
   "metadata": {},
   "source": [
    "### Conservative regridding algorithm"
   ]
  },
  {
   "cell_type": "code",
   "execution_count": null,
   "id": "4aeb572a-a7ff-46c7-995e-f3c4a2d04b34",
   "metadata": {},
   "outputs": [],
   "source": [
    "regridderC = xe.Regridder(mask, mask_regrid, \"conservative\")"
   ]
  },
  {
   "cell_type": "code",
   "execution_count": null,
   "id": "f4c2f793-8bfb-46de-9e52-8de10b91144c",
   "metadata": {},
   "outputs": [],
   "source": [
    "# Save the regridder into a local file netCDF file\n",
    "regridderC.to_netcdf('../data/regridderC.nc')"
   ]
  },
  {
   "cell_type": "code",
   "execution_count": null,
   "id": "f5be9b4a-4d1c-4078-97bd-780d06ff7ce6",
   "metadata": {},
   "outputs": [],
   "source": [
    "# Apply the regridder to mask\n",
    "mask_regriddedC = regridderC(mask)"
   ]
  },
  {
   "cell_type": "code",
   "execution_count": null,
   "id": "253253e5-1f06-4572-896d-50f8d047ed8d",
   "metadata": {},
   "outputs": [],
   "source": [
    "mask_regriddedC"
   ]
  },
  {
   "cell_type": "code",
   "execution_count": null,
   "id": "8e8210f5-24b4-4521-84a4-af83de41d7d3",
   "metadata": {},
   "outputs": [],
   "source": [
    "# Plot the regridded mask - Conservative algorithm\n",
    "mask_regriddedC['MossLichen_mask'].plot()"
   ]
  },
  {
   "cell_type": "markdown",
   "id": "86ab848f-6183-44a8-809b-6001b01ce5e1",
   "metadata": {},
   "source": [
    "### Patch regridding algorithm"
   ]
  },
  {
   "cell_type": "code",
   "execution_count": null,
   "id": "a7ef8a6b-b9c9-451c-955b-8666100810fd",
   "metadata": {},
   "outputs": [],
   "source": [
    "regridderP = xe.Regridder(mask, mask_regrid, \"patch\")"
   ]
  },
  {
   "cell_type": "code",
   "execution_count": null,
   "id": "34011027-eddb-46ae-9d4b-1be0eec8634a",
   "metadata": {},
   "outputs": [],
   "source": [
    "# Save the regridder into a local file netCDF file\n",
    "regridderP.to_netcdf('../data/regridderP.nc')"
   ]
  },
  {
   "cell_type": "code",
   "execution_count": null,
   "id": "18aff0a0-bdc1-4127-b7ad-f8bbc9020add",
   "metadata": {},
   "outputs": [],
   "source": [
    "# Apply the regridder to mask\n",
    "mask_regriddedP = regridderP(mask)"
   ]
  },
  {
   "cell_type": "code",
   "execution_count": null,
   "id": "e5d9ad7a-b79d-43a2-b591-d0274bceeea3",
   "metadata": {},
   "outputs": [],
   "source": [
    "# Plot the regridded mask - Patch algorithm\n",
    "mask_regriddedP['MossLichen_mask'].plot()"
   ]
  },
  {
   "cell_type": "markdown",
   "id": "167a63b7-e80b-45aa-abce-276f79d7fef9",
   "metadata": {},
   "source": [
    "## The patch and bilinear algorithms provide similar results whereas the conservative algorithms \"looses\" a lot of points -> use the bilinear regridding which is faster"
   ]
  },
  {
   "cell_type": "code",
   "execution_count": null,
   "id": "a39d6beb-e2f4-4241-b2e5-cf57bd08ad2d",
   "metadata": {},
   "outputs": [],
   "source": []
  },
  {
   "cell_type": "code",
   "execution_count": null,
   "id": "199c12ac-cc47-4d43-a15f-6ce331a85d9f",
   "metadata": {},
   "outputs": [],
   "source": []
  },
  {
   "cell_type": "code",
   "execution_count": null,
   "id": "22e847d3-ee3c-4d29-b4f1-8d35010ad382",
   "metadata": {},
   "outputs": [],
   "source": []
  },
  {
   "cell_type": "code",
   "execution_count": null,
   "id": "3fe6110f-7bec-443c-a5c3-8bafe8bdba31",
   "metadata": {},
   "outputs": [],
   "source": []
  },
  {
   "cell_type": "code",
   "execution_count": null,
   "id": "f77b6f81-104f-45dd-8dd7-6824dadf06e1",
   "metadata": {},
   "outputs": [],
   "source": []
  },
  {
   "cell_type": "code",
   "execution_count": null,
   "id": "1863a835-5a8a-4cb9-bfde-5ad72bf923ab",
   "metadata": {},
   "outputs": [],
   "source": [
    "# Set a EPSG:4326 Geodetic coordinate reference system\n",
    "mask_MossLichenOnce.rio.write_crs(4326, inplace=True)"
   ]
  },
  {
   "cell_type": "code",
   "execution_count": null,
   "id": "46191800-6cb8-43d3-8270-858532863ebb",
   "metadata": {},
   "outputs": [],
   "source": [
    "# Clip the data with the polygon that has been obtained for Troms & Finnmark\n",
    "mask_MossLichenOnce = mask_MossLichenOnce.rio.clip(AOI_poly, crs=4326)"
   ]
  },
  {
   "cell_type": "code",
   "execution_count": null,
   "id": "b21d43fb-5e7b-44a1-bce1-a97d1cd4bbb2",
   "metadata": {},
   "outputs": [],
   "source": [
    "%%time\n",
    "mask_MossLichenOnce.persist()"
   ]
  },
  {
   "cell_type": "markdown",
   "id": "6c89f696-9f0c-4013-9647-9d55ae8d17a5",
   "metadata": {},
   "source": [
    "# Make a regridder\n",
    "## The available algorithms are: bilinear, conservative, nearest_s2d (nearest neighbour source to destination), nearest_d2s (or destination to source) and patch (slowest)\n",
    "### Bilinear regridding algorithm"
   ]
  },
  {
   "cell_type": "code",
   "execution_count": null,
   "id": "491e68f1-732b-4afe-b17f-599188554faf",
   "metadata": {},
   "outputs": [],
   "source": [
    "# Define the output grid as an xarray Dataset with the same lon-lat as NDVI_AOI (and in the same order)\n",
    "mask_regrid = xr.Dataset({\"lon\": ([\"lon\"], NDVI_AOI.lon.data), \"lat\": ([\"lat\"], NDVI_AOI.lat.data)})"
   ]
  },
  {
   "cell_type": "code",
   "execution_count": null,
   "id": "a53940e4-dc51-4a65-ad77-9afce1579eb4",
   "metadata": {},
   "outputs": [],
   "source": [
    "mask_regrid"
   ]
  },
  {
   "cell_type": "code",
   "execution_count": null,
   "id": "925eb84e-6eb6-48cc-b0ff-85e65d2f1734",
   "metadata": {},
   "outputs": [],
   "source": [
    "# Note that the Regridder works on xarray.Datasets\n",
    "regridderB = xe.Regridder(mask_MossLichenOnce.to_dataset(), mask_regrid, \"bilinear\")"
   ]
  },
  {
   "cell_type": "code",
   "execution_count": null,
   "id": "510101bb-d57c-45fe-a115-b3479a4b1a8c",
   "metadata": {},
   "outputs": [],
   "source": [
    "# Check that the regridder can transform data from the input grid shape to the output grid shape\n",
    "regridderB"
   ]
  },
  {
   "cell_type": "code",
   "execution_count": null,
   "id": "787e0235-6191-45bb-b51e-3f03ac8c64c6",
   "metadata": {},
   "outputs": [],
   "source": [
    "# It is convenient to save the regridder into a local file netCDF file (making it took over 15mn)\n",
    "regridderB.to_netcdf('../data/regridderB.nc')"
   ]
  },
  {
   "cell_type": "code",
   "execution_count": null,
   "id": "f5495d82-9a3e-4503-817e-0455a9d5e7e3",
   "metadata": {},
   "outputs": [],
   "source": [
    "# Apply the regridder to mask_MossLichenOnce\n",
    "mask_MossLichenOnce_regridded = regridderB(mask_MossLichenOnce.chunk({'lon':'-1', 'lat':'-1'}))"
   ]
  },
  {
   "cell_type": "code",
   "execution_count": null,
   "id": "8ebc45c1-de0d-46d6-a4f7-a0f68b739681",
   "metadata": {},
   "outputs": [],
   "source": [
    "mask_MossLichenOnce_regridded"
   ]
  },
  {
   "cell_type": "code",
   "execution_count": null,
   "id": "1fad62de-94cc-43f1-9b60-16706215030a",
   "metadata": {},
   "outputs": [],
   "source": []
  },
  {
   "cell_type": "code",
   "execution_count": null,
   "id": "f4373c5d-1a81-4736-b260-31837f331ea5",
   "metadata": {},
   "outputs": [],
   "source": []
  },
  {
   "cell_type": "code",
   "execution_count": null,
   "id": "c36db478-a25a-43e8-b84c-f7dbe295dc67",
   "metadata": {},
   "outputs": [],
   "source": []
  },
  {
   "cell_type": "code",
   "execution_count": null,
   "id": "1201b257-8496-4127-aaaf-f4534a01be54",
   "metadata": {},
   "outputs": [],
   "source": []
  },
  {
   "cell_type": "code",
   "execution_count": null,
   "id": "abf5b1fa-50fc-4902-8595-d66ace9d1957",
   "metadata": {},
   "outputs": [],
   "source": []
  },
  {
   "cell_type": "code",
   "execution_count": null,
   "id": "5f51e519-7b51-4ce9-bfea-060868cd8414",
   "metadata": {},
   "outputs": [],
   "source": []
  },
  {
   "cell_type": "code",
   "execution_count": null,
   "id": "0258d3d6-e1c8-4b8e-8e7b-d0e8303ee09d",
   "metadata": {},
   "outputs": [],
   "source": [
    "# Multiplot\n",
    "Variables_AOI.hvplot(groupby ='time', subplots=True, cmap=\"RdYlGn\", width=1400, height=600)"
   ]
  },
  {
   "cell_type": "code",
   "execution_count": null,
   "id": "4e702a0a-8664-4b5e-8477-3bc3b7ec0f2d",
   "metadata": {},
   "outputs": [],
   "source": [
    "# Mosses & lichens\n",
    "LichenCF_AOI.hvplot(groupby ='time', cmap=\"RdYlGn\", width=1400, height=600)"
   ]
  },
  {
   "cell_type": "code",
   "execution_count": null,
   "id": "028be0b2-a1c3-4573-a3c6-18fc91fe10a4",
   "metadata": {},
   "outputs": [],
   "source": [
    "# Trees\n",
    "TreeCF_AOI.hvplot(groupby ='time', cmap=\"RdYlGn\", width=1400, height=600)"
   ]
  },
  {
   "cell_type": "code",
   "execution_count": null,
   "id": "21e180f6-4a9f-423f-b1e2-3e9f00859d99",
   "metadata": {},
   "outputs": [],
   "source": [
    "# Mosses & lichens\n",
    "LichenCF_AOI.hvplot(groupby ='time', cmap=\"RdYlGn\", width=1400, height=600)"
   ]
  },
  {
   "cell_type": "code",
   "execution_count": null,
   "id": "70739423-41e8-44f4-b13c-7f0d985f6089",
   "metadata": {},
   "outputs": [],
   "source": [
    "# Shrubs\n",
    "Plot = ShrubCF_AOI.hvplot(groupby ='time', cmap=\"RdYlGn\", width=1400, height=600)\n",
    "Plot.opts(opts.Overlay(title='Copernicus Land Monitoring Service!n Global Land Cover!n Troms & Finnmark!n Shrubs'))"
   ]
  },
  {
   "cell_type": "code",
   "execution_count": null,
   "id": "284904b5-ca95-4639-9a1b-94bc2f92dedb",
   "metadata": {},
   "outputs": [],
   "source": [
    "NDVI_AOI[23].hvplot.hist(cmap=\"RdYlGn\",bins=25, width=800, height=700)"
   ]
  },
  {
   "cell_type": "code",
   "execution_count": null,
   "id": "b13c06b3-d028-42aa-a8cb-901461815269",
   "metadata": {},
   "outputs": [],
   "source": [
    "NDVI = cgls_dsr.NDVI * (1/250) - 0.08"
   ]
  },
  {
   "cell_type": "code",
   "execution_count": null,
   "id": "31a34cd4-4f14-435a-a252-a89ebef50ecd",
   "metadata": {},
   "outputs": [],
   "source": [
    "NDVI[23].hvplot.hist(cmap=\"RdYlGn\",bins=25, width=800, height=700)"
   ]
  },
  {
   "cell_type": "code",
   "execution_count": null,
   "id": "1898ea34-de54-451b-b1b0-7516e461b390",
   "metadata": {},
   "outputs": [],
   "source": [
    "NDVI_monthly = NDVI.groupby(NDVI.time.dt.month).mean()"
   ]
  },
  {
   "cell_type": "code",
   "execution_count": null,
   "id": "6f8b7c23-d6b2-4787-b2f5-4180df34cb75",
   "metadata": {},
   "outputs": [],
   "source": [
    "NDVI_monthly.month"
   ]
  },
  {
   "cell_type": "code",
   "execution_count": null,
   "id": "52d83ced-270e-4f35-849b-e8b641388e21",
   "metadata": {},
   "outputs": [],
   "source": [
    "NDVI_msked = NDVI.where((NDVI >= -0.08) & (NDVI <= 0.92)) # by default where condition is false values are set to NA"
   ]
  },
  {
   "cell_type": "code",
   "execution_count": null,
   "id": "a2252b7f-0f4e-4d93-bfaf-b4414bf6f9ce",
   "metadata": {},
   "outputs": [],
   "source": [
    "NDVI_msked = NDVI_msked.rio.write_crs(4326)"
   ]
  },
  {
   "cell_type": "code",
   "execution_count": null,
   "id": "9100d3e3-b5ff-4e71-b42d-f0c4d038607c",
   "metadata": {},
   "outputs": [],
   "source": [
    "NDVI_msked"
   ]
  },
  {
   "cell_type": "code",
   "execution_count": null,
   "id": "e9fa66cd-431b-4148-a08a-2b2eec4dcba2",
   "metadata": {},
   "outputs": [],
   "source": [
    "# Convert DataArray to Dataset, and float64 to float32\n",
    "NDVI_msked = NDVI_msked.to_dataset().astype('float32')\n",
    "NDVI_msked"
   ]
  },
  {
   "cell_type": "code",
   "execution_count": null,
   "id": "ee34481f-d220-412f-a5a8-73ce35502bec",
   "metadata": {},
   "outputs": [],
   "source": [
    "NDVI_AOI = NDVI_msked.rio.clip(AOI_poly, crs=4326)"
   ]
  },
  {
   "cell_type": "code",
   "execution_count": null,
   "id": "6ec1446b-e27a-443a-8a61-d157c133c4ab",
   "metadata": {},
   "outputs": [],
   "source": [
    "NDVI_AOI.hvplot(groupby ='time', cmap='RdYlGn', width=1400, height=600).hist()"
   ]
  },
  {
   "cell_type": "code",
   "execution_count": null,
   "id": "b56b4cb8-ab51-42fd-8b63-6e95ee83f360",
   "metadata": {},
   "outputs": [],
   "source": [
    "NDVI_AOI.sel(lat=69.012222, lon=23.040833, method='nearest').hvplot(ylim=(-0.08, 0.92))"
   ]
  },
  {
   "cell_type": "code",
   "execution_count": null,
   "id": "d6b7277a-cd89-4667-935a-94dbfe11b076",
   "metadata": {},
   "outputs": [],
   "source": [
    "NDVI_AOI['time']"
   ]
  },
  {
   "cell_type": "code",
   "execution_count": null,
   "id": "2b685fc3-a2aa-4228-a583-712f8157640b",
   "metadata": {},
   "outputs": [],
   "source": [
    "# Read LTS from Swift\n",
    "import s3fs\n",
    "from datetime import datetime\n",
    "fs = s3fs.S3FileSystem(anon=True, client_kwargs={'endpoint_url': 'https://object-store.cloud.muni.cz'})\n",
    "s3path = 's3://foss4g-data/CGLS_LTS_1999_2019/*.nc'\n",
    "remote_files = fs.glob(s3path)"
   ]
  },
  {
   "cell_type": "code",
   "execution_count": null,
   "id": "5985fc25-f70c-4db3-ab75-a4c0a616e24b",
   "metadata": {},
   "outputs": [],
   "source": [
    "remote_files"
   ]
  },
  {
   "cell_type": "code",
   "execution_count": null,
   "id": "5f073b31-0409-4a7d-b008-94d2bbf280d2",
   "metadata": {},
   "outputs": [],
   "source": [
    "def preprocess(ds):\n",
    "    t = datetime.strptime(ds.attrs['identifier'].split(':')[-1].split('_')[1].replace('1999-', ''), \"%Y-%m%d\")\n",
    "    return(ds.assign_coords(time=t).expand_dims('time'))  "
   ]
  },
  {
   "cell_type": "code",
   "execution_count": null,
   "id": "f092cfe5-e768-46bc-a948-5b4541c45a63",
   "metadata": {},
   "outputs": [],
   "source": [
    "# Iterate through remote_files to create a fileset\n",
    "fileset = [fs.open(file) for file in remote_files]\n",
    "NDVI_LTS = xr.open_mfdataset(fileset, preprocess=preprocess, combine='nested', concat_dim=['time'], decode_coords=\"all\")"
   ]
  },
  {
   "cell_type": "code",
   "execution_count": null,
   "id": "ada6f7ed-2f1a-409d-93b4-85fcbb851950",
   "metadata": {},
   "outputs": [],
   "source": [
    "NDVI_LTS"
   ]
  },
  {
   "cell_type": "code",
   "execution_count": null,
   "id": "08f31c6d-b16a-459d-8cf7-4c9f9a31f9d2",
   "metadata": {},
   "outputs": [],
   "source": [
    "import fsspec\n",
    "import s3fs\n",
    "import kerchunk.hdf\n",
    "import xarray as xr"
   ]
  },
  {
   "cell_type": "code",
   "execution_count": null,
   "id": "f46fd77e-e2cf-4180-872a-aebd6e91aa7f",
   "metadata": {},
   "outputs": [],
   "source": [
    "fs = s3fs.S3FileSystem(anon=True,\n",
    "      client_kwargs={\n",
    "         'endpoint_url': 'https://object-store.cloud.muni.cz'\n",
    "      })"
   ]
  },
  {
   "cell_type": "code",
   "execution_count": null,
   "id": "0aacaab8-dec0-43c2-9ecc-dcbc13086b39",
   "metadata": {},
   "outputs": [],
   "source": [
    "remote_filename = 'https://object-store.cloud.muni.cz/swift/v1/foss4g-data/CGLS_LTS_1999_2019/c_gls_NDVI-LTS_1999-2019-1221_GLOBE_VGT-PROBAV_V3.0.1.nc'\n",
    "with fsspec.open(remote_filename) as inf:\n",
    "    h5chunks = kerchunk.hdf.SingleHdf5ToZarr(inf, remote_filename, inline_threshold=100)\n",
    "    chunk_info = h5chunks.translate()"
   ]
  },
  {
   "cell_type": "code",
   "execution_count": null,
   "id": "9264279d-7ae8-4534-b1b2-9e316a11d637",
   "metadata": {},
   "outputs": [],
   "source": [
    "LTS = xr.open_mfdataset(\n",
    "    \"reference://\", engine=\"zarr\",\n",
    "    backend_kwargs={\n",
    "        \"storage_options\": {\n",
    "            \"fo\": chunk_info,\n",
    "        },\n",
    "        \"consolidated\": False\n",
    "    }\n",
    ")\n",
    "LTS"
   ]
  },
  {
   "cell_type": "code",
   "execution_count": null,
   "id": "69b51bb9-04fa-43e4-b0fc-ae1c4242fb07",
   "metadata": {},
   "outputs": [],
   "source": [
    "fs.ls('foss4g-data/CGLS_LTS_1999_2019/')"
   ]
  },
  {
   "cell_type": "code",
   "execution_count": null,
   "id": "b9e5f1e5-82f2-452c-8b8b-ae872770a730",
   "metadata": {},
   "outputs": [],
   "source": [
    "from datetime import datetime"
   ]
  },
  {
   "cell_type": "code",
   "execution_count": null,
   "id": "4aa3a9c1-7719-46ed-b453-2893eb345b9d",
   "metadata": {},
   "outputs": [],
   "source": [
    "%%time\n",
    "s3path = 's3://foss4g-data/CGLS_LTS_1999_2019/c_gls_NDVI-LTS_1999-2019-*.nc'\n",
    "chunk_info_list = []\n",
    "time_list = []\n",
    "\n",
    "for file in fs.glob(s3path):\n",
    "    url = 'https://object-store.cloud.muni.cz/swift/v1/' + file\n",
    "    t = datetime.strptime(file.split('/')[-1].split('_')[3].replace('1999-', ''), \"%Y-%m%d\")\n",
    "    time_list.append(t)\n",
    "    print('working on ', file)\n",
    "    with fsspec.open(url) as inf:\n",
    "        h5chunks = kerchunk.hdf.SingleHdf5ToZarr(inf, url, inline_threshold=100)\n",
    "        chunk_info_list.append(h5chunks.translate())"
   ]
  },
  {
   "cell_type": "code",
   "execution_count": null,
   "id": "f4f79308-84fc-457f-8196-2ef8b16d5498",
   "metadata": {},
   "outputs": [],
   "source": [
    "%%time\n",
    "from kerchunk.combine import MultiZarrToZarr\n",
    "mzz = MultiZarrToZarr(\n",
    "    chunk_info_list,\n",
    "    coo_map={'INDEX': 'INDEX'},\n",
    "    identical_dims=['crs'],\n",
    "    concat_dims=[\"INDEX\"],\n",
    ")\n",
    "\n",
    "out = mzz.translate()"
   ]
  },
  {
   "cell_type": "code",
   "execution_count": null,
   "id": "625a8f18-e7c7-4d78-aa2e-26b997dddfa2",
   "metadata": {},
   "outputs": [],
   "source": [
    "%%time\n",
    "LTS = xr.open_mfdataset(\n",
    "    \"reference://\", engine=\"zarr\",\n",
    "    backend_kwargs={\n",
    "        \"storage_options\": {\n",
    "            \"fo\": out,\n",
    "        },\n",
    "        \"consolidated\": False\n",
    "    }\n",
    ")\n",
    "LTS"
   ]
  },
  {
   "cell_type": "code",
   "execution_count": null,
   "id": "2ccbfe9e-f754-4a85-9878-aeca6c13292c",
   "metadata": {},
   "outputs": [],
   "source": [
    "import json"
   ]
  },
  {
   "cell_type": "code",
   "execution_count": null,
   "id": "fff50f10-ff0c-4b25-b2e1-77c551f1417c",
   "metadata": {},
   "outputs": [],
   "source": [
    "jsonfile='test.json'\n",
    "with open(jsonfile, mode='w') as f :\n",
    "    json.dump(out, f)"
   ]
  },
  {
   "cell_type": "code",
   "execution_count": null,
   "id": "21a8c490-a8c2-41aa-83c0-27eb81346b6e",
   "metadata": {},
   "outputs": [],
   "source": [
    "import xarray as xr\n",
    "LTS = xr.open_mfdataset(\n",
    "    \"reference://\", engine=\"zarr\",\n",
    "    backend_kwargs={\n",
    "        \"storage_options\": {\n",
    "            \"fo\":'./test.json',\n",
    "        },\n",
    "        \"consolidated\": False\n",
    "    }\n",
    ")\n",
    "LTS"
   ]
  },
  {
   "cell_type": "code",
   "execution_count": null,
   "id": "ef98c9dd-6dd3-44b3-8908-705d36c00276",
   "metadata": {},
   "outputs": [],
   "source": [
    "catalogue=\"https://object-store.cloud.muni.cz/swift/v1/foss4g-catalogue/c_gls_NDVI-LTS_1999-2019.json\"\n",
    "NDVI_LTS = xr.open_mfdataset(\n",
    "    \"reference://\", engine=\"zarr\",\n",
    "    backend_kwargs={\n",
    "        \"storage_options\": {\n",
    "            \"fo\":catalogue\n",
    "                    },\n",
    "        \"consolidated\": False\n",
    "    }\n",
    ")\n",
    "NDVI_LTS"
   ]
  },
  {
   "cell_type": "code",
   "execution_count": null,
   "id": "c6497f16-85d3-4583-a70d-9c971c6cdee9",
   "metadata": {},
   "outputs": [],
   "source": [
    "LTS = NDVI_LTS.rio.write_crs(4326)"
   ]
  },
  {
   "cell_type": "code",
   "execution_count": null,
   "id": "9b7b4a68-4459-4878-ab71-c1e80142fa84",
   "metadata": {},
   "outputs": [],
   "source": [
    "LTS = LTS.sel(lat=slice(AOI_max_lat,AOI_min_lat) ,lon=slice(AOI_min_lon,AOI_max_lon))"
   ]
  },
  {
   "cell_type": "code",
   "execution_count": null,
   "id": "fbfc3a2b-ae5c-4244-b22f-f5ad18a656b9",
   "metadata": {},
   "outputs": [],
   "source": [
    "LTS = LTS.rio.clip(AOI_poly, crs=4326)"
   ]
  },
  {
   "cell_type": "code",
   "execution_count": null,
   "id": "7aa4fe3e-48d4-4caf-9c94-d62b5def31af",
   "metadata": {},
   "outputs": [],
   "source": [
    "LTS"
   ]
  },
  {
   "cell_type": "code",
   "execution_count": null,
   "id": "bf21a2be-2c80-4fbb-a5d7-d2416d82669b",
   "metadata": {},
   "outputs": [],
   "source": [
    "#LTS = LTS.chunk({'time':-1, 'lat':'5MB', 'lon':'5MB'})"
   ]
  },
  {
   "cell_type": "code",
   "execution_count": null,
   "id": "373b1a6e-21b7-432d-a0c0-803e21037e55",
   "metadata": {},
   "outputs": [],
   "source": [
    "LTS['min'][5].hvplot(geo=True)"
   ]
  },
  {
   "cell_type": "code",
   "execution_count": null,
   "id": "1d1016be-5ebb-414b-9b0f-47bfc5d91dc2",
   "metadata": {},
   "outputs": [],
   "source": [
    "NDVI_LTS.to_zarr(rf'./data/c_gls_NDVI-LTS_1999-2019_Troms-Finnmark_VGT-PROBAV_V3.zarr', mode='w', )"
   ]
  },
  {
   "cell_type": "code",
   "execution_count": null,
   "id": "4f6c7aa1-8c0c-4094-8e52-6c87feaf3185",
   "metadata": {},
   "outputs": [],
   "source": [
    "# Store zarr is /data/jwd/main/048/543/48543996/working/jupyter/data\n",
    "LTS = xr.open_zarr(rf'./data/c_gls_NDVI-LTS_1999-2019_Troms-Finnmark_VGT-PROBAV_V3.zarr')"
   ]
  },
  {
   "cell_type": "code",
   "execution_count": null,
   "id": "885bed38-9a28-4c45-84e4-0c9af30d0ddb",
   "metadata": {},
   "outputs": [],
   "source": [
    "LTS"
   ]
  },
  {
   "cell_type": "code",
   "execution_count": null,
   "id": "8faa6805-9d33-464e-999a-d6b6b2345ba9",
   "metadata": {},
   "outputs": [],
   "source": [
    "# Continue from here"
   ]
  },
  {
   "cell_type": "code",
   "execution_count": null,
   "id": "bafbd338-f0ad-4aa1-86e4-ed03362a8278",
   "metadata": {},
   "outputs": [],
   "source": [
    "LTS['time']"
   ]
  },
  {
   "cell_type": "code",
   "execution_count": null,
   "id": "3b54ab6e-d3e0-4b9a-b65e-7bd1767e0b2f",
   "metadata": {},
   "outputs": [],
   "source": [
    "dates_2022 = pd.date_range('20220101', '20221231')"
   ]
  },
  {
   "cell_type": "code",
   "execution_count": null,
   "id": "6d6df6f6-94e9-4b06-bee5-1334ec0e8cdf",
   "metadata": {},
   "outputs": [],
   "source": [
    "decadie = dates_2022[np.isin(dates_2022.day, [1,11,21])]\n",
    "decadie"
   ]
  },
  {
   "cell_type": "code",
   "execution_count": null,
   "id": "5f6b7659-ec8e-4233-946b-01fcc120a6aa",
   "metadata": {},
   "outputs": [],
   "source": [
    "LTS = LTS.assign_coords(time=decadie)\n",
    "LTS"
   ]
  },
  {
   "cell_type": "code",
   "execution_count": null,
   "id": "a9345a63-e23d-4bd9-9855-c2c912a07952",
   "metadata": {},
   "outputs": [],
   "source": [
    "# Change dates from 2019 to 2022\n",
    "#LTS = LTS.assign_coords(time = LTS.time + np.timedelta64(1096, 'D'))"
   ]
  },
  {
   "cell_type": "code",
   "execution_count": null,
   "id": "39a414c3-a2ba-47e4-bd2d-7b3857d1641a",
   "metadata": {},
   "outputs": [],
   "source": [
    "LTS['max'][20].hvplot(width=1400, height=600)"
   ]
  },
  {
   "cell_type": "code",
   "execution_count": null,
   "id": "117a9db5-5df8-4dee-b514-963f42907c4e",
   "metadata": {},
   "outputs": [],
   "source": [
    "# Kautokeino\n",
    "POI_lat = 69.01894772737091\n",
    "POI_lon = 23.046880518262814\n",
    "# Karasjok\n",
    "#POI_lat = 69.47223\n",
    "#POI_lon = 25.51885"
   ]
  },
  {
   "cell_type": "code",
   "execution_count": null,
   "id": "a8edc584-4f61-4d6e-bd7f-96e07e80af14",
   "metadata": {},
   "outputs": [],
   "source": [
    "LTS_NDVI_POI = LTS.sel(lat=POI_lat, lon=POI_lon, method='nearest')"
   ]
  },
  {
   "cell_type": "code",
   "execution_count": null,
   "id": "36ce7db0-37b4-40df-9a41-c773482d1ceb",
   "metadata": {},
   "outputs": [],
   "source": [
    "LTS_NDVI_POI['mean'].values"
   ]
  },
  {
   "cell_type": "code",
   "execution_count": null,
   "id": "67fcfb49-a119-461a-80a9-428a30247e71",
   "metadata": {},
   "outputs": [],
   "source": [
    "POI_min = LTS_NDVI_POI['min']\n",
    "POI_max = LTS_NDVI_POI['max']\n",
    "POI_std = LTS_NDVI_POI['stdev']\n",
    "POI_mean = LTS_NDVI_POI['mean']\n",
    "POI = NDVI_AOI.sel(lat=POI_lat, lon=POI_lon, method='nearest')"
   ]
  },
  {
   "cell_type": "code",
   "execution_count": null,
   "id": "bcce3f38-02ba-476c-b3b0-2ac4338ed3f7",
   "metadata": {},
   "outputs": [],
   "source": [
    "fig = plt.figure(1, figsize=[15, 5])\n",
    "ax=fig.add_subplot(111)\n",
    "p = {}\n",
    "for stat in ['max', 'min', 'mean', 'median']:\n",
    "    p[stat] = LTS_NDVI_POI[stat].sel(time=slice('2022-01-01', '2022-12-31')).plot(ax=ax)\n",
    "\n",
    "ps = POI.plot(ax=ax, color='green', linestyle='dashed', linewidth=4)\n",
    "ax.legend((p['max'], p['min'], p['mean'], p['median'], ps) , labels=('Max', 'Min', 'Mean', 'Median', 'NDVI'), \n",
    "                                                             loc = 'upper left')\n",
    "ax.set_ylim([0, 1])\n",
    "ax.set_title(\"\")\n",
    "\n",
    "plt.title(\"NDVI values in 2022 compared to statistics for the period 1999-2019\")"
   ]
  },
  {
   "cell_type": "code",
   "execution_count": null,
   "id": "98175fa8-a7a2-4781-bc6a-bae9d982fd3d",
   "metadata": {},
   "outputs": [],
   "source": [
    "(POI.hvplot(width=1400, height=700, label='NDVI') *\n",
    " POI_mean.hvplot(c='grey', label='mean LTS 1999-2019', alpha=0.2, line_dash='dashed') *\n",
    " POI_min.hvplot(c='b',label='min LTS 1999-2019', alpha=0.2, line_dash='dashed') *\n",
    " POI_max.hvplot(c='r', label='Max LTS 1999-2019', alpha=0.2, line_dash='dashed') *\n",
    " hv.Area((POI_mean.time, POI_mean - POI_std, POI_mean + POI_std ), vdims=['- Std', '+ Std'], label='Standard deviation LTS 1999-2019',).opts( color='blue', alpha=0.2))\\\n",
    "    .opts(title=f\"CGLS S3 300m NDVI fluctuation over the year 2022 in comparison with CGLS Long Term Statistics\\nPoint of interest Lat {np.round(POI.lat.data,2)} Lon {np.round(POI.lon.data,2)}\",\n",
    "          legend_position='bottom_right')"
   ]
  },
  {
   "cell_type": "code",
   "execution_count": null,
   "id": "1e1579eb-390c-44bc-b18b-9ddb5cdb057f",
   "metadata": {},
   "outputs": [],
   "source": [
    "LTS = LTS.rio.write_crs(4326)"
   ]
  },
  {
   "cell_type": "code",
   "execution_count": null,
   "id": "67895b3a-9828-4f0b-8fb4-b5bb9d0b1a87",
   "metadata": {},
   "outputs": [],
   "source": [
    "LTS = LTS.rio.clip(AOI_poly, crs=4326)"
   ]
  },
  {
   "cell_type": "markdown",
   "id": "dc2c1fa8-36a4-429a-b0a2-4861ee0a0041",
   "metadata": {},
   "source": [
    "# Regrid from 300m to 1km (i.e. LTS resolution)"
   ]
  },
  {
   "cell_type": "code",
   "execution_count": null,
   "id": "2ce68b54-f8b4-436f-829e-5459f3a98d49",
   "metadata": {},
   "outputs": [],
   "source": [
    "NDVI_1k = NDVI_AOI.rio.reproject_match(LTS)"
   ]
  },
  {
   "cell_type": "code",
   "execution_count": null,
   "id": "fc92f45e-4f68-4055-833b-a5748ba2fd3a",
   "metadata": {},
   "outputs": [],
   "source": [
    "NDVI_1k.coords"
   ]
  },
  {
   "cell_type": "code",
   "execution_count": null,
   "id": "e442bbed-1ed4-4f9b-b393-42c570697fac",
   "metadata": {},
   "outputs": [],
   "source": [
    "# Latitude (and perhaps also longitude) values are slightly different between the two datasets -> reassign to avoid issues\n",
    "NDVI_1k = NDVI_1k.assign_coords(lat=LTS.lat, lon=LTS.lon)\n",
    "NDVI_1k"
   ]
  },
  {
   "cell_type": "code",
   "execution_count": null,
   "id": "53ce081f-3b40-42da-a448-db895b019bfa",
   "metadata": {},
   "outputs": [],
   "source": [
    "NDVI_1k.coords"
   ]
  },
  {
   "cell_type": "code",
   "execution_count": null,
   "id": "e53b6b49-b967-4307-a891-a1d85d93dfe9",
   "metadata": {},
   "outputs": [],
   "source": [
    "NDVI_1k.hvplot(groupby='time', cmap='RdYlGn', width=1400, height=600)"
   ]
  },
  {
   "cell_type": "markdown",
   "id": "5e804fbb-eb4e-42b1-a60e-cbd5ba910a31",
   "metadata": {},
   "source": [
    "## The Vegetation COndition Index (VCI) compares the current NDVI to the range of values observed in the same period in previous years"
   ]
  },
  {
   "cell_type": "code",
   "execution_count": null,
   "id": "c0fab081-feb8-4245-af9a-731b168616e5",
   "metadata": {},
   "outputs": [],
   "source": [
    "VCI = ((NDVI_1k - LTS['min']) / (LTS['max'] - LTS['min'])) * 100\n",
    "VCI.where (VCI > 100) == 100\n",
    "VCI.where (VCI < 0) == 0"
   ]
  },
  {
   "cell_type": "code",
   "execution_count": null,
   "id": "57239d58-9fad-4ab3-be18-c4147e0ce85f",
   "metadata": {},
   "outputs": [],
   "source": [
    "VCI.name = 'VCI'\n",
    "VCI"
   ]
  },
  {
   "cell_type": "code",
   "execution_count": null,
   "id": "980f049b-9e6b-4e16-ae1f-86afd8d15d47",
   "metadata": {},
   "outputs": [],
   "source": [
    "VCI.hvplot(groupby='time', cmap='RdYlGn', width=1400, height=600)"
   ]
  },
  {
   "cell_type": "code",
   "execution_count": null,
   "id": "5b33fd3f-6f59-4fcd-86c3-712fde7e9e5a",
   "metadata": {},
   "outputs": [],
   "source": [
    "VCI.sel(lat=POI_lat, lon=POI_lon, method='nearest')"
   ]
  },
  {
   "cell_type": "code",
   "execution_count": null,
   "id": "560cee9b-7cde-47b0-ac75-751e6389582a",
   "metadata": {},
   "outputs": [],
   "source": [
    "VCI.sel(lat=POI_lat, lon=POI_lon, method='nearest').hvplot.hist()"
   ]
  },
  {
   "cell_type": "code",
   "execution_count": null,
   "id": "9cd20fec-cb20-462c-a545-4691870d57dc",
   "metadata": {},
   "outputs": [],
   "source": [
    "VCI.plot()"
   ]
  },
  {
   "cell_type": "code",
   "execution_count": null,
   "id": "f8a18988-2af4-4f62-acb4-08f02ff10a46",
   "metadata": {},
   "outputs": [],
   "source": [
    "VCI.isel(time=-1).hvplot.contourf(cmap='RdYlGn', alpha=0.7,\n",
    "                                  levels=[-200,-100,-50, 0,50,100,200],\n",
    "                                  geo=True, tiles= 'CartoLight',\n",
    "                                  width=1400, height=600,\n",
    "                                  title=f'CGLS VCI Troms-Finnmark {VCI.isel(time=-1).time.dt.date.data}')"
   ]
  },
  {
   "cell_type": "code",
   "execution_count": null,
   "id": "cd99bfb6-00ac-445f-9f82-f63467e1ce77",
   "metadata": {},
   "outputs": [],
   "source": []
  }
 ],
 "metadata": {
  "kernelspec": {
   "display_name": "Python 3 (ipykernel)",
   "language": "python",
   "name": "python3"
  },
  "language_info": {
   "codemirror_mode": {
    "name": "ipython",
    "version": 3
   },
   "file_extension": ".py",
   "mimetype": "text/x-python",
   "name": "python",
   "nbconvert_exporter": "python",
   "pygments_lexer": "ipython3",
   "version": "3.10.9"
  }
 },
 "nbformat": 4,
 "nbformat_minor": 5
}
